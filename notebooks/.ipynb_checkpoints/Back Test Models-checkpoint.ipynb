{
 "cells": [
  {
   "cell_type": "code",
   "execution_count": 1,
   "metadata": {
    "collapsed": true
   },
   "outputs": [],
   "source": [
    "import pandas as pd \n",
    "from sqlalchemy import create_engine\n",
    "import matplotlib.pyplot as plt  \n",
    "import numpy as np\n",
    "from scipy import stats\n",
    "import math\n",
    "from sklearn.naive_bayes import GaussianNB\n",
    "from sklearn.neighbors import KNeighborsClassifier\n",
    "from sklearn.ensemble import RandomForestClassifier\n",
    "from sklearn.ensemble import ExtraTreesClassifier\n",
    "from sklearn.tree import DecisionTreeClassifier\n",
    "from sklearn.svm import SVC\n",
    "from sklearn.linear_model import SGDClassifier\n",
    "import datetime\n",
    "from sklearn.ensemble import GradientBoostingClassifier\n",
    "from sklearn.metrics import confusion_matrix, classification_report\n",
    "from sklearn.metrics import roc_curve, auc\n",
    "from imblearn.over_sampling import SMOTE\n",
    "from sklearn.model_selection import cross_val_score, KFold\n",
    "from sklearn.model_selection import GridSearchCV\n",
    "from sklearn.model_selection import train_test_split\n",
    "from sklearn.metrics import precision_score\n",
    "from scipy.stats import norm\n",
    "import time\n",
    "from sklearn.metrics import accuracy_score\n",
    "from sklearn.preprocessing import StandardScaler\n",
    "from sklearn.preprocessing import MinMaxScaler\n",
    "from sqlalchemy import create_engine\n",
    "\n",
    "\n",
    "pd.set_option('display.max_columns', 500)"
   ]
  },
  {
   "cell_type": "code",
   "execution_count": 2,
   "metadata": {},
   "outputs": [],
   "source": [
    "import pickle\n",
    "df = pickle.load(open('../back_test_sample.sav', 'rb'))\n",
    "last_row = 0\n",
    "for index, row in df.dropna().iterrows():\n",
    "    ok = True\n",
    "    if last_row == 0:\n",
    "        last_row = row['date']\n",
    "        continue\n",
    "    if row['date'] - last_row  != 14400:\n",
    "        print('Not consistent')\n",
    "        print(row.date)\n",
    "        print(last_row)\n",
    "    #df.loc[df.index==index, 'dif'] = row['date'] - last_row \n",
    "    last_row = row['date']\n",
    "#df[['date', 'dif']]"
   ]
  },
  {
   "cell_type": "code",
   "execution_count": 3,
   "metadata": {},
   "outputs": [
    {
     "data": {
      "image/png": "[encoded data removed]",
      "text/plain": [
       "<matplotlib.figure.Figure at 0x1a0a242f98>"
      ]
     },
     "metadata": {},
     "output_type": "display_data"
    }
   ],
   "source": [
    "plt.hist(df.target_log_return_6, bins=45)\n",
    "plt.hist(df.target_log_return_5, bins=45)\n",
    "plt.hist(df.target_log_return_4, bins=45)\n",
    "plt.hist(df.target_log_return_3, bins=45)\n",
    "plt.hist(df.target_log_return_2, bins=45)\n",
    "plt.hist(df.target_log_return_1, bins=45)\n",
    "plt.show()"
   ]
  },
  {
   "cell_type": "code",
   "execution_count": 4,
   "metadata": {
    "collapsed": true
   },
   "outputs": [],
   "source": [
    "def get_x_y(target_value, features_df):\n",
    "    targets = ['target_log_return_1', 'target_log_return_2', 'target_log_return_3',\n",
    "                'target_log_return_4', 'target_log_return_5', 'target_log_return_6',]\n",
    "    \n",
    "    mask = (\n",
    "       ((features_df['target_log_return_1'] >= target_value)\n",
    "        | (features_df['target_log_return_2'] >= target_value) \n",
    "        | (features_df['target_log_return_3'] >= target_value) \n",
    "        | (features_df['target_log_return_4'] >= target_value)\n",
    "        | (features_df['target_log_return_5'] >= target_value)\n",
    "        | (features_df['target_log_return_6'] >= target_value))\n",
    "           )\n",
    "    features_df.loc[mask, 'target_sign'] = 1\n",
    "    features_df.loc[~mask, 'target_sign'] = 0\n",
    "    \n",
    "    drop_columns = ['coin', 'date', 'period', \n",
    "                'high', 'low', 'open', 'close', 'volume', 'quote_volume',\n",
    "                'weightedAverage',\n",
    "                'BBUpper', 'BBLower', 'BBMiddle',\n",
    "                'EMA9', 'EMA12', 'EMA26', 'EMA50',\n",
    "                'SMA9', 'SMA12', 'SMA26', 'SMA50',\n",
    "                'target_log_return_1', 'target_log_return_2', 'target_log_return_3',\n",
    "                'target_log_return_4', 'target_log_return_5', 'target_log_return_6',\n",
    "              'mean_return', 'variance', 'stdev'\n",
    "               ]\n",
    "\n",
    "    # Preparing dataframe\n",
    "    clean_df = features_df.drop(drop_columns, axis=1).copy()\n",
    "    # Defining Features (X) and Target Variable (y)\n",
    "    \n",
    "    returns = []\n",
    "    for t in targets:\n",
    "        returns.append(features_df.loc[features_df['target_sign'] == 0][t].values)\n",
    "\n",
    "    flat_missed_list = [item for sublist in returns for item in sublist if not math.isnan(item)]\n",
    "\n",
    "    returns = []\n",
    "    for t in targets:\n",
    "        returns.append(features_df.loc[features_df['target_sign'] == 1][t].values)\n",
    "\n",
    "    flat_list = [item for sublist in returns for item in sublist if not math.isnan(item)]\n",
    "    \n",
    "    \n",
    "    X = clean_df.drop(['target_sign'], axis =1)\n",
    "    y = clean_df[['target_sign']]\n",
    "    \n",
    "    return X, y, flat_missed_list, flat_list\n",
    "    \n",
    "    "
   ]
  },
  {
   "cell_type": "code",
   "execution_count": 5,
   "metadata": {},
   "outputs": [],
   "source": [
    "def run_model(X_sample, y_sample, target_value, threshold,  model):\n",
    "    scaler = MinMaxScaler().fit(X_sample)\n",
    "    X_sample = scaler.transform(X_sample)\n",
    "    # Split Train, Test\n",
    "    X_train, X_test = X_sample[:math.floor(len(X_sample) * 0.75)], X_sample[math.ceil(len(X_sample) * 0.75):]\n",
    "    y_train, y_test = y_sample.iloc[:math.floor(len(y_sample) * 0.75)], y_sample.iloc[math.ceil(len(y_sample) * 0.75):]\n",
    "\n",
    "    # Rebalance Samples\n",
    "    oversampler = SMOTE(random_state=42)\n",
    "    X_train, y_train = oversampler.fit_sample(X_train, y_train.target_sign)\n",
    "    # (Re) define Models\n",
    "    model.fit(X_train, y_train)\n",
    "    predicted_proba = model.predict_proba(X_test)\n",
    "    predicted = (predicted_proba[:, 1] >= threshold).astype('int')\n",
    "    precision = precision_score(y_test, predicted)\n",
    "    train_acc = accuracy_score(y_test, predicted)\n",
    "    return {\n",
    "        'Precision': precision,\n",
    "        'Accuracy': train_acc,\n",
    "        'Trades': np.sum(predicted),\n",
    "        'Real Profits': np.sum(y_test)[0],\n",
    "        'Target': target_value,\n",
    "        'Scaler': scaler,\n",
    "        'Model': model\n",
    "    }"
   ]
  },
  {
   "cell_type": "code",
   "execution_count": 6,
   "metadata": {
    "collapsed": true
   },
   "outputs": [],
   "source": [
    "def estimate_best_stop_loss(flat_missed_list, flat_list, TP, P):\n",
    "    risk_free = ((1 + 0.065) ** (1/252) - 1)\n",
    "    simulations = []\n",
    "    ps = 0.05\n",
    "    while ps < 1:\n",
    "        SL = np.percentile(flat_missed_list, ps*100)\n",
    "        if SL < -3 * TP or SL > -0.01 :\n",
    "            ps += 0.05\n",
    "            continue\n",
    "        P_stop_loss_right = len([f for f in flat_list if f <= SL])/len(flat_list)\n",
    "        Mean_return_wrong = np.percentile(flat_missed_list, 15)\n",
    "        ER = P * (1 - P_stop_loss_right) * TP + P * P_stop_loss_right * SL + (1 - P) * (1 - ps) * Mean_return_wrong  + (1 - P) * ps * SL\n",
    "        simulations.append({\n",
    "            'ER': ER,\n",
    "            'Probability Stop Loss Miss': ps,\n",
    "            'Probability Stop Loss Right': P_stop_loss_right,\n",
    "            'Stop_Loss': SL,\n",
    "            'Multiple': ER/risk_free,\n",
    "            'Precision': P,\n",
    "            'Take_profit': TP\n",
    "        })\n",
    "        ps += 0.05\n",
    "    return sorted(simulations, key = lambda i: i['ER'], reverse=True)[0]\n",
    "    "
   ]
  },
  {
   "cell_type": "code",
   "execution_count": 7,
   "metadata": {
    "scrolled": true
   },
   "outputs": [
    {
     "name": "stderr",
     "output_type": "stream",
     "text": [
      "/Users/macbookpro/anaconda2/envs/cryptocurrency-analysis/lib/python3.6/site-packages/sklearn/metrics/classification.py:1135: UndefinedMetricWarning: Precision is ill-defined and being set to 0.0 due to no predicted samples.\n",
      "  'precision', 'predicted', average, warn_for)\n",
      "/Users/macbookpro/anaconda2/envs/cryptocurrency-analysis/lib/python3.6/site-packages/sklearn/metrics/classification.py:1135: UndefinedMetricWarning: Precision is ill-defined and being set to 0.0 due to no predicted samples.\n",
      "  'precision', 'predicted', average, warn_for)\n",
      "/Users/macbookpro/anaconda2/envs/cryptocurrency-analysis/lib/python3.6/site-packages/sklearn/metrics/classification.py:1135: UndefinedMetricWarning: Precision is ill-defined and being set to 0.0 due to no predicted samples.\n",
      "  'precision', 'predicted', average, warn_for)\n",
      "/Users/macbookpro/anaconda2/envs/cryptocurrency-analysis/lib/python3.6/site-packages/sklearn/metrics/classification.py:1135: UndefinedMetricWarning: Precision is ill-defined and being set to 0.0 due to no predicted samples.\n",
      "  'precision', 'predicted', average, warn_for)\n",
      "/Users/macbookpro/anaconda2/envs/cryptocurrency-analysis/lib/python3.6/site-packages/sklearn/metrics/classification.py:1135: UndefinedMetricWarning: Precision is ill-defined and being set to 0.0 due to no predicted samples.\n",
      "  'precision', 'predicted', average, warn_for)\n",
      "/Users/macbookpro/anaconda2/envs/cryptocurrency-analysis/lib/python3.6/site-packages/sklearn/metrics/classification.py:1135: UndefinedMetricWarning: Precision is ill-defined and being set to 0.0 due to no predicted samples.\n",
      "  'precision', 'predicted', average, warn_for)\n",
      "/Users/macbookpro/anaconda2/envs/cryptocurrency-analysis/lib/python3.6/site-packages/sklearn/metrics/classification.py:1135: UndefinedMetricWarning: Precision is ill-defined and being set to 0.0 due to no predicted samples.\n",
      "  'precision', 'predicted', average, warn_for)\n",
      "/Users/macbookpro/anaconda2/envs/cryptocurrency-analysis/lib/python3.6/site-packages/sklearn/metrics/classification.py:1135: UndefinedMetricWarning: Precision is ill-defined and being set to 0.0 due to no predicted samples.\n",
      "  'precision', 'predicted', average, warn_for)\n",
      "/Users/macbookpro/anaconda2/envs/cryptocurrency-analysis/lib/python3.6/site-packages/sklearn/metrics/classification.py:1135: UndefinedMetricWarning: Precision is ill-defined and being set to 0.0 due to no predicted samples.\n",
      "  'precision', 'predicted', average, warn_for)\n",
      "/Users/macbookpro/anaconda2/envs/cryptocurrency-analysis/lib/python3.6/site-packages/sklearn/metrics/classification.py:1135: UndefinedMetricWarning: Precision is ill-defined and being set to 0.0 due to no predicted samples.\n",
      "  'precision', 'predicted', average, warn_for)\n",
      "/Users/macbookpro/anaconda2/envs/cryptocurrency-analysis/lib/python3.6/site-packages/sklearn/metrics/classification.py:1135: UndefinedMetricWarning: Precision is ill-defined and being set to 0.0 due to no predicted samples.\n",
      "  'precision', 'predicted', average, warn_for)\n",
      "/Users/macbookpro/anaconda2/envs/cryptocurrency-analysis/lib/python3.6/site-packages/sklearn/metrics/classification.py:1135: UndefinedMetricWarning: Precision is ill-defined and being set to 0.0 due to no predicted samples.\n",
      "  'precision', 'predicted', average, warn_for)\n",
      "/Users/macbookpro/anaconda2/envs/cryptocurrency-analysis/lib/python3.6/site-packages/sklearn/metrics/classification.py:1135: UndefinedMetricWarning: Precision is ill-defined and being set to 0.0 due to no predicted samples.\n",
      "  'precision', 'predicted', average, warn_for)\n",
      "/Users/macbookpro/anaconda2/envs/cryptocurrency-analysis/lib/python3.6/site-packages/sklearn/metrics/classification.py:1135: UndefinedMetricWarning: Precision is ill-defined and being set to 0.0 due to no predicted samples.\n",
      "  'precision', 'predicted', average, warn_for)\n",
      "/Users/macbookpro/anaconda2/envs/cryptocurrency-analysis/lib/python3.6/site-packages/sklearn/metrics/classification.py:1135: UndefinedMetricWarning: Precision is ill-defined and being set to 0.0 due to no predicted samples.\n",
      "  'precision', 'predicted', average, warn_for)\n",
      "/Users/macbookpro/anaconda2/envs/cryptocurrency-analysis/lib/python3.6/site-packages/sklearn/metrics/classification.py:1135: UndefinedMetricWarning: Precision is ill-defined and being set to 0.0 due to no predicted samples.\n",
      "  'precision', 'predicted', average, warn_for)\n",
      "/Users/macbookpro/anaconda2/envs/cryptocurrency-analysis/lib/python3.6/site-packages/sklearn/metrics/classification.py:1135: UndefinedMetricWarning: Precision is ill-defined and being set to 0.0 due to no predicted samples.\n",
      "  'precision', 'predicted', average, warn_for)\n",
      "/Users/macbookpro/anaconda2/envs/cryptocurrency-analysis/lib/python3.6/site-packages/sklearn/metrics/classification.py:1135: UndefinedMetricWarning: Precision is ill-defined and being set to 0.0 due to no predicted samples.\n",
      "  'precision', 'predicted', average, warn_for)\n",
      "/Users/macbookpro/anaconda2/envs/cryptocurrency-analysis/lib/python3.6/site-packages/sklearn/metrics/classification.py:1135: UndefinedMetricWarning: Precision is ill-defined and being set to 0.0 due to no predicted samples.\n",
      "  'precision', 'predicted', average, warn_for)\n",
      "/Users/macbookpro/anaconda2/envs/cryptocurrency-analysis/lib/python3.6/site-packages/sklearn/metrics/classification.py:1135: UndefinedMetricWarning: Precision is ill-defined and being set to 0.0 due to no predicted samples.\n",
      "  'precision', 'predicted', average, warn_for)\n",
      "/Users/macbookpro/anaconda2/envs/cryptocurrency-analysis/lib/python3.6/site-packages/sklearn/metrics/classification.py:1135: UndefinedMetricWarning: Precision is ill-defined and being set to 0.0 due to no predicted samples.\n",
      "  'precision', 'predicted', average, warn_for)\n",
      "/Users/macbookpro/anaconda2/envs/cryptocurrency-analysis/lib/python3.6/site-packages/sklearn/metrics/classification.py:1135: UndefinedMetricWarning: Precision is ill-defined and being set to 0.0 due to no predicted samples.\n",
      "  'precision', 'predicted', average, warn_for)\n",
      "/Users/macbookpro/anaconda2/envs/cryptocurrency-analysis/lib/python3.6/site-packages/sklearn/metrics/classification.py:1135: UndefinedMetricWarning: Precision is ill-defined and being set to 0.0 due to no predicted samples.\n",
      "  'precision', 'predicted', average, warn_for)\n",
      "/Users/macbookpro/anaconda2/envs/cryptocurrency-analysis/lib/python3.6/site-packages/sklearn/metrics/classification.py:1135: UndefinedMetricWarning: Precision is ill-defined and being set to 0.0 due to no predicted samples.\n",
      "  'precision', 'predicted', average, warn_for)\n",
      "/Users/macbookpro/anaconda2/envs/cryptocurrency-analysis/lib/python3.6/site-packages/sklearn/metrics/classification.py:1135: UndefinedMetricWarning: Precision is ill-defined and being set to 0.0 due to no predicted samples.\n",
      "  'precision', 'predicted', average, warn_for)\n",
      "/Users/macbookpro/anaconda2/envs/cryptocurrency-analysis/lib/python3.6/site-packages/sklearn/metrics/classification.py:1135: UndefinedMetricWarning: Precision is ill-defined and being set to 0.0 due to no predicted samples.\n",
      "  'precision', 'predicted', average, warn_for)\n",
      "/Users/macbookpro/anaconda2/envs/cryptocurrency-analysis/lib/python3.6/site-packages/sklearn/metrics/classification.py:1135: UndefinedMetricWarning: Precision is ill-defined and being set to 0.0 due to no predicted samples.\n",
      "  'precision', 'predicted', average, warn_for)\n",
      "/Users/macbookpro/anaconda2/envs/cryptocurrency-analysis/lib/python3.6/site-packages/sklearn/metrics/classification.py:1135: UndefinedMetricWarning: Precision is ill-defined and being set to 0.0 due to no predicted samples.\n",
      "  'precision', 'predicted', average, warn_for)\n",
      "/Users/macbookpro/anaconda2/envs/cryptocurrency-analysis/lib/python3.6/site-packages/sklearn/metrics/classification.py:1135: UndefinedMetricWarning: Precision is ill-defined and being set to 0.0 due to no predicted samples.\n",
      "  'precision', 'predicted', average, warn_for)\n",
      "/Users/macbookpro/anaconda2/envs/cryptocurrency-analysis/lib/python3.6/site-packages/sklearn/metrics/classification.py:1135: UndefinedMetricWarning: Precision is ill-defined and being set to 0.0 due to no predicted samples.\n",
      "  'precision', 'predicted', average, warn_for)\n",
      "/Users/macbookpro/anaconda2/envs/cryptocurrency-analysis/lib/python3.6/site-packages/sklearn/metrics/classification.py:1135: UndefinedMetricWarning: Precision is ill-defined and being set to 0.0 due to no predicted samples.\n",
      "  'precision', 'predicted', average, warn_for)\n"
     ]
    },
    {
     "name": "stderr",
     "output_type": "stream",
     "text": [
      "/Users/macbookpro/anaconda2/envs/cryptocurrency-analysis/lib/python3.6/site-packages/sklearn/metrics/classification.py:1135: UndefinedMetricWarning: Precision is ill-defined and being set to 0.0 due to no predicted samples.\n",
      "  'precision', 'predicted', average, warn_for)\n",
      "/Users/macbookpro/anaconda2/envs/cryptocurrency-analysis/lib/python3.6/site-packages/sklearn/metrics/classification.py:1135: UndefinedMetricWarning: Precision is ill-defined and being set to 0.0 due to no predicted samples.\n",
      "  'precision', 'predicted', average, warn_for)\n",
      "/Users/macbookpro/anaconda2/envs/cryptocurrency-analysis/lib/python3.6/site-packages/sklearn/metrics/classification.py:1135: UndefinedMetricWarning: Precision is ill-defined and being set to 0.0 due to no predicted samples.\n",
      "  'precision', 'predicted', average, warn_for)\n",
      "/Users/macbookpro/anaconda2/envs/cryptocurrency-analysis/lib/python3.6/site-packages/sklearn/metrics/classification.py:1135: UndefinedMetricWarning: Precision is ill-defined and being set to 0.0 due to no predicted samples.\n",
      "  'precision', 'predicted', average, warn_for)\n",
      "/Users/macbookpro/anaconda2/envs/cryptocurrency-analysis/lib/python3.6/site-packages/sklearn/metrics/classification.py:1135: UndefinedMetricWarning: Precision is ill-defined and being set to 0.0 due to no predicted samples.\n",
      "  'precision', 'predicted', average, warn_for)\n",
      "/Users/macbookpro/anaconda2/envs/cryptocurrency-analysis/lib/python3.6/site-packages/sklearn/metrics/classification.py:1135: UndefinedMetricWarning: Precision is ill-defined and being set to 0.0 due to no predicted samples.\n",
      "  'precision', 'predicted', average, warn_for)\n",
      "/Users/macbookpro/anaconda2/envs/cryptocurrency-analysis/lib/python3.6/site-packages/sklearn/metrics/classification.py:1135: UndefinedMetricWarning: Precision is ill-defined and being set to 0.0 due to no predicted samples.\n",
      "  'precision', 'predicted', average, warn_for)\n",
      "/Users/macbookpro/anaconda2/envs/cryptocurrency-analysis/lib/python3.6/site-packages/sklearn/metrics/classification.py:1135: UndefinedMetricWarning: Precision is ill-defined and being set to 0.0 due to no predicted samples.\n",
      "  'precision', 'predicted', average, warn_for)\n",
      "/Users/macbookpro/anaconda2/envs/cryptocurrency-analysis/lib/python3.6/site-packages/sklearn/metrics/classification.py:1135: UndefinedMetricWarning: Precision is ill-defined and being set to 0.0 due to no predicted samples.\n",
      "  'precision', 'predicted', average, warn_for)\n",
      "/Users/macbookpro/anaconda2/envs/cryptocurrency-analysis/lib/python3.6/site-packages/sklearn/metrics/classification.py:1135: UndefinedMetricWarning: Precision is ill-defined and being set to 0.0 due to no predicted samples.\n",
      "  'precision', 'predicted', average, warn_for)\n",
      "/Users/macbookpro/anaconda2/envs/cryptocurrency-analysis/lib/python3.6/site-packages/sklearn/metrics/classification.py:1135: UndefinedMetricWarning: Precision is ill-defined and being set to 0.0 due to no predicted samples.\n",
      "  'precision', 'predicted', average, warn_for)\n",
      "/Users/macbookpro/anaconda2/envs/cryptocurrency-analysis/lib/python3.6/site-packages/sklearn/metrics/classification.py:1135: UndefinedMetricWarning: Precision is ill-defined and being set to 0.0 due to no predicted samples.\n",
      "  'precision', 'predicted', average, warn_for)\n",
      "/Users/macbookpro/anaconda2/envs/cryptocurrency-analysis/lib/python3.6/site-packages/sklearn/metrics/classification.py:1135: UndefinedMetricWarning: Precision is ill-defined and being set to 0.0 due to no predicted samples.\n",
      "  'precision', 'predicted', average, warn_for)\n",
      "/Users/macbookpro/anaconda2/envs/cryptocurrency-analysis/lib/python3.6/site-packages/sklearn/metrics/classification.py:1135: UndefinedMetricWarning: Precision is ill-defined and being set to 0.0 due to no predicted samples.\n",
      "  'precision', 'predicted', average, warn_for)\n",
      "/Users/macbookpro/anaconda2/envs/cryptocurrency-analysis/lib/python3.6/site-packages/sklearn/metrics/classification.py:1135: UndefinedMetricWarning: Precision is ill-defined and being set to 0.0 due to no predicted samples.\n",
      "  'precision', 'predicted', average, warn_for)\n",
      "/Users/macbookpro/anaconda2/envs/cryptocurrency-analysis/lib/python3.6/site-packages/sklearn/metrics/classification.py:1135: UndefinedMetricWarning: Precision is ill-defined and being set to 0.0 due to no predicted samples.\n",
      "  'precision', 'predicted', average, warn_for)\n",
      "/Users/macbookpro/anaconda2/envs/cryptocurrency-analysis/lib/python3.6/site-packages/sklearn/metrics/classification.py:1135: UndefinedMetricWarning: Precision is ill-defined and being set to 0.0 due to no predicted samples.\n",
      "  'precision', 'predicted', average, warn_for)\n",
      "/Users/macbookpro/anaconda2/envs/cryptocurrency-analysis/lib/python3.6/site-packages/sklearn/metrics/classification.py:1135: UndefinedMetricWarning: Precision is ill-defined and being set to 0.0 due to no predicted samples.\n",
      "  'precision', 'predicted', average, warn_for)\n",
      "/Users/macbookpro/anaconda2/envs/cryptocurrency-analysis/lib/python3.6/site-packages/sklearn/metrics/classification.py:1135: UndefinedMetricWarning: Precision is ill-defined and being set to 0.0 due to no predicted samples.\n",
      "  'precision', 'predicted', average, warn_for)\n",
      "/Users/macbookpro/anaconda2/envs/cryptocurrency-analysis/lib/python3.6/site-packages/sklearn/metrics/classification.py:1135: UndefinedMetricWarning: Precision is ill-defined and being set to 0.0 due to no predicted samples.\n",
      "  'precision', 'predicted', average, warn_for)\n",
      "/Users/macbookpro/anaconda2/envs/cryptocurrency-analysis/lib/python3.6/site-packages/sklearn/metrics/classification.py:1135: UndefinedMetricWarning: Precision is ill-defined and being set to 0.0 due to no predicted samples.\n",
      "  'precision', 'predicted', average, warn_for)\n",
      "/Users/macbookpro/anaconda2/envs/cryptocurrency-analysis/lib/python3.6/site-packages/sklearn/metrics/classification.py:1135: UndefinedMetricWarning: Precision is ill-defined and being set to 0.0 due to no predicted samples.\n",
      "  'precision', 'predicted', average, warn_for)\n",
      "/Users/macbookpro/anaconda2/envs/cryptocurrency-analysis/lib/python3.6/site-packages/sklearn/metrics/classification.py:1135: UndefinedMetricWarning: Precision is ill-defined and being set to 0.0 due to no predicted samples.\n",
      "  'precision', 'predicted', average, warn_for)\n",
      "/Users/macbookpro/anaconda2/envs/cryptocurrency-analysis/lib/python3.6/site-packages/sklearn/metrics/classification.py:1135: UndefinedMetricWarning: Precision is ill-defined and being set to 0.0 due to no predicted samples.\n",
      "  'precision', 'predicted', average, warn_for)\n",
      "/Users/macbookpro/anaconda2/envs/cryptocurrency-analysis/lib/python3.6/site-packages/sklearn/metrics/classification.py:1135: UndefinedMetricWarning: Precision is ill-defined and being set to 0.0 due to no predicted samples.\n",
      "  'precision', 'predicted', average, warn_for)\n",
      "/Users/macbookpro/anaconda2/envs/cryptocurrency-analysis/lib/python3.6/site-packages/sklearn/metrics/classification.py:1135: UndefinedMetricWarning: Precision is ill-defined and being set to 0.0 due to no predicted samples.\n",
      "  'precision', 'predicted', average, warn_for)\n",
      "/Users/macbookpro/anaconda2/envs/cryptocurrency-analysis/lib/python3.6/site-packages/sklearn/metrics/classification.py:1135: UndefinedMetricWarning: Precision is ill-defined and being set to 0.0 due to no predicted samples.\n",
      "  'precision', 'predicted', average, warn_for)\n",
      "/Users/macbookpro/anaconda2/envs/cryptocurrency-analysis/lib/python3.6/site-packages/sklearn/metrics/classification.py:1135: UndefinedMetricWarning: Precision is ill-defined and being set to 0.0 due to no predicted samples.\n",
      "  'precision', 'predicted', average, warn_for)\n",
      "/Users/macbookpro/anaconda2/envs/cryptocurrency-analysis/lib/python3.6/site-packages/sklearn/metrics/classification.py:1135: UndefinedMetricWarning: Precision is ill-defined and being set to 0.0 due to no predicted samples.\n",
      "  'precision', 'predicted', average, warn_for)\n",
      "/Users/macbookpro/anaconda2/envs/cryptocurrency-analysis/lib/python3.6/site-packages/sklearn/metrics/classification.py:1135: UndefinedMetricWarning: Precision is ill-defined and being set to 0.0 due to no predicted samples.\n",
      "  'precision', 'predicted', average, warn_for)\n",
      "/Users/macbookpro/anaconda2/envs/cryptocurrency-analysis/lib/python3.6/site-packages/sklearn/metrics/classification.py:1135: UndefinedMetricWarning: Precision is ill-defined and being set to 0.0 due to no predicted samples.\n",
      "  'precision', 'predicted', average, warn_for)\n"
     ]
    },
    {
     "name": "stderr",
     "output_type": "stream",
     "text": [
      "/Users/macbookpro/anaconda2/envs/cryptocurrency-analysis/lib/python3.6/site-packages/sklearn/metrics/classification.py:1135: UndefinedMetricWarning: Precision is ill-defined and being set to 0.0 due to no predicted samples.\n",
      "  'precision', 'predicted', average, warn_for)\n",
      "/Users/macbookpro/anaconda2/envs/cryptocurrency-analysis/lib/python3.6/site-packages/sklearn/metrics/classification.py:1135: UndefinedMetricWarning: Precision is ill-defined and being set to 0.0 due to no predicted samples.\n",
      "  'precision', 'predicted', average, warn_for)\n",
      "/Users/macbookpro/anaconda2/envs/cryptocurrency-analysis/lib/python3.6/site-packages/sklearn/metrics/classification.py:1135: UndefinedMetricWarning: Precision is ill-defined and being set to 0.0 due to no predicted samples.\n",
      "  'precision', 'predicted', average, warn_for)\n",
      "/Users/macbookpro/anaconda2/envs/cryptocurrency-analysis/lib/python3.6/site-packages/sklearn/metrics/classification.py:1135: UndefinedMetricWarning: Precision is ill-defined and being set to 0.0 due to no predicted samples.\n",
      "  'precision', 'predicted', average, warn_for)\n",
      "/Users/macbookpro/anaconda2/envs/cryptocurrency-analysis/lib/python3.6/site-packages/sklearn/metrics/classification.py:1135: UndefinedMetricWarning: Precision is ill-defined and being set to 0.0 due to no predicted samples.\n",
      "  'precision', 'predicted', average, warn_for)\n"
     ]
    }
   ],
   "source": [
    "training_window = 75 # days\n",
    "sample_model = training_window * (86400/14400)\n",
    "retraining_model = 5 \n",
    "target_value = 0.02\n",
    "threshold = 0.7\n",
    "\n",
    "models = {\n",
    "    'Random Forest': RandomForestClassifier(random_state=42),\n",
    "    'Extra Tree': ExtraTreesClassifier(random_state=42),\n",
    "    'Decision Tree': DecisionTreeClassifier(random_state=42),\n",
    "    'Gradient Boost': GradientBoostingClassifier(random_state=42)\n",
    "}\n",
    "drop_columns = ['coin', 'date', 'period', \n",
    "                'high', 'low', 'open', 'close', 'volume', 'quote_volume',\n",
    "                'weightedAverage',\n",
    "                'BBUpper', 'BBLower', 'BBMiddle',\n",
    "                'EMA9', 'EMA12', 'EMA26', 'EMA50',\n",
    "                'SMA9', 'SMA12', 'SMA26', 'SMA50',\n",
    "                'target_log_return_1', 'target_log_return_2', 'target_log_return_3',\n",
    "                'target_log_return_4', 'target_log_return_5', 'target_log_return_6',\n",
    "              'mean_return', 'variance', 'stdev'\n",
    "               ]\n",
    "\n",
    "\n",
    "back_test = df.copy()\n",
    "for index, row in back_test.iterrows():\n",
    "    signal = 0\n",
    "    current_date = row['date']\n",
    "    base_date = current_date - training_window * 6 * 14400\n",
    "    model_sample = back_test.loc[(back_test.date >= base_date) & (back_test.date < current_date)].copy()\n",
    "    if len(model_sample) < sample_model:\n",
    "        continue\n",
    "    X, y, flat_missed_list, flat_list = get_x_y(target_value, model_sample)\n",
    "    model = run_model(X, y, target_value, threshold, models['Random Forest'])\n",
    "    best_parameters_model = estimate_best_stop_loss(flat_missed_list, flat_list, target_value, model['Precision'])\n",
    "    if best_parameters_model and best_parameters_model['ER'] > 0: \n",
    "        X = row.drop(drop_columns)\n",
    "        X = model['Scaler'].transform(X.ravel().reshape(1, -1))\n",
    "        predicted_proba = model['Model'].predict_proba(X)\n",
    "        if predicted_proba[0][1] > threshold:\n",
    "            signal = 1\n",
    "        df.loc[df.date == current_date, 'Model_ER'] = best_parameters_model['ER']\n",
    "        df.loc[df.date == current_date, 'Model_TP'] = best_parameters_model['Take_profit']\n",
    "        df.loc[df.date == current_date, 'Model_SL'] = best_parameters_model['Stop_Loss']\n",
    "        df.loc[df.date == current_date, 'Signal'] = signal"
   ]
  },
  {
   "cell_type": "code",
   "execution_count": 8,
   "metadata": {},
   "outputs": [
    {
     "data": {
      "text/plain": [
       "47.0"
      ]
     },
     "execution_count": 8,
     "metadata": {},
     "output_type": "execute_result"
    }
   ],
   "source": [
    "sum(df.dropna().Signal)"
   ]
  },
  {
   "cell_type": "code",
   "execution_count": 9,
   "metadata": {},
   "outputs": [],
   "source": [
    "back_test_df = df.loc[(df['Signal'] == 1)].dropna().copy()"
   ]
  },
  {
   "cell_type": "code",
   "execution_count": 10,
   "metadata": {},
   "outputs": [],
   "source": [
    "for index, row in back_test_df.iterrows():\n",
    "    if ((row['target_log_return_1'] >= row['Model_TP'])\n",
    "    or (row['target_log_return_2'] >= row['Model_TP'])\n",
    "    or (row['target_log_return_3'] >= row['Model_TP'])\n",
    "    or (row['target_log_return_4'] >= row['Model_TP'])\n",
    "    or (row['target_log_return_5'] >= row['Model_TP'])\n",
    "    or (row['target_log_return_6'] >= row['Model_TP'])):\n",
    "        back_test_df.loc[back_test_df.index==index, 'profit'] = row['Model_TP']\n",
    "    elif ((row['target_log_return_1'] <= row['Model_SL'])\n",
    "        or (row['target_log_return_2'] <= row['Model_SL'])\n",
    "        or (row['target_log_return_3'] <= row['Model_SL'])\n",
    "        or (row['target_log_return_4'] <= row['Model_SL'])\n",
    "        or (row['target_log_return_5'] <= row['Model_SL'])\n",
    "        or (row['target_log_return_6'] <= row['Model_SL'])):\n",
    "        back_test_df.loc[back_test_df.index==index, 'profit'] = row['Model_SL']\n",
    "    else:\n",
    "        back_test_df.loc[back_test_df.index==index, 'profit'] = 0\n",
    "    \n",
    "    "
   ]
  },
  {
   "cell_type": "code",
   "execution_count": 11,
   "metadata": {},
   "outputs": [
    {
     "data": {
      "text/plain": [
       "47.35405048581542"
      ]
     },
     "execution_count": 11,
     "metadata": {},
     "output_type": "execute_result"
    }
   ],
   "source": [
    "investment = 100\n",
    "back_test_df.profit.sum()*investment"
   ]
  },
  {
   "cell_type": "code",
   "execution_count": 13,
   "metadata": {},
   "outputs": [
    {
     "data": {
      "image/png": "[encoded data removed]",
      "text/plain": [
       "<matplotlib.figure.Figure at 0x1a1217afd0>"
      ]
     },
     "metadata": {},
     "output_type": "display_data"
    }
   ],
   "source": [
    "plt.hist(back_test_df.profit, bins=15)\n",
    "plt.show()"
   ]
  },
  {
   "cell_type": "code",
   "execution_count": null,
   "metadata": {
    "collapsed": true
   },
   "outputs": [],
   "source": []
  }
 ],
 "metadata": {
  "kernelspec": {
   "display_name": "Python [conda env:cryptocurrency-analysis]",
   "language": "python",
   "name": "conda-env-cryptocurrency-analysis-py"
  },
  "language_info": {
   "codemirror_mode": {
    "name": "ipython",
    "version": 3
   },
   "file_extension": ".py",
   "mimetype": "text/x-python",
   "name": "python",
   "nbconvert_exporter": "python",
   "pygments_lexer": "ipython3",
   "version": "3.6.3"
  }
 },
 "nbformat": 4,
 "nbformat_minor": 2
}
