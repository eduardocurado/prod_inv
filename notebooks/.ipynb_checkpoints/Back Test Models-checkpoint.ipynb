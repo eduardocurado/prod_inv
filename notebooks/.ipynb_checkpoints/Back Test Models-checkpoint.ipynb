{
 "cells": [
  {
   "cell_type": "code",
   "execution_count": 1,
   "metadata": {
    "collapsed": true
   },
   "outputs": [],
   "source": [
    "\n",
    "from datetime import datetime, timedelta\n",
    "import math\n",
    "\n",
    "import matplotlib.pyplot as plt\n",
    "import numpy as np\n",
    "import pandas as pd\n",
    "import xgboost as xgb\n",
    "from imblearn.over_sampling import SMOTE\n",
    "from sklearn.metrics import accuracy_score\n",
    "from sklearn.metrics import precision_score\n",
    "from sklearn.preprocessing import MinMaxScaler\n",
    "\n",
    "pd.set_option('display.max_columns', 500)"
   ]
  },
  {
   "cell_type": "markdown",
   "metadata": {},
   "source": [
    "### Separate features and target variables\n",
    "    - additionaly we define the probability of a non-good target hit stop loss and a good target to hit stop loss are calulated"
   ]
  },
  {
   "cell_type": "code",
   "execution_count": 2,
   "metadata": {
    "collapsed": true
   },
   "outputs": [],
   "source": [
    "def get_x_y(target_value, features_df):\n",
    "    targets = ['target_log_return_1', 'target_log_return_2', 'target_log_return_3',\n",
    "                'target_log_return_4', 'target_log_return_5', 'target_log_return_6',]\n",
    "\n",
    "    mask = (\n",
    "       ((features_df['target_log_return_1'] >= target_value)\n",
    "        | (features_df['target_log_return_2'] >= target_value) \n",
    "        | (features_df['target_log_return_3'] >= target_value) \n",
    "        | (features_df['target_log_return_4'] >= target_value)\n",
    "        | (features_df['target_log_return_5'] >= target_value)\n",
    "        | (features_df['target_log_return_6'] >= target_value))\n",
    "           )\n",
    "    features_df.loc[mask, 'target_sign'] = 1\n",
    "    features_df.loc[~mask, 'target_sign'] = 0\n",
    "    \n",
    "    drop_columns = ['coin', 'date', 'period', \n",
    "                'high', 'low', 'open', 'close', 'volume', 'quote_volume',\n",
    "                'weightedAverage',\n",
    "                'BBUpper', 'BBLower', 'BBMiddle',\n",
    "                'EMA9', 'EMA12', 'EMA26', 'EMA50',\n",
    "                'SMA9', 'SMA12', 'SMA26', 'SMA50',\n",
    "                'target_log_return_1', 'target_log_return_2', 'target_log_return_3',\n",
    "                'target_log_return_4', 'target_log_return_5', 'target_log_return_6'\n",
    "               ]\n",
    "\n",
    "    # Preparing dataframe\n",
    "    clean_df = features_df.drop(drop_columns, axis=1).copy()\n",
    "    # Defining Features (X) and Target Variable (y)\n",
    "    \n",
    "    returns = []\n",
    "    for t in targets:\n",
    "        returns.append(features_df.loc[features_df['target_sign'] == 0][t].values)\n",
    "\n",
    "    flat_missed_list = [item for sublist in returns for item in sublist if not math.isnan(item)]\n",
    "\n",
    "    returns = []\n",
    "    for t in targets:\n",
    "        returns.append(features_df.loc[features_df['target_sign'] == 1][t].values)\n",
    "\n",
    "    flat_list = [item for sublist in returns for item in sublist if not math.isnan(item)]\n",
    "    \n",
    "    \n",
    "    X = clean_df.drop(['target_sign'], axis =1)\n",
    "    y = clean_df[['target_sign']]\n",
    "    \n",
    "    return X, y, flat_missed_list, flat_list\n",
    "    \n",
    "    "
   ]
  },
  {
   "cell_type": "markdown",
   "metadata": {},
   "source": [
    "### Running model"
   ]
  },
  {
   "cell_type": "code",
   "execution_count": 3,
   "metadata": {
    "collapsed": true
   },
   "outputs": [],
   "source": [
    "def run_model(X_sample, y_sample, target_value, threshold,  model, scale=True, smote=True):\n",
    "    \n",
    "    if scale:\n",
    "        scaler = MinMaxScaler().fit(X_sample)\n",
    "        X_sample = scaler.transform(X_sample)\n",
    "    # Split Train, Test\n",
    "    X_train, X_test = X_sample[:math.floor(len(X_sample) * 0.75)].copy(), X_sample[math.ceil(len(X_sample) * 0.75):].copy()\n",
    "    y_train, y_test = y_sample.iloc[:math.floor(len(y_sample) * 0.75)].copy(), y_sample.iloc[math.ceil(len(y_sample) * 0.75):].copy()\n",
    "\n",
    "    if smote:\n",
    "        # Rebalance Samples\n",
    "        oversampler = SMOTE(random_state=42)\n",
    "        X_train, y_train = oversampler.fit_sample(X_train, y_train.target_sign)\n",
    "        \n",
    "    # (Re) define Models\n",
    "    model.fit(X_train, y_train)\n",
    "    predicted_proba = model.predict_proba(X_test)\n",
    "    predicted = (predicted_proba[:, 1] >= threshold).astype('int')\n",
    "    precision = precision_score(y_test, predicted)\n",
    "    train_acc = accuracy_score(y_test, predicted)\n",
    "    return {\n",
    "        'Precision': precision,\n",
    "        'Accuracy': train_acc,\n",
    "        'Trades': np.sum(predicted),\n",
    "        'Real Profits': np.sum(y_test)[0],\n",
    "        'Target': target_value,\n",
    "        'Scaler': scaler,\n",
    "        'Model': model\n",
    "    }"
   ]
  },
  {
   "cell_type": "markdown",
   "metadata": {},
   "source": [
    "### For a given stop loss-take profit value, we define de Expected Return of the model:\n",
    "    - Sum of the given values:\n",
    "        - Precision of the model is right * Probability of not hitting stop loss mark * Take Profit\n",
    "        - Precision of the model is right * Probability of hitting stop loss mark * Stop Loss\n",
    "        - Precision of the model is wrong * Probability of not hitting stop loss mark * Mean Return of Sample\n",
    "        - Precision of the model is wrong * Probability of hitting stop loss mark * Stop Loss"
   ]
  },
  {
   "cell_type": "code",
   "execution_count": 4,
   "metadata": {},
   "outputs": [],
   "source": [
    "import pickle\n",
    "# ['USDT_BTC', 'USDT_ETH', 'USDT_LTC', 'USDT_XRP', 'USDT_ETC', 'USDT_DASH',\n",
    "#                 'USDT_XMR',  'USDT_STR', 'USDT_EOS',]\n",
    "\n",
    "# Done: \n",
    "coin = 'USDT_XRP'\n",
    "df = pickle.load(open('../' + coin + 'back_test_sample.sav', 'rb'))\n",
    "df = df.loc[df.date >= datetime(2018,2,1,0,0).timestamp()].sort_values(['date'], ascending=True)\n",
    "last_row = 0\n",
    "for index, row in df.dropna().iterrows():\n",
    "    ok = True\n",
    "    if last_row == 0:\n",
    "        last_row = row['date']\n",
    "        continue\n",
    "    if row['date'] - last_row  != 14400:\n",
    "        print('Not consistent')\n",
    "        print(row.date)\n",
    "        print(last_row)\n",
    "    #df.loc[df.index==index, 'dif'] = row['date'] - last_row \n",
    "    last_row = row['date']\n",
    "#df[['date', 'dif']]\n",
    "date_initial = df.date.iloc[0]\n",
    "date_end = df.date.iloc[-1]\n",
    "\n",
    "# plt.hist(df.target_log_return_6, bins=15)\n",
    "# plt.hist(df.target_log_return_5, bins=15)\n",
    "# plt.hist(df.target_log_return_4, bins=15)\n",
    "# plt.hist(df.target_log_return_3, bins=15)\n",
    "# plt.hist(df.target_log_return_2, bins=15)\n",
    "# plt.hist(df.target_log_return_1, bins=15)\n",
    "# plt.show()"
   ]
  },
  {
   "cell_type": "markdown",
   "metadata": {},
   "source": [
    "### For a given Size of Sample to use in model each step we do the following:\n",
    "     - Run the model (if enough sample)\n",
    "     - Select best parameters (Stop Loss and Take Profit)\n",
    "     - Predict (if Model is good enough)\n",
    "    "
   ]
  },
  {
   "cell_type": "code",
   "execution_count": 5,
   "metadata": {},
   "outputs": [
    {
     "data": {
      "text/plain": [
       "Index(['coin', 'date', 'period', 'high', 'low', 'close', 'open', 'volume',\n",
       "       'quote_volume', 'weightedAverage', 'ADX', 'ATR', 'BBLower', 'BBMiddle',\n",
       "       'BBUpper', 'EMA12', 'EMA26', 'EMA50', 'EMA9', 'HISTOGRAM', 'MACD',\n",
       "       'MOMENTUM', 'OBV', 'RSI14', 'SIGNAL', 'SMA12', 'SMA26', 'SMA50', 'SMA9',\n",
       "       'TREND_COIN', 'WILLR', 'slope', 'slope_short', 'BBand_height',\n",
       "       'BBand_lower_height', 'BBand_upper_height', 'EMA_height12',\n",
       "       'EMA_height26', 'SMA_height12', 'SMA_height26', 'close_open',\n",
       "       'close_low', 'close_high', 'log_trend', 'rate_slope', 'high_low',\n",
       "       'ema_height', 'log_return', 'log_return_2', 'log_return_3',\n",
       "       'log_return_4', 'mean_return', 'variance', 'stdev',\n",
       "       'target_log_return_1', 'target_log_return_2', 'target_log_return_3',\n",
       "       'target_log_return_4', 'target_log_return_5', 'target_log_return_6'],\n",
       "      dtype='object')"
      ]
     },
     "execution_count": 5,
     "metadata": {},
     "output_type": "execute_result"
    }
   ],
   "source": [
    "df.columns"
   ]
  },
  {
   "cell_type": "code",
   "execution_count": 6,
   "metadata": {},
   "outputs": [],
   "source": [
    "# import talib as tb\n",
    "# ma = tb.MA(back_test.TREND_COIN, timeperiod=6)\n",
    "# back_test['SMA24_trend'] = ma"
   ]
  },
  {
   "cell_type": "code",
   "execution_count": 8,
   "metadata": {
    "scrolled": false
   },
   "outputs": [
    {
     "name": "stderr",
     "output_type": "stream",
     "text": [
      "/Users/macbookpro/anaconda2/envs/cryptocurrency-analysis/lib/python3.6/site-packages/pandas/core/indexing.py:362: SettingWithCopyWarning: \n",
      "A value is trying to be set on a copy of a slice from a DataFrame.\n",
      "Try using .loc[row_indexer,col_indexer] = value instead\n",
      "\n",
      "See the caveats in the documentation: http://pandas.pydata.org/pandas-docs/stable/indexing.html#indexing-view-versus-copy\n",
      "  self.obj[key] = _infer_fill_value(value)\n",
      "/Users/macbookpro/anaconda2/envs/cryptocurrency-analysis/lib/python3.6/site-packages/pandas/core/indexing.py:543: SettingWithCopyWarning: \n",
      "A value is trying to be set on a copy of a slice from a DataFrame.\n",
      "Try using .loc[row_indexer,col_indexer] = value instead\n",
      "\n",
      "See the caveats in the documentation: http://pandas.pydata.org/pandas-docs/stable/indexing.html#indexing-view-versus-copy\n",
      "  self.obj[item] = s\n"
     ]
    },
    {
     "name": "stdout",
     "output_type": "stream",
     "text": [
      "0.6413043478260869\n"
     ]
    },
    {
     "name": "stderr",
     "output_type": "stream",
     "text": [
      "/Users/macbookpro/anaconda2/envs/cryptocurrency-analysis/lib/python3.6/site-packages/pandas/core/indexing.py:362: SettingWithCopyWarning: \n",
      "A value is trying to be set on a copy of a slice from a DataFrame.\n",
      "Try using .loc[row_indexer,col_indexer] = value instead\n",
      "\n",
      "See the caveats in the documentation: http://pandas.pydata.org/pandas-docs/stable/indexing.html#indexing-view-versus-copy\n",
      "  self.obj[key] = _infer_fill_value(value)\n",
      "/Users/macbookpro/anaconda2/envs/cryptocurrency-analysis/lib/python3.6/site-packages/pandas/core/indexing.py:543: SettingWithCopyWarning: \n",
      "A value is trying to be set on a copy of a slice from a DataFrame.\n",
      "Try using .loc[row_indexer,col_indexer] = value instead\n",
      "\n",
      "See the caveats in the documentation: http://pandas.pydata.org/pandas-docs/stable/indexing.html#indexing-view-versus-copy\n",
      "  self.obj[item] = s\n"
     ]
    },
    {
     "name": "stdout",
     "output_type": "stream",
     "text": [
      "0.5955056179775281\n"
     ]
    },
    {
     "name": "stderr",
     "output_type": "stream",
     "text": [
      "/Users/macbookpro/anaconda2/envs/cryptocurrency-analysis/lib/python3.6/site-packages/pandas/core/indexing.py:362: SettingWithCopyWarning: \n",
      "A value is trying to be set on a copy of a slice from a DataFrame.\n",
      "Try using .loc[row_indexer,col_indexer] = value instead\n",
      "\n",
      "See the caveats in the documentation: http://pandas.pydata.org/pandas-docs/stable/indexing.html#indexing-view-versus-copy\n",
      "  self.obj[key] = _infer_fill_value(value)\n",
      "/Users/macbookpro/anaconda2/envs/cryptocurrency-analysis/lib/python3.6/site-packages/pandas/core/indexing.py:543: SettingWithCopyWarning: \n",
      "A value is trying to be set on a copy of a slice from a DataFrame.\n",
      "Try using .loc[row_indexer,col_indexer] = value instead\n",
      "\n",
      "See the caveats in the documentation: http://pandas.pydata.org/pandas-docs/stable/indexing.html#indexing-view-versus-copy\n",
      "  self.obj[item] = s\n"
     ]
    },
    {
     "name": "stdout",
     "output_type": "stream",
     "text": [
      "0.5569620253164557\n"
     ]
    },
    {
     "name": "stderr",
     "output_type": "stream",
     "text": [
      "/Users/macbookpro/anaconda2/envs/cryptocurrency-analysis/lib/python3.6/site-packages/pandas/core/indexing.py:362: SettingWithCopyWarning: \n",
      "A value is trying to be set on a copy of a slice from a DataFrame.\n",
      "Try using .loc[row_indexer,col_indexer] = value instead\n",
      "\n",
      "See the caveats in the documentation: http://pandas.pydata.org/pandas-docs/stable/indexing.html#indexing-view-versus-copy\n",
      "  self.obj[key] = _infer_fill_value(value)\n",
      "/Users/macbookpro/anaconda2/envs/cryptocurrency-analysis/lib/python3.6/site-packages/pandas/core/indexing.py:543: SettingWithCopyWarning: \n",
      "A value is trying to be set on a copy of a slice from a DataFrame.\n",
      "Try using .loc[row_indexer,col_indexer] = value instead\n",
      "\n",
      "See the caveats in the documentation: http://pandas.pydata.org/pandas-docs/stable/indexing.html#indexing-view-versus-copy\n",
      "  self.obj[item] = s\n"
     ]
    },
    {
     "name": "stdout",
     "output_type": "stream",
     "text": [
      "0.5288888888888889\n"
     ]
    },
    {
     "name": "stderr",
     "output_type": "stream",
     "text": [
      "/Users/macbookpro/anaconda2/envs/cryptocurrency-analysis/lib/python3.6/site-packages/pandas/core/indexing.py:362: SettingWithCopyWarning: \n",
      "A value is trying to be set on a copy of a slice from a DataFrame.\n",
      "Try using .loc[row_indexer,col_indexer] = value instead\n",
      "\n",
      "See the caveats in the documentation: http://pandas.pydata.org/pandas-docs/stable/indexing.html#indexing-view-versus-copy\n",
      "  self.obj[key] = _infer_fill_value(value)\n",
      "/Users/macbookpro/anaconda2/envs/cryptocurrency-analysis/lib/python3.6/site-packages/pandas/core/indexing.py:543: SettingWithCopyWarning: \n",
      "A value is trying to be set on a copy of a slice from a DataFrame.\n",
      "Try using .loc[row_indexer,col_indexer] = value instead\n",
      "\n",
      "See the caveats in the documentation: http://pandas.pydata.org/pandas-docs/stable/indexing.html#indexing-view-versus-copy\n",
      "  self.obj[item] = s\n"
     ]
    },
    {
     "name": "stdout",
     "output_type": "stream",
     "text": [
      "0.4734042553191489\n"
     ]
    },
    {
     "name": "stderr",
     "output_type": "stream",
     "text": [
      "/Users/macbookpro/anaconda2/envs/cryptocurrency-analysis/lib/python3.6/site-packages/pandas/core/indexing.py:362: SettingWithCopyWarning: \n",
      "A value is trying to be set on a copy of a slice from a DataFrame.\n",
      "Try using .loc[row_indexer,col_indexer] = value instead\n",
      "\n",
      "See the caveats in the documentation: http://pandas.pydata.org/pandas-docs/stable/indexing.html#indexing-view-versus-copy\n",
      "  self.obj[key] = _infer_fill_value(value)\n",
      "/Users/macbookpro/anaconda2/envs/cryptocurrency-analysis/lib/python3.6/site-packages/pandas/core/indexing.py:543: SettingWithCopyWarning: \n",
      "A value is trying to be set on a copy of a slice from a DataFrame.\n",
      "Try using .loc[row_indexer,col_indexer] = value instead\n",
      "\n",
      "See the caveats in the documentation: http://pandas.pydata.org/pandas-docs/stable/indexing.html#indexing-view-versus-copy\n",
      "  self.obj[item] = s\n"
     ]
    },
    {
     "name": "stdout",
     "output_type": "stream",
     "text": [
      "0.5172413793103449\n"
     ]
    },
    {
     "name": "stderr",
     "output_type": "stream",
     "text": [
      "/Users/macbookpro/anaconda2/envs/cryptocurrency-analysis/lib/python3.6/site-packages/pandas/core/indexing.py:362: SettingWithCopyWarning: \n",
      "A value is trying to be set on a copy of a slice from a DataFrame.\n",
      "Try using .loc[row_indexer,col_indexer] = value instead\n",
      "\n",
      "See the caveats in the documentation: http://pandas.pydata.org/pandas-docs/stable/indexing.html#indexing-view-versus-copy\n",
      "  self.obj[key] = _infer_fill_value(value)\n",
      "/Users/macbookpro/anaconda2/envs/cryptocurrency-analysis/lib/python3.6/site-packages/pandas/core/indexing.py:543: SettingWithCopyWarning: \n",
      "A value is trying to be set on a copy of a slice from a DataFrame.\n",
      "Try using .loc[row_indexer,col_indexer] = value instead\n",
      "\n",
      "See the caveats in the documentation: http://pandas.pydata.org/pandas-docs/stable/indexing.html#indexing-view-versus-copy\n",
      "  self.obj[item] = s\n"
     ]
    },
    {
     "name": "stdout",
     "output_type": "stream",
     "text": [
      "0.5735294117647058\n"
     ]
    },
    {
     "name": "stderr",
     "output_type": "stream",
     "text": [
      "/Users/macbookpro/anaconda2/envs/cryptocurrency-analysis/lib/python3.6/site-packages/pandas/core/indexing.py:362: SettingWithCopyWarning: \n",
      "A value is trying to be set on a copy of a slice from a DataFrame.\n",
      "Try using .loc[row_indexer,col_indexer] = value instead\n",
      "\n",
      "See the caveats in the documentation: http://pandas.pydata.org/pandas-docs/stable/indexing.html#indexing-view-versus-copy\n",
      "  self.obj[key] = _infer_fill_value(value)\n",
      "/Users/macbookpro/anaconda2/envs/cryptocurrency-analysis/lib/python3.6/site-packages/pandas/core/indexing.py:543: SettingWithCopyWarning: \n",
      "A value is trying to be set on a copy of a slice from a DataFrame.\n",
      "Try using .loc[row_indexer,col_indexer] = value instead\n",
      "\n",
      "See the caveats in the documentation: http://pandas.pydata.org/pandas-docs/stable/indexing.html#indexing-view-versus-copy\n",
      "  self.obj[item] = s\n"
     ]
    },
    {
     "name": "stdout",
     "output_type": "stream",
     "text": [
      "0.49333333333333335\n"
     ]
    },
    {
     "name": "stderr",
     "output_type": "stream",
     "text": [
      "/Users/macbookpro/anaconda2/envs/cryptocurrency-analysis/lib/python3.6/site-packages/pandas/core/indexing.py:362: SettingWithCopyWarning: \n",
      "A value is trying to be set on a copy of a slice from a DataFrame.\n",
      "Try using .loc[row_indexer,col_indexer] = value instead\n",
      "\n",
      "See the caveats in the documentation: http://pandas.pydata.org/pandas-docs/stable/indexing.html#indexing-view-versus-copy\n",
      "  self.obj[key] = _infer_fill_value(value)\n",
      "/Users/macbookpro/anaconda2/envs/cryptocurrency-analysis/lib/python3.6/site-packages/pandas/core/indexing.py:543: SettingWithCopyWarning: \n",
      "A value is trying to be set on a copy of a slice from a DataFrame.\n",
      "Try using .loc[row_indexer,col_indexer] = value instead\n",
      "\n",
      "See the caveats in the documentation: http://pandas.pydata.org/pandas-docs/stable/indexing.html#indexing-view-versus-copy\n",
      "  self.obj[item] = s\n"
     ]
    },
    {
     "name": "stdout",
     "output_type": "stream",
     "text": [
      "0.453125\n"
     ]
    },
    {
     "name": "stderr",
     "output_type": "stream",
     "text": [
      "/Users/macbookpro/anaconda2/envs/cryptocurrency-analysis/lib/python3.6/site-packages/pandas/core/indexing.py:362: SettingWithCopyWarning: \n",
      "A value is trying to be set on a copy of a slice from a DataFrame.\n",
      "Try using .loc[row_indexer,col_indexer] = value instead\n",
      "\n",
      "See the caveats in the documentation: http://pandas.pydata.org/pandas-docs/stable/indexing.html#indexing-view-versus-copy\n",
      "  self.obj[key] = _infer_fill_value(value)\n",
      "/Users/macbookpro/anaconda2/envs/cryptocurrency-analysis/lib/python3.6/site-packages/pandas/core/indexing.py:543: SettingWithCopyWarning: \n",
      "A value is trying to be set on a copy of a slice from a DataFrame.\n",
      "Try using .loc[row_indexer,col_indexer] = value instead\n",
      "\n",
      "See the caveats in the documentation: http://pandas.pydata.org/pandas-docs/stable/indexing.html#indexing-view-versus-copy\n",
      "  self.obj[item] = s\n"
     ]
    },
    {
     "name": "stdout",
     "output_type": "stream",
     "text": [
      "0.5\n"
     ]
    }
   ],
   "source": [
    "threshold = 0.75\n",
    "risk_free = ((1 + 0.065) ** (1/252) - 1)\n",
    "test_size = -48\n",
    "\n",
    "\n",
    "models = {\n",
    "    'XGBoost': xgb.XGBClassifier(max_depth=8, learning_rate=0.2, n_estimators=400,\n",
    "                        objective= \"binary:logistic\", eval_metric=\"error\", gamma=0.,  #map\n",
    "                        max_delta_step=3, subsample=0.9, colsample_bytree=0.4,\n",
    "                        seed=0, )  \n",
    "}\n",
    "\n",
    "\n",
    "\n",
    "precisions = []\n",
    "for target_value in [0.005, 0.0075, 0.01, 0.0125, 0.015, 0.02, 0.0225, 0.025, 0.0275, 0.03]:\n",
    "    back_test = df.copy().sort_values('date')\n",
    "    X, y, flat_missed_list, flat_list = get_x_y(target_value, back_test.iloc[:test_size])\n",
    "    model = run_model(X, y, target_value, threshold, models['XGBoost'], scale=True, smote=True)\n",
    "    print(model['Precision'])\n",
    "    if model['Precision'] > 0.5 and np.percentile(flat_missed_list, 20) < 0:\n",
    "        precisions.append({\n",
    "            'target_value': target_value,\n",
    "            'precision': model['Precision'],\n",
    "            'model': model,\n",
    "            'stop_loss': np.percentile(flat_missed_list, 20)\n",
    "        })"
   ]
  },
  {
   "cell_type": "code",
   "execution_count": 9,
   "metadata": {},
   "outputs": [],
   "source": [
    "df_models = pd.DataFrame.from_records(precisions)"
   ]
  },
  {
   "cell_type": "code",
   "execution_count": 10,
   "metadata": {},
   "outputs": [
    {
     "data": {
      "text/html": [
       "<div>\n",
       "<style scoped>\n",
       "    .dataframe tbody tr th:only-of-type {\n",
       "        vertical-align: middle;\n",
       "    }\n",
       "\n",
       "    .dataframe tbody tr th {\n",
       "        vertical-align: top;\n",
       "    }\n",
       "\n",
       "    .dataframe thead th {\n",
       "        text-align: right;\n",
       "    }\n",
       "</style>\n",
       "<table border=\"1\" class=\"dataframe\">\n",
       "  <thead>\n",
       "    <tr style=\"text-align: right;\">\n",
       "      <th></th>\n",
       "      <th>model</th>\n",
       "      <th>precision</th>\n",
       "      <th>stop_loss</th>\n",
       "      <th>target_value</th>\n",
       "    </tr>\n",
       "  </thead>\n",
       "  <tbody>\n",
       "    <tr>\n",
       "      <th>0</th>\n",
       "      <td>{'Precision': 0.6413043478260869, 'Accuracy': ...</td>\n",
       "      <td>0.641304</td>\n",
       "      <td>-0.061152</td>\n",
       "      <td>0.0050</td>\n",
       "    </tr>\n",
       "    <tr>\n",
       "      <th>1</th>\n",
       "      <td>{'Precision': 0.5955056179775281, 'Accuracy': ...</td>\n",
       "      <td>0.595506</td>\n",
       "      <td>-0.058464</td>\n",
       "      <td>0.0075</td>\n",
       "    </tr>\n",
       "    <tr>\n",
       "      <th>2</th>\n",
       "      <td>{'Precision': 0.5569620253164557, 'Accuracy': ...</td>\n",
       "      <td>0.556962</td>\n",
       "      <td>-0.055554</td>\n",
       "      <td>0.0100</td>\n",
       "    </tr>\n",
       "    <tr>\n",
       "      <th>3</th>\n",
       "      <td>{'Precision': 0.5288888888888889, 'Accuracy': ...</td>\n",
       "      <td>0.528889</td>\n",
       "      <td>-0.053588</td>\n",
       "      <td>0.0125</td>\n",
       "    </tr>\n",
       "    <tr>\n",
       "      <th>4</th>\n",
       "      <td>{'Precision': 0.5172413793103449, 'Accuracy': ...</td>\n",
       "      <td>0.517241</td>\n",
       "      <td>-0.047040</td>\n",
       "      <td>0.0200</td>\n",
       "    </tr>\n",
       "    <tr>\n",
       "      <th>5</th>\n",
       "      <td>{'Precision': 0.5735294117647058, 'Accuracy': ...</td>\n",
       "      <td>0.573529</td>\n",
       "      <td>-0.045204</td>\n",
       "      <td>0.0225</td>\n",
       "    </tr>\n",
       "  </tbody>\n",
       "</table>\n",
       "</div>"
      ],
      "text/plain": [
       "                                               model  precision  stop_loss  \\\n",
       "0  {'Precision': 0.6413043478260869, 'Accuracy': ...   0.641304  -0.061152   \n",
       "1  {'Precision': 0.5955056179775281, 'Accuracy': ...   0.595506  -0.058464   \n",
       "2  {'Precision': 0.5569620253164557, 'Accuracy': ...   0.556962  -0.055554   \n",
       "3  {'Precision': 0.5288888888888889, 'Accuracy': ...   0.528889  -0.053588   \n",
       "4  {'Precision': 0.5172413793103449, 'Accuracy': ...   0.517241  -0.047040   \n",
       "5  {'Precision': 0.5735294117647058, 'Accuracy': ...   0.573529  -0.045204   \n",
       "\n",
       "   target_value  \n",
       "0        0.0050  \n",
       "1        0.0075  \n",
       "2        0.0100  \n",
       "3        0.0125  \n",
       "4        0.0200  \n",
       "5        0.0225  "
      ]
     },
     "execution_count": 10,
     "metadata": {},
     "output_type": "execute_result"
    }
   ],
   "source": [
    "df_models"
   ]
  },
  {
   "cell_type": "code",
   "execution_count": 11,
   "metadata": {},
   "outputs": [
    {
     "data": {
      "image/png": "[encoded data removed]",
      "text/plain": [
       "<matplotlib.figure.Figure at 0x1a0a704320>"
      ]
     },
     "metadata": {},
     "output_type": "display_data"
    }
   ],
   "source": [
    "plt.plot(df_models['target_value'], df_models['precision'])\n",
    "plt.show()"
   ]
  },
  {
   "cell_type": "code",
   "execution_count": 12,
   "metadata": {},
   "outputs": [],
   "source": [
    "if df_models.empty:\n",
    "    print('No Model worth fighting for... ')\n",
    "possible_models = df_models.sort_values('target_value', ascending=False)\n",
    "\n",
    "model = possible_models.iloc[0]\n",
    "target_value = model['model']['Target']\n",
    "stop_loss = model['stop_loss']\n",
    "model = model['model']"
   ]
  },
  {
   "cell_type": "code",
   "execution_count": 13,
   "metadata": {},
   "outputs": [],
   "source": [
    "risk_free = ((1 + 0.065) ** (1/252) - 1)\n",
    "\n",
    "drop_columns = ['coin', 'date', 'period', \n",
    "                'high', 'low', 'open', 'close', 'volume', 'quote_volume',\n",
    "                'weightedAverage',\n",
    "                'BBUpper', 'BBLower', 'BBMiddle',\n",
    "                'EMA9', 'EMA12', 'EMA26', 'EMA50',\n",
    "                'SMA9', 'SMA12', 'SMA26', 'SMA50',\n",
    "                'target_log_return_1', 'target_log_return_2', 'target_log_return_3',\n",
    "                'target_log_return_4', 'target_log_return_5', 'target_log_return_6'\n",
    "               ]\n",
    "\n",
    "\n",
    "back_test = df.copy()\n",
    "for index, row in back_test.iloc[-test_size:].iterrows():\n",
    "    signal = 0\n",
    "    current_date = row['date']\n",
    "    X = row.drop(drop_columns)\n",
    "    X = model['Scaler'].transform(X.ravel().reshape(1, -1))\n",
    "    predicted_proba = model['Model'].predict_proba(X)\n",
    "    if predicted_proba[0][1] >= threshold:\n",
    "        signal = 1\n",
    "    back_test.loc[back_test['date'] == row['date'], 'predicted_signal'] = signal"
   ]
  },
  {
   "cell_type": "code",
   "execution_count": 14,
   "metadata": {},
   "outputs": [],
   "source": [
    "mask_profit = (\n",
    "       ((back_test['target_log_return_1'] >= target_value)\n",
    "        | (back_test['target_log_return_2'] >= target_value) \n",
    "        | (back_test['target_log_return_3'] >= target_value) \n",
    "        | (back_test['target_log_return_4'] >= target_value)\n",
    "        | (back_test['target_log_return_5'] >= target_value)\n",
    "        | (back_test['target_log_return_6'] >= target_value))\n",
    "           )\n",
    "\n",
    "mask_loss =  (\n",
    "       ((back_test['target_log_return_1'] <= stop_loss)\n",
    "        | (back_test['target_log_return_2'] <= stop_loss) \n",
    "        | (back_test['target_log_return_3'] <= stop_loss) \n",
    "        | (back_test['target_log_return_4'] <= stop_loss)\n",
    "        | (back_test['target_log_return_5'] <= stop_loss)\n",
    "        | (back_test['target_log_return_6'] <= stop_loss))\n",
    "           )\n",
    "\n",
    "\n",
    "back_test.loc[mask_profit & (~mask_loss), 'target_sign'] = 1\n",
    "back_test.loc[mask_loss, 'target_sign'] = 0"
   ]
  },
  {
   "cell_type": "code",
   "execution_count": 15,
   "metadata": {},
   "outputs": [],
   "source": [
    "for index, row in back_test.iterrows():\n",
    "    hit = [row.target_log_return_1,\n",
    "             row.target_log_return_2,\n",
    "             row.target_log_return_3,\n",
    "            row.target_log_return_4,\n",
    "            row.target_log_return_5,\n",
    "            row.target_log_return_6]\n",
    "    hit = [j for j in hit if j <= stop_loss]\n",
    "    if hit:\n",
    "        back_test.loc[back_test.index == index, 'hit'] = max(hit)\n",
    "    else:\n",
    "        back_test.loc[back_test.index == index, 'hit'] = 0"
   ]
  },
  {
   "cell_type": "code",
   "execution_count": 16,
   "metadata": {},
   "outputs": [
    {
     "name": "stderr",
     "output_type": "stream",
     "text": [
      "/Users/macbookpro/anaconda2/envs/cryptocurrency-analysis/lib/python3.6/site-packages/pandas/core/indexing.py:362: SettingWithCopyWarning: \n",
      "A value is trying to be set on a copy of a slice from a DataFrame.\n",
      "Try using .loc[row_indexer,col_indexer] = value instead\n",
      "\n",
      "See the caveats in the documentation: http://pandas.pydata.org/pandas-docs/stable/indexing.html#indexing-view-versus-copy\n",
      "  self.obj[key] = _infer_fill_value(value)\n",
      "/Users/macbookpro/anaconda2/envs/cryptocurrency-analysis/lib/python3.6/site-packages/pandas/core/indexing.py:543: SettingWithCopyWarning: \n",
      "A value is trying to be set on a copy of a slice from a DataFrame.\n",
      "Try using .loc[row_indexer,col_indexer] = value instead\n",
      "\n",
      "See the caveats in the documentation: http://pandas.pydata.org/pandas-docs/stable/indexing.html#indexing-view-versus-copy\n",
      "  self.obj[item] = s\n"
     ]
    }
   ],
   "source": [
    "results = back_test.dropna()\n",
    "results.loc[(results['predicted_signal'] == 1) & (results['target_sign'] == 1), 'profit'] = target_value\n",
    "results.loc[(results['predicted_signal'] == 1) & (results['target_sign'] == 0), 'profit'] = results.loc[(results['predicted_signal'] == 1) & (results['target_sign'] == 0), 'hit']\n",
    "results.loc[(results['profit'].isnull()), 'profit'] = 0"
   ]
  },
  {
   "cell_type": "code",
   "execution_count": 17,
   "metadata": {},
   "outputs": [
    {
     "name": "stderr",
     "output_type": "stream",
     "text": [
      "/Users/macbookpro/anaconda2/envs/cryptocurrency-analysis/lib/python3.6/site-packages/ipykernel/__main__.py:1: SettingWithCopyWarning: \n",
      "A value is trying to be set on a copy of a slice from a DataFrame.\n",
      "Try using .loc[row_indexer,col_indexer] = value instead\n",
      "\n",
      "See the caveats in the documentation: http://pandas.pydata.org/pandas-docs/stable/indexing.html#indexing-view-versus-copy\n",
      "  if __name__ == '__main__':\n"
     ]
    }
   ],
   "source": [
    "results['acc_return'] = results['profit'].cumsum().copy()"
   ]
  },
  {
   "cell_type": "code",
   "execution_count": 18,
   "metadata": {},
   "outputs": [
    {
     "name": "stdout",
     "output_type": "stream",
     "text": [
      "All data to model from:\n",
      "------------------\n",
      "Starting data: 2018-02-01 02:00:00\n",
      "------------------\n",
      "End data: 2018-09-29 21:00:00\n",
      "------------------\n",
      "Stop Loss: -0.04520375533866889\n",
      "------------------\n",
      "Target Value: 0.0225\n",
      "------------------\n",
      "Model Precision: 0.5735294117647058\n",
      "------------------\n",
      "Backtesting data :  232\n",
      "------------------\n",
      "Starting data: 2018-02-09 02:00:00\n",
      "------------------\n",
      "End data: 2018-09-29 21:00:00\n",
      "------------------\n",
      "Acc. Return Test: 5.48641887772414\n"
     ]
    }
   ],
   "source": [
    "print('All data to model from:')\n",
    "print('------------------')\n",
    "print('Starting data: ' + datetime.fromtimestamp(date_initial).strftime('%Y-%m-%d %H:%M:%S'))\n",
    "print('------------------')\n",
    "print('End data: ' + datetime.fromtimestamp(date_end).strftime('%Y-%m-%d %H:%M:%S'))\n",
    "print('------------------')\n",
    "print('Stop Loss: ' + str(stop_loss))\n",
    "print('------------------')\n",
    "print('Target Value: ' + str(target_value))\n",
    "print('------------------')\n",
    "print('Model Precision: ' + str(model['Precision']))\n",
    "print('------------------')\n",
    "print('Backtesting data :  ' + str((datetime.fromtimestamp(back_test.iloc[-1].date) - datetime.fromtimestamp(back_test.iloc[-test_size].date)).days ))\n",
    "print('------------------')\n",
    "print('Starting data: ' + datetime.fromtimestamp(back_test.iloc[-test_size].date).strftime('%Y-%m-%d %H:%M:%S'))\n",
    "print('------------------')\n",
    "print('End data: ' + datetime.fromtimestamp(back_test.iloc[-1].date).strftime('%Y-%m-%d %H:%M:%S'))\n",
    "print('------------------')\n",
    "print('Acc. Return Test: ' + str(results['acc_return'].iloc[-1]))"
   ]
  },
  {
   "cell_type": "code",
   "execution_count": 19,
   "metadata": {},
   "outputs": [
    {
     "data": {
      "image/png": "[encoded data removed]",
      "text/plain": [
       "<matplotlib.figure.Figure at 0x1a0a07aa90>"
      ]
     },
     "metadata": {},
     "output_type": "display_data"
    }
   ],
   "source": [
    "plt.plot(results.date, results.acc_return)\n",
    "plt.xticks(rotation=75)\n",
    "plt.show()"
   ]
  },
  {
   "cell_type": "code",
   "execution_count": 20,
   "metadata": {},
   "outputs": [
    {
     "data": {
      "image/png": "[encoded data removed]",
      "text/plain": [
       "<matplotlib.figure.Figure at 0x1a0a92e320>"
      ]
     },
     "metadata": {},
     "output_type": "display_data"
    }
   ],
   "source": [
    "plt.hist(results['profit'], bins=30)\n",
    "plt.show()"
   ]
  },
  {
   "cell_type": "code",
   "execution_count": 21,
   "metadata": {},
   "outputs": [
    {
     "data": {
      "text/html": [
       "<div>\n",
       "<style scoped>\n",
       "    .dataframe tbody tr th:only-of-type {\n",
       "        vertical-align: middle;\n",
       "    }\n",
       "\n",
       "    .dataframe tbody tr th {\n",
       "        vertical-align: top;\n",
       "    }\n",
       "\n",
       "    .dataframe thead th {\n",
       "        text-align: right;\n",
       "    }\n",
       "</style>\n",
       "<table border=\"1\" class=\"dataframe\">\n",
       "  <thead>\n",
       "    <tr style=\"text-align: right;\">\n",
       "      <th></th>\n",
       "      <th>predicted_signal</th>\n",
       "      <th>target_sign</th>\n",
       "      <th>profit</th>\n",
       "      <th>acc_return</th>\n",
       "    </tr>\n",
       "  </thead>\n",
       "  <tbody>\n",
       "    <tr>\n",
       "      <th>11020</th>\n",
       "      <td>1.0</td>\n",
       "      <td>1.0</td>\n",
       "      <td>0.022500</td>\n",
       "      <td>0.022500</td>\n",
       "    </tr>\n",
       "    <tr>\n",
       "      <th>11029</th>\n",
       "      <td>1.0</td>\n",
       "      <td>1.0</td>\n",
       "      <td>0.022500</td>\n",
       "      <td>0.045000</td>\n",
       "    </tr>\n",
       "    <tr>\n",
       "      <th>11036</th>\n",
       "      <td>1.0</td>\n",
       "      <td>1.0</td>\n",
       "      <td>0.022500</td>\n",
       "      <td>0.067500</td>\n",
       "    </tr>\n",
       "    <tr>\n",
       "      <th>11042</th>\n",
       "      <td>1.0</td>\n",
       "      <td>1.0</td>\n",
       "      <td>0.022500</td>\n",
       "      <td>0.090000</td>\n",
       "    </tr>\n",
       "    <tr>\n",
       "      <th>11054</th>\n",
       "      <td>1.0</td>\n",
       "      <td>1.0</td>\n",
       "      <td>0.022500</td>\n",
       "      <td>0.112500</td>\n",
       "    </tr>\n",
       "    <tr>\n",
       "      <th>11067</th>\n",
       "      <td>1.0</td>\n",
       "      <td>0.0</td>\n",
       "      <td>-0.096491</td>\n",
       "      <td>0.016009</td>\n",
       "    </tr>\n",
       "    <tr>\n",
       "      <th>11078</th>\n",
       "      <td>0.0</td>\n",
       "      <td>0.0</td>\n",
       "      <td>0.000000</td>\n",
       "      <td>0.016009</td>\n",
       "    </tr>\n",
       "    <tr>\n",
       "      <th>11081</th>\n",
       "      <td>0.0</td>\n",
       "      <td>0.0</td>\n",
       "      <td>0.000000</td>\n",
       "      <td>0.016009</td>\n",
       "    </tr>\n",
       "    <tr>\n",
       "      <th>11094</th>\n",
       "      <td>0.0</td>\n",
       "      <td>0.0</td>\n",
       "      <td>0.000000</td>\n",
       "      <td>0.016009</td>\n",
       "    </tr>\n",
       "    <tr>\n",
       "      <th>11099</th>\n",
       "      <td>1.0</td>\n",
       "      <td>0.0</td>\n",
       "      <td>-0.076379</td>\n",
       "      <td>-0.060370</td>\n",
       "    </tr>\n",
       "    <tr>\n",
       "      <th>11109</th>\n",
       "      <td>0.0</td>\n",
       "      <td>0.0</td>\n",
       "      <td>0.000000</td>\n",
       "      <td>-0.060370</td>\n",
       "    </tr>\n",
       "    <tr>\n",
       "      <th>11112</th>\n",
       "      <td>1.0</td>\n",
       "      <td>1.0</td>\n",
       "      <td>0.022500</td>\n",
       "      <td>-0.037870</td>\n",
       "    </tr>\n",
       "    <tr>\n",
       "      <th>11129</th>\n",
       "      <td>1.0</td>\n",
       "      <td>1.0</td>\n",
       "      <td>0.022500</td>\n",
       "      <td>-0.015370</td>\n",
       "    </tr>\n",
       "    <tr>\n",
       "      <th>11139</th>\n",
       "      <td>1.0</td>\n",
       "      <td>1.0</td>\n",
       "      <td>0.022500</td>\n",
       "      <td>0.007130</td>\n",
       "    </tr>\n",
       "    <tr>\n",
       "      <th>11145</th>\n",
       "      <td>0.0</td>\n",
       "      <td>0.0</td>\n",
       "      <td>0.000000</td>\n",
       "      <td>0.007130</td>\n",
       "    </tr>\n",
       "    <tr>\n",
       "      <th>11157</th>\n",
       "      <td>1.0</td>\n",
       "      <td>1.0</td>\n",
       "      <td>0.022500</td>\n",
       "      <td>0.029630</td>\n",
       "    </tr>\n",
       "    <tr>\n",
       "      <th>11164</th>\n",
       "      <td>1.0</td>\n",
       "      <td>1.0</td>\n",
       "      <td>0.022500</td>\n",
       "      <td>0.052130</td>\n",
       "    </tr>\n",
       "    <tr>\n",
       "      <th>11199</th>\n",
       "      <td>0.0</td>\n",
       "      <td>0.0</td>\n",
       "      <td>0.000000</td>\n",
       "      <td>0.052130</td>\n",
       "    </tr>\n",
       "    <tr>\n",
       "      <th>11200</th>\n",
       "      <td>0.0</td>\n",
       "      <td>0.0</td>\n",
       "      <td>0.000000</td>\n",
       "      <td>0.052130</td>\n",
       "    </tr>\n",
       "    <tr>\n",
       "      <th>11210</th>\n",
       "      <td>0.0</td>\n",
       "      <td>0.0</td>\n",
       "      <td>0.000000</td>\n",
       "      <td>0.052130</td>\n",
       "    </tr>\n",
       "    <tr>\n",
       "      <th>11221</th>\n",
       "      <td>0.0</td>\n",
       "      <td>0.0</td>\n",
       "      <td>0.000000</td>\n",
       "      <td>0.052130</td>\n",
       "    </tr>\n",
       "    <tr>\n",
       "      <th>11236</th>\n",
       "      <td>0.0</td>\n",
       "      <td>0.0</td>\n",
       "      <td>0.000000</td>\n",
       "      <td>0.052130</td>\n",
       "    </tr>\n",
       "    <tr>\n",
       "      <th>11250</th>\n",
       "      <td>1.0</td>\n",
       "      <td>1.0</td>\n",
       "      <td>0.022500</td>\n",
       "      <td>0.074630</td>\n",
       "    </tr>\n",
       "    <tr>\n",
       "      <th>11258</th>\n",
       "      <td>1.0</td>\n",
       "      <td>1.0</td>\n",
       "      <td>0.022500</td>\n",
       "      <td>0.097130</td>\n",
       "    </tr>\n",
       "    <tr>\n",
       "      <th>11267</th>\n",
       "      <td>1.0</td>\n",
       "      <td>1.0</td>\n",
       "      <td>0.022500</td>\n",
       "      <td>0.119630</td>\n",
       "    </tr>\n",
       "    <tr>\n",
       "      <th>11272</th>\n",
       "      <td>1.0</td>\n",
       "      <td>1.0</td>\n",
       "      <td>0.022500</td>\n",
       "      <td>0.142130</td>\n",
       "    </tr>\n",
       "    <tr>\n",
       "      <th>11287</th>\n",
       "      <td>1.0</td>\n",
       "      <td>1.0</td>\n",
       "      <td>0.022500</td>\n",
       "      <td>0.164630</td>\n",
       "    </tr>\n",
       "    <tr>\n",
       "      <th>11297</th>\n",
       "      <td>1.0</td>\n",
       "      <td>1.0</td>\n",
       "      <td>0.022500</td>\n",
       "      <td>0.187130</td>\n",
       "    </tr>\n",
       "    <tr>\n",
       "      <th>11306</th>\n",
       "      <td>1.0</td>\n",
       "      <td>1.0</td>\n",
       "      <td>0.022500</td>\n",
       "      <td>0.209630</td>\n",
       "    </tr>\n",
       "    <tr>\n",
       "      <th>11314</th>\n",
       "      <td>1.0</td>\n",
       "      <td>1.0</td>\n",
       "      <td>0.022500</td>\n",
       "      <td>0.232130</td>\n",
       "    </tr>\n",
       "    <tr>\n",
       "      <th>...</th>\n",
       "      <td>...</td>\n",
       "      <td>...</td>\n",
       "      <td>...</td>\n",
       "      <td>...</td>\n",
       "    </tr>\n",
       "    <tr>\n",
       "      <th>24091</th>\n",
       "      <td>0.0</td>\n",
       "      <td>0.0</td>\n",
       "      <td>0.000000</td>\n",
       "      <td>5.590546</td>\n",
       "    </tr>\n",
       "    <tr>\n",
       "      <th>24105</th>\n",
       "      <td>0.0</td>\n",
       "      <td>0.0</td>\n",
       "      <td>0.000000</td>\n",
       "      <td>5.590546</td>\n",
       "    </tr>\n",
       "    <tr>\n",
       "      <th>24121</th>\n",
       "      <td>1.0</td>\n",
       "      <td>0.0</td>\n",
       "      <td>-0.046458</td>\n",
       "      <td>5.544089</td>\n",
       "    </tr>\n",
       "    <tr>\n",
       "      <th>24131</th>\n",
       "      <td>1.0</td>\n",
       "      <td>0.0</td>\n",
       "      <td>-0.045663</td>\n",
       "      <td>5.498425</td>\n",
       "    </tr>\n",
       "    <tr>\n",
       "      <th>24136</th>\n",
       "      <td>0.0</td>\n",
       "      <td>0.0</td>\n",
       "      <td>0.000000</td>\n",
       "      <td>5.498425</td>\n",
       "    </tr>\n",
       "    <tr>\n",
       "      <th>24148</th>\n",
       "      <td>1.0</td>\n",
       "      <td>0.0</td>\n",
       "      <td>-0.082646</td>\n",
       "      <td>5.415779</td>\n",
       "    </tr>\n",
       "    <tr>\n",
       "      <th>24152</th>\n",
       "      <td>1.0</td>\n",
       "      <td>0.0</td>\n",
       "      <td>-0.064360</td>\n",
       "      <td>5.351419</td>\n",
       "    </tr>\n",
       "    <tr>\n",
       "      <th>24171</th>\n",
       "      <td>1.0</td>\n",
       "      <td>1.0</td>\n",
       "      <td>0.022500</td>\n",
       "      <td>5.373919</td>\n",
       "    </tr>\n",
       "    <tr>\n",
       "      <th>24178</th>\n",
       "      <td>0.0</td>\n",
       "      <td>1.0</td>\n",
       "      <td>0.000000</td>\n",
       "      <td>5.373919</td>\n",
       "    </tr>\n",
       "    <tr>\n",
       "      <th>24194</th>\n",
       "      <td>0.0</td>\n",
       "      <td>1.0</td>\n",
       "      <td>0.000000</td>\n",
       "      <td>5.373919</td>\n",
       "    </tr>\n",
       "    <tr>\n",
       "      <th>24200</th>\n",
       "      <td>0.0</td>\n",
       "      <td>1.0</td>\n",
       "      <td>0.000000</td>\n",
       "      <td>5.373919</td>\n",
       "    </tr>\n",
       "    <tr>\n",
       "      <th>24205</th>\n",
       "      <td>0.0</td>\n",
       "      <td>0.0</td>\n",
       "      <td>0.000000</td>\n",
       "      <td>5.373919</td>\n",
       "    </tr>\n",
       "    <tr>\n",
       "      <th>24230</th>\n",
       "      <td>1.0</td>\n",
       "      <td>1.0</td>\n",
       "      <td>0.022500</td>\n",
       "      <td>5.396419</td>\n",
       "    </tr>\n",
       "    <tr>\n",
       "      <th>24234</th>\n",
       "      <td>1.0</td>\n",
       "      <td>1.0</td>\n",
       "      <td>0.022500</td>\n",
       "      <td>5.418919</td>\n",
       "    </tr>\n",
       "    <tr>\n",
       "      <th>24240</th>\n",
       "      <td>0.0</td>\n",
       "      <td>0.0</td>\n",
       "      <td>0.000000</td>\n",
       "      <td>5.418919</td>\n",
       "    </tr>\n",
       "    <tr>\n",
       "      <th>24268</th>\n",
       "      <td>0.0</td>\n",
       "      <td>1.0</td>\n",
       "      <td>0.000000</td>\n",
       "      <td>5.418919</td>\n",
       "    </tr>\n",
       "    <tr>\n",
       "      <th>24295</th>\n",
       "      <td>1.0</td>\n",
       "      <td>1.0</td>\n",
       "      <td>0.022500</td>\n",
       "      <td>5.441419</td>\n",
       "    </tr>\n",
       "    <tr>\n",
       "      <th>24310</th>\n",
       "      <td>0.0</td>\n",
       "      <td>1.0</td>\n",
       "      <td>0.000000</td>\n",
       "      <td>5.441419</td>\n",
       "    </tr>\n",
       "    <tr>\n",
       "      <th>24313</th>\n",
       "      <td>1.0</td>\n",
       "      <td>1.0</td>\n",
       "      <td>0.022500</td>\n",
       "      <td>5.463919</td>\n",
       "    </tr>\n",
       "    <tr>\n",
       "      <th>24374</th>\n",
       "      <td>1.0</td>\n",
       "      <td>1.0</td>\n",
       "      <td>0.022500</td>\n",
       "      <td>5.486419</td>\n",
       "    </tr>\n",
       "    <tr>\n",
       "      <th>24383</th>\n",
       "      <td>0.0</td>\n",
       "      <td>1.0</td>\n",
       "      <td>0.000000</td>\n",
       "      <td>5.486419</td>\n",
       "    </tr>\n",
       "    <tr>\n",
       "      <th>24386</th>\n",
       "      <td>0.0</td>\n",
       "      <td>1.0</td>\n",
       "      <td>0.000000</td>\n",
       "      <td>5.486419</td>\n",
       "    </tr>\n",
       "    <tr>\n",
       "      <th>24393</th>\n",
       "      <td>0.0</td>\n",
       "      <td>1.0</td>\n",
       "      <td>0.000000</td>\n",
       "      <td>5.486419</td>\n",
       "    </tr>\n",
       "    <tr>\n",
       "      <th>24416</th>\n",
       "      <td>0.0</td>\n",
       "      <td>1.0</td>\n",
       "      <td>0.000000</td>\n",
       "      <td>5.486419</td>\n",
       "    </tr>\n",
       "    <tr>\n",
       "      <th>24422</th>\n",
       "      <td>0.0</td>\n",
       "      <td>1.0</td>\n",
       "      <td>0.000000</td>\n",
       "      <td>5.486419</td>\n",
       "    </tr>\n",
       "    <tr>\n",
       "      <th>24437</th>\n",
       "      <td>0.0</td>\n",
       "      <td>1.0</td>\n",
       "      <td>0.000000</td>\n",
       "      <td>5.486419</td>\n",
       "    </tr>\n",
       "    <tr>\n",
       "      <th>24445</th>\n",
       "      <td>0.0</td>\n",
       "      <td>1.0</td>\n",
       "      <td>0.000000</td>\n",
       "      <td>5.486419</td>\n",
       "    </tr>\n",
       "    <tr>\n",
       "      <th>24450</th>\n",
       "      <td>0.0</td>\n",
       "      <td>1.0</td>\n",
       "      <td>0.000000</td>\n",
       "      <td>5.486419</td>\n",
       "    </tr>\n",
       "    <tr>\n",
       "      <th>24461</th>\n",
       "      <td>0.0</td>\n",
       "      <td>1.0</td>\n",
       "      <td>0.000000</td>\n",
       "      <td>5.486419</td>\n",
       "    </tr>\n",
       "    <tr>\n",
       "      <th>24465</th>\n",
       "      <td>0.0</td>\n",
       "      <td>1.0</td>\n",
       "      <td>0.000000</td>\n",
       "      <td>5.486419</td>\n",
       "    </tr>\n",
       "  </tbody>\n",
       "</table>\n",
       "<p>901 rows × 4 columns</p>\n",
       "</div>"
      ],
      "text/plain": [
       "       predicted_signal  target_sign    profit  acc_return\n",
       "11020               1.0          1.0  0.022500    0.022500\n",
       "11029               1.0          1.0  0.022500    0.045000\n",
       "11036               1.0          1.0  0.022500    0.067500\n",
       "11042               1.0          1.0  0.022500    0.090000\n",
       "11054               1.0          1.0  0.022500    0.112500\n",
       "11067               1.0          0.0 -0.096491    0.016009\n",
       "11078               0.0          0.0  0.000000    0.016009\n",
       "11081               0.0          0.0  0.000000    0.016009\n",
       "11094               0.0          0.0  0.000000    0.016009\n",
       "11099               1.0          0.0 -0.076379   -0.060370\n",
       "11109               0.0          0.0  0.000000   -0.060370\n",
       "11112               1.0          1.0  0.022500   -0.037870\n",
       "11129               1.0          1.0  0.022500   -0.015370\n",
       "11139               1.0          1.0  0.022500    0.007130\n",
       "11145               0.0          0.0  0.000000    0.007130\n",
       "11157               1.0          1.0  0.022500    0.029630\n",
       "11164               1.0          1.0  0.022500    0.052130\n",
       "11199               0.0          0.0  0.000000    0.052130\n",
       "11200               0.0          0.0  0.000000    0.052130\n",
       "11210               0.0          0.0  0.000000    0.052130\n",
       "11221               0.0          0.0  0.000000    0.052130\n",
       "11236               0.0          0.0  0.000000    0.052130\n",
       "11250               1.0          1.0  0.022500    0.074630\n",
       "11258               1.0          1.0  0.022500    0.097130\n",
       "11267               1.0          1.0  0.022500    0.119630\n",
       "11272               1.0          1.0  0.022500    0.142130\n",
       "11287               1.0          1.0  0.022500    0.164630\n",
       "11297               1.0          1.0  0.022500    0.187130\n",
       "11306               1.0          1.0  0.022500    0.209630\n",
       "11314               1.0          1.0  0.022500    0.232130\n",
       "...                 ...          ...       ...         ...\n",
       "24091               0.0          0.0  0.000000    5.590546\n",
       "24105               0.0          0.0  0.000000    5.590546\n",
       "24121               1.0          0.0 -0.046458    5.544089\n",
       "24131               1.0          0.0 -0.045663    5.498425\n",
       "24136               0.0          0.0  0.000000    5.498425\n",
       "24148               1.0          0.0 -0.082646    5.415779\n",
       "24152               1.0          0.0 -0.064360    5.351419\n",
       "24171               1.0          1.0  0.022500    5.373919\n",
       "24178               0.0          1.0  0.000000    5.373919\n",
       "24194               0.0          1.0  0.000000    5.373919\n",
       "24200               0.0          1.0  0.000000    5.373919\n",
       "24205               0.0          0.0  0.000000    5.373919\n",
       "24230               1.0          1.0  0.022500    5.396419\n",
       "24234               1.0          1.0  0.022500    5.418919\n",
       "24240               0.0          0.0  0.000000    5.418919\n",
       "24268               0.0          1.0  0.000000    5.418919\n",
       "24295               1.0          1.0  0.022500    5.441419\n",
       "24310               0.0          1.0  0.000000    5.441419\n",
       "24313               1.0          1.0  0.022500    5.463919\n",
       "24374               1.0          1.0  0.022500    5.486419\n",
       "24383               0.0          1.0  0.000000    5.486419\n",
       "24386               0.0          1.0  0.000000    5.486419\n",
       "24393               0.0          1.0  0.000000    5.486419\n",
       "24416               0.0          1.0  0.000000    5.486419\n",
       "24422               0.0          1.0  0.000000    5.486419\n",
       "24437               0.0          1.0  0.000000    5.486419\n",
       "24445               0.0          1.0  0.000000    5.486419\n",
       "24450               0.0          1.0  0.000000    5.486419\n",
       "24461               0.0          1.0  0.000000    5.486419\n",
       "24465               0.0          1.0  0.000000    5.486419\n",
       "\n",
       "[901 rows x 4 columns]"
      ]
     },
     "execution_count": 21,
     "metadata": {},
     "output_type": "execute_result"
    }
   ],
   "source": [
    "results[['predicted_signal', 'target_sign', 'profit', 'acc_return']]"
   ]
  },
  {
   "cell_type": "code",
   "execution_count": 22,
   "metadata": {},
   "outputs": [
    {
     "data": {
      "text/plain": [
       "0.5726970033296337"
      ]
     },
     "execution_count": 22,
     "metadata": {},
     "output_type": "execute_result"
    }
   ],
   "source": [
    "results.target_sign.sum()/len(results)"
   ]
  },
  {
   "cell_type": "code",
   "execution_count": 23,
   "metadata": {},
   "outputs": [],
   "source": [
    "from sklearn.feature_selection import SelectFromModel\n",
    "\n",
    "selection = SelectFromModel(model['Model'], threshold=0.03, prefit=True) "
   ]
  },
  {
   "cell_type": "code",
   "execution_count": 24,
   "metadata": {},
   "outputs": [
    {
     "data": {
      "image/png": "[encoded data removed]",
      "text/plain": [
       "<matplotlib.figure.Figure at 0x1a0a503f98>"
      ]
     },
     "metadata": {},
     "output_type": "display_data"
    }
   ],
   "source": [
    "plt.bar(range(len(model['Model'].feature_importances_)), model['Model'].feature_importances_)\n",
    "plt.show()"
   ]
  },
  {
   "cell_type": "code",
   "execution_count": 25,
   "metadata": {},
   "outputs": [],
   "source": [
    "# xgb_model = models['XGBoost']\n",
    "xgb_model = xgb.XGBClassifier(max_depth=8, learning_rate=0.2, n_estimators=400,\n",
    "                        objective= \"binary:logistic\", eval_metric=\"error\", gamma=0.,  #map\n",
    "                        max_delta_step=3, subsample=0.9, colsample_bytree=0.4,\n",
    "                        seed=0, verbose_eval=10)  \n",
    "    \n",
    "back_test = df.copy().sort_values('date')\n",
    "X, y, flat_missed_list, flat_list = get_x_y(target_value, back_test.iloc[:])\n",
    "# X = selection.transform(X)\n",
    "y_sample = y\n",
    "X_sample = X\n",
    "scaler = MinMaxScaler().fit(X_sample)\n",
    "X_sample = scaler.transform(X_sample)\n",
    "# Split Train, Test\n",
    "X_train, X_test = X_sample[:math.floor(len(X_sample) * 0.75)], X_sample[math.ceil(len(X_sample) * 0.75):]\n",
    "y_train, y_test = y_sample.iloc[:math.floor(len(y_sample) * 0.75)], y_sample.iloc[math.ceil(len(y_sample) * 0.75):]\n",
    "\n",
    "# Rebalance Samples\n",
    "oversampler = SMOTE(random_state=42)\n",
    "X_train, y_train = oversampler.fit_sample(X_train, y_train.target_sign)\n",
    "\n",
    "xgb_model.fit(X_train, y_train)\n",
    "\n",
    "predicted_proba = xgb_model.predict_proba(X_test)\n",
    "predicted = (predicted_proba[:, 1] >= 0.5).astype('int')\n",
    "precision = precision_score(y_test, predicted)\n",
    "train_acc = accuracy_score(y_test, predicted)"
   ]
  },
  {
   "cell_type": "code",
   "execution_count": 26,
   "metadata": {},
   "outputs": [
    {
     "name": "stdout",
     "output_type": "stream",
     "text": [
      "1446\n"
     ]
    }
   ],
   "source": [
    "print(len(df))"
   ]
  },
  {
   "cell_type": "code",
   "execution_count": 27,
   "metadata": {},
   "outputs": [
    {
     "data": {
      "text/plain": [
       "0.46621621621621623"
      ]
     },
     "execution_count": 27,
     "metadata": {},
     "output_type": "execute_result"
    }
   ],
   "source": [
    "precision"
   ]
  },
  {
   "cell_type": "code",
   "execution_count": 28,
   "metadata": {},
   "outputs": [
    {
     "data": {
      "text/plain": [
       "0.0225"
      ]
     },
     "execution_count": 28,
     "metadata": {},
     "output_type": "execute_result"
    }
   ],
   "source": [
    "target_value"
   ]
  },
  {
   "cell_type": "code",
   "execution_count": 29,
   "metadata": {},
   "outputs": [
    {
     "data": {
      "text/plain": [
       "-0.04520375533866889"
      ]
     },
     "execution_count": 29,
     "metadata": {},
     "output_type": "execute_result"
    }
   ],
   "source": [
    "stop_loss"
   ]
  },
  {
   "cell_type": "code",
   "execution_count": 30,
   "metadata": {},
   "outputs": [
    {
     "data": {
      "text/html": [
       "<div>\n",
       "<style scoped>\n",
       "    .dataframe tbody tr th:only-of-type {\n",
       "        vertical-align: middle;\n",
       "    }\n",
       "\n",
       "    .dataframe tbody tr th {\n",
       "        vertical-align: top;\n",
       "    }\n",
       "\n",
       "    .dataframe thead th {\n",
       "        text-align: right;\n",
       "    }\n",
       "</style>\n",
       "<table border=\"1\" class=\"dataframe\">\n",
       "  <thead>\n",
       "    <tr style=\"text-align: right;\">\n",
       "      <th></th>\n",
       "      <th>model</th>\n",
       "      <th>precision</th>\n",
       "      <th>stop_loss</th>\n",
       "      <th>target_value</th>\n",
       "    </tr>\n",
       "  </thead>\n",
       "  <tbody>\n",
       "    <tr>\n",
       "      <th>0</th>\n",
       "      <td>{'Precision': 0.6413043478260869, 'Accuracy': ...</td>\n",
       "      <td>0.641304</td>\n",
       "      <td>-0.061152</td>\n",
       "      <td>0.0050</td>\n",
       "    </tr>\n",
       "    <tr>\n",
       "      <th>1</th>\n",
       "      <td>{'Precision': 0.5955056179775281, 'Accuracy': ...</td>\n",
       "      <td>0.595506</td>\n",
       "      <td>-0.058464</td>\n",
       "      <td>0.0075</td>\n",
       "    </tr>\n",
       "    <tr>\n",
       "      <th>2</th>\n",
       "      <td>{'Precision': 0.5569620253164557, 'Accuracy': ...</td>\n",
       "      <td>0.556962</td>\n",
       "      <td>-0.055554</td>\n",
       "      <td>0.0100</td>\n",
       "    </tr>\n",
       "    <tr>\n",
       "      <th>3</th>\n",
       "      <td>{'Precision': 0.5288888888888889, 'Accuracy': ...</td>\n",
       "      <td>0.528889</td>\n",
       "      <td>-0.053588</td>\n",
       "      <td>0.0125</td>\n",
       "    </tr>\n",
       "    <tr>\n",
       "      <th>4</th>\n",
       "      <td>{'Precision': 0.5172413793103449, 'Accuracy': ...</td>\n",
       "      <td>0.517241</td>\n",
       "      <td>-0.047040</td>\n",
       "      <td>0.0200</td>\n",
       "    </tr>\n",
       "    <tr>\n",
       "      <th>5</th>\n",
       "      <td>{'Precision': 0.5735294117647058, 'Accuracy': ...</td>\n",
       "      <td>0.573529</td>\n",
       "      <td>-0.045204</td>\n",
       "      <td>0.0225</td>\n",
       "    </tr>\n",
       "  </tbody>\n",
       "</table>\n",
       "</div>"
      ],
      "text/plain": [
       "                                               model  precision  stop_loss  \\\n",
       "0  {'Precision': 0.6413043478260869, 'Accuracy': ...   0.641304  -0.061152   \n",
       "1  {'Precision': 0.5955056179775281, 'Accuracy': ...   0.595506  -0.058464   \n",
       "2  {'Precision': 0.5569620253164557, 'Accuracy': ...   0.556962  -0.055554   \n",
       "3  {'Precision': 0.5288888888888889, 'Accuracy': ...   0.528889  -0.053588   \n",
       "4  {'Precision': 0.5172413793103449, 'Accuracy': ...   0.517241  -0.047040   \n",
       "5  {'Precision': 0.5735294117647058, 'Accuracy': ...   0.573529  -0.045204   \n",
       "\n",
       "   target_value  \n",
       "0        0.0050  \n",
       "1        0.0075  \n",
       "2        0.0100  \n",
       "3        0.0125  \n",
       "4        0.0200  \n",
       "5        0.0225  "
      ]
     },
     "execution_count": 30,
     "metadata": {},
     "output_type": "execute_result"
    }
   ],
   "source": [
    "df_models"
   ]
  },
  {
   "cell_type": "code",
   "execution_count": 31,
   "metadata": {},
   "outputs": [
    {
     "data": {
      "image/png": "[encoded data removed]",
      "text/plain": [
       "<matplotlib.figure.Figure at 0x1a0a7569e8>"
      ]
     },
     "metadata": {},
     "output_type": "display_data"
    }
   ],
   "source": [
    "plt.bar(range(len(xgb_model.feature_importances_)), xgb_model.feature_importances_)\n",
    "plt.show()"
   ]
  },
  {
   "cell_type": "code",
   "execution_count": 32,
   "metadata": {
    "collapsed": true
   },
   "outputs": [],
   "source": [
    "model = {\n",
    "    'take_profit': target_value,\n",
    "    'stop_loss': stop_loss,\n",
    "    'Scaler': X_sample,\n",
    "    'Model': xgb_model\n",
    "    \n",
    "}\n",
    "filename = '../' + coin + '_model.sav'\n",
    "pickle.dump(model, open(filename, 'wb'))"
   ]
  },
  {
   "cell_type": "code",
   "execution_count": null,
   "metadata": {
    "collapsed": true
   },
   "outputs": [],
   "source": []
  },
  {
   "cell_type": "code",
   "execution_count": null,
   "metadata": {
    "collapsed": true
   },
   "outputs": [],
   "source": []
  },
  {
   "cell_type": "code",
   "execution_count": null,
   "metadata": {
    "collapsed": true
   },
   "outputs": [],
   "source": []
  },
  {
   "cell_type": "code",
   "execution_count": null,
   "metadata": {
    "collapsed": true
   },
   "outputs": [],
   "source": []
  }
 ],
 "metadata": {
  "kernelspec": {
   "display_name": "Python [conda env:cryptocurrency-analysis]",
   "language": "python",
   "name": "conda-env-cryptocurrency-analysis-py"
  },
  "language_info": {
   "codemirror_mode": {
    "name": "ipython",
    "version": 3
   },
   "file_extension": ".py",
   "mimetype": "text/x-python",
   "name": "python",
   "nbconvert_exporter": "python",
   "pygments_lexer": "ipython3",
   "version": "3.6.3"
  }
 },
 "nbformat": 4,
 "nbformat_minor": 2
}
