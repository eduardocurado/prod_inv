{
 "cells": [
  {
   "cell_type": "code",
   "execution_count": 1,
   "metadata": {
    "collapsed": true
   },
   "outputs": [],
   "source": [
    "from datetime import datetime, timedelta\n",
    "import math\n",
    "\n",
    "import matplotlib.pyplot as plt\n",
    "import numpy as np\n",
    "import pandas as pd\n",
    "import xgboost as xgb\n",
    "from imblearn.over_sampling import SMOTE\n",
    "from sklearn.metrics import accuracy_score\n",
    "from sklearn.metrics import precision_score\n",
    "from sklearn.preprocessing import MinMaxScaler\n",
    "\n",
    "pd.set_option('display.max_columns', 500)"
   ]
  },
  {
   "cell_type": "markdown",
   "metadata": {},
   "source": [
    "### Separate features and target variables\n",
    "    - additionaly we define the probability of a non-good target hit stop loss and a good target to hit stop loss are calulated"
   ]
  },
  {
   "cell_type": "code",
   "execution_count": 2,
   "metadata": {
    "collapsed": true
   },
   "outputs": [],
   "source": [
    "def get_x_y(target_value, features_df):\n",
    "    targets = ['target_log_return_1', 'target_log_return_2', 'target_log_return_3',\n",
    "                'target_log_return_4', 'target_log_return_5', 'target_log_return_6',]\n",
    "\n",
    "    mask = (\n",
    "       ((features_df['target_log_return_1'] >= target_value)\n",
    "        | (features_df['target_log_return_2'] >= target_value) \n",
    "        | (features_df['target_log_return_3'] >= target_value) \n",
    "        | (features_df['target_log_return_4'] >= target_value)\n",
    "        | (features_df['target_log_return_5'] >= target_value)\n",
    "        | (features_df['target_log_return_6'] >= target_value))\n",
    "           )\n",
    "    print('Setting up target variable...')\n",
    "    features_df.loc[mask, 'target_sign'] = 1\n",
    "    features_df.loc[~mask, 'target_sign'] = 0\n",
    "    \n",
    "    drop_columns = ['coin', 'date', 'period', \n",
    "                'high', 'low', 'open', 'close', 'volume', 'quote_volume',\n",
    "                'weightedAverage',\n",
    "                'BBUpper', 'BBLower', 'BBMiddle',\n",
    "                'EMA9', 'EMA12', 'EMA26', 'EMA50',\n",
    "                'SMA9', 'SMA12', 'SMA26', 'SMA50',\n",
    "                'target_log_return_1', 'target_log_return_2', 'target_log_return_3',\n",
    "                'target_log_return_4', 'target_log_return_5', 'target_log_return_6'\n",
    "               ]\n",
    "\n",
    "    # Preparing dataframe\n",
    "    print('Cleaning data set...')\n",
    "    mask = (\n",
    "       ((features_df['log_return'] >= target_value)\n",
    "        | (features_df['log_return_2'] >= target_value) \n",
    "        | (features_df['log_return_3'] >= target_value) \n",
    "        | (features_df['log_return_4'] >= target_value)\n",
    "           ))\n",
    "    features_df.loc[mask, 'last_target'] = 1\n",
    "    features_df.loc[~mask, 'last_target'] = 0\n",
    "    clean_df = features_df.drop(drop_columns, axis=1).copy()\n",
    "    # Defining Features (X) and Target Variable (y)\n",
    "    print('Getting list of returns...')\n",
    "    \n",
    "    returns = []\n",
    "    for t in targets:\n",
    "        returns.append(features_df.loc[features_df['target_sign'] == 0, t].values)\n",
    "\n",
    "    flat_missed_list = [item for sublist in returns for item in sublist if not math.isnan(item)]\n",
    "\n",
    "    returns = []\n",
    "    for t in targets:\n",
    "        returns.append(features_df.loc[features_df['target_sign'] == 1, t].values)\n",
    "\n",
    "    flat_list = [item for sublist in returns for item in sublist if not math.isnan(item)]\n",
    "    \n",
    "    \n",
    "    X = clean_df.drop(['target_sign'], axis =1).copy()\n",
    "    y = clean_df[['target_sign']].copy()\n",
    "    \n",
    "    return X, y, flat_missed_list, flat_list\n",
    "    \n",
    "    "
   ]
  },
  {
   "cell_type": "markdown",
   "metadata": {},
   "source": [
    "### Running model"
   ]
  },
  {
   "cell_type": "code",
   "execution_count": 3,
   "metadata": {
    "collapsed": true
   },
   "outputs": [],
   "source": [
    "def run_model(X_sample, y_sample, target_value, threshold,  model, scale=True, smote=True):\n",
    "    \n",
    "        \n",
    "    if scale:\n",
    "        print('Scaling...')\n",
    "        scaler = MinMaxScaler().fit(X_sample)\n",
    "        X_sample = scaler.transform(X_sample)\n",
    "    # Split Train, Test\n",
    "    X_train, X_test = X_sample[:math.floor(len(X_sample) * 0.75)].copy(), X_sample[math.ceil(len(X_sample) * 0.75):].copy()\n",
    "    y_train, y_test = y_sample.iloc[:math.floor(len(y_sample) * 0.75)].copy(), y_sample.iloc[math.ceil(len(y_sample) * 0.75):].copy()\n",
    "\n",
    "    if smote:\n",
    "        print('Balacing dataset...')\n",
    "        # Rebalance Samples\n",
    "        oversampler = SMOTE(random_state=42)\n",
    "        X_train, y_train = oversampler.fit_sample(X_train, y_train.target_sign)\n",
    "        \n",
    "    # (Re) define Models\n",
    "    print('Fitting model...')\n",
    "    model.fit(X_train, y_train)\n",
    "    predicted_proba = model.predict_proba(X_test)\n",
    "    predicted = (predicted_proba[:, 1] >= threshold).astype('int')\n",
    "    precision = precision_score(y_test, predicted)\n",
    "    train_acc = accuracy_score(y_test, predicted)\n",
    "    return {\n",
    "        'Precision': precision,\n",
    "        'Accuracy': train_acc,\n",
    "        'Trades': np.sum(predicted),\n",
    "        'Real Profits': np.sum(y_test)[0],\n",
    "        'Target': target_value,\n",
    "        'Scaler': scaler,\n",
    "        'Model': model\n",
    "    }"
   ]
  },
  {
   "cell_type": "markdown",
   "metadata": {},
   "source": [
    "### For a given stop loss-take profit value, we define de Expected Return of the model:\n",
    "    - Sum of the given values:\n",
    "        - Precision of the model is right * Probability of not hitting stop loss mark * Take Profit\n",
    "        - Precision of the model is right * Probability of hitting stop loss mark * Stop Loss\n",
    "        - Precision of the model is wrong * Probability of not hitting stop loss mark * Mean Return of Sample\n",
    "        - Precision of the model is wrong * Probability of hitting stop loss mark * Stop Loss"
   ]
  },
  {
   "cell_type": "code",
   "execution_count": 4,
   "metadata": {
    "collapsed": true
   },
   "outputs": [],
   "source": [
    "import pickle\n",
    "# ['USDT_BTC', 'USDT_ETH', 'USDT_LTC', 'USDT_XRP', 'USDT_ETC', 'USDT_DASH',\n",
    "#                 'USDT_XMR',  'USDT_STR',]\n",
    "\n",
    "# Done: \n",
    "coin = 'USDT_STR'\n",
    "df = pickle.load(open('../' + coin + 'back_test_sample.sav', 'rb'))\n",
    "df = df.loc[df.date >= datetime(2018,2,1,0,0).timestamp()].sort_values(['date'], ascending=True)\n",
    "last_row = 0\n",
    "for index, row in df.dropna().iterrows():\n",
    "    ok = True\n",
    "    if last_row == 0:\n",
    "        last_row = row['date']\n",
    "        continue\n",
    "    if row['date'] - last_row  != 14400:\n",
    "        print('Not consistent')\n",
    "        print(row.date)\n",
    "        print(last_row)\n",
    "    #df.loc[df.index==index, 'dif'] = row['date'] - last_row \n",
    "    last_row = row['date']\n",
    "date_initial = df.date.iloc[0]\n",
    "date_end = df.date.iloc[-1]"
   ]
  },
  {
   "cell_type": "markdown",
   "metadata": {},
   "source": [
    "### For a given Size of Sample to use in model each step we do the following:\n",
    "     - Run the model (if enough sample)\n",
    "     - Select best parameters (Stop Loss and Take Profit)\n",
    "     - Predict (if Model is good enough)\n",
    "    "
   ]
  },
  {
   "cell_type": "code",
   "execution_count": 5,
   "metadata": {},
   "outputs": [
    {
     "data": {
      "text/plain": [
       "Index(['coin', 'date', 'period', 'high', 'low', 'close', 'open', 'volume',\n",
       "       'quote_volume', 'weightedAverage', 'ADX', 'ATR', 'BBLower', 'BBMiddle',\n",
       "       'BBUpper', 'EMA12', 'EMA26', 'EMA50', 'EMA9', 'HISTOGRAM', 'MACD',\n",
       "       'MOMENTUM', 'OBV', 'RSI14', 'SIGNAL', 'SMA12', 'SMA26', 'SMA50', 'SMA9',\n",
       "       'TREND_COIN', 'WILLR', 'slope', 'slope_short', 'BBand_height',\n",
       "       'BBand_lower_height', 'BBand_upper_height', 'EMA_height12',\n",
       "       'EMA_height26', 'SMA_height12', 'SMA_height26', 'close_open',\n",
       "       'close_low', 'close_high', 'log_trend', 'rate_slope', 'high_low',\n",
       "       'ema_height', 'log_return', 'log_return_2', 'log_return_3',\n",
       "       'log_return_4', 'mean_return', 'variance', 'stdev',\n",
       "       'target_log_return_1', 'target_log_return_2', 'target_log_return_3',\n",
       "       'target_log_return_4', 'target_log_return_5', 'target_log_return_6'],\n",
       "      dtype='object')"
      ]
     },
     "execution_count": 5,
     "metadata": {},
     "output_type": "execute_result"
    }
   ],
   "source": [
    "df.columns"
   ]
  },
  {
   "cell_type": "code",
   "execution_count": 6,
   "metadata": {},
   "outputs": [
    {
     "data": {
      "text/plain": [
       "1467"
      ]
     },
     "execution_count": 6,
     "metadata": {},
     "output_type": "execute_result"
    }
   ],
   "source": [
    "# import talib as tb\n",
    "# ma = tb.MA(back_test.TREND_COIN, timeperiod=6)\n",
    "# back_test['SMA24_trend'] = ma\n",
    "len(df)"
   ]
  },
  {
   "cell_type": "code",
   "execution_count": 7,
   "metadata": {
    "scrolled": true
   },
   "outputs": [
    {
     "name": "stdout",
     "output_type": "stream",
     "text": [
      "Initiating ....\n",
      "Getting X Y Variables....\n",
      "1467\n",
      "Setting up target variable...\n"
     ]
    },
    {
     "name": "stderr",
     "output_type": "stream",
     "text": [
      "/home/eduardo/anaconda3/lib/python3.6/site-packages/pandas/core/indexing.py:337: SettingWithCopyWarning: \n",
      "A value is trying to be set on a copy of a slice from a DataFrame.\n",
      "Try using .loc[row_indexer,col_indexer] = value instead\n",
      "\n",
      "See the caveats in the documentation: http://pandas.pydata.org/pandas-docs/stable/indexing.html#indexing-view-versus-copy\n",
      "  self.obj[key] = _infer_fill_value(value)\n",
      "/home/eduardo/anaconda3/lib/python3.6/site-packages/pandas/core/indexing.py:517: SettingWithCopyWarning: \n",
      "A value is trying to be set on a copy of a slice from a DataFrame.\n",
      "Try using .loc[row_indexer,col_indexer] = value instead\n",
      "\n",
      "See the caveats in the documentation: http://pandas.pydata.org/pandas-docs/stable/indexing.html#indexing-view-versus-copy\n",
      "  self.obj[item] = s\n"
     ]
    },
    {
     "name": "stdout",
     "output_type": "stream",
     "text": [
      "Cleaning data set...\n",
      "Getting list of returns...\n",
      "Running model ....\n",
      "Scaling...\n",
      "Balacing dataset...\n",
      "Fitting model...\n",
      "0.718309859155\n",
      "Initiating ....\n",
      "Getting X Y Variables....\n",
      "1467\n",
      "Setting up target variable...\n"
     ]
    },
    {
     "name": "stderr",
     "output_type": "stream",
     "text": [
      "/home/eduardo/anaconda3/lib/python3.6/site-packages/pandas/core/indexing.py:337: SettingWithCopyWarning: \n",
      "A value is trying to be set on a copy of a slice from a DataFrame.\n",
      "Try using .loc[row_indexer,col_indexer] = value instead\n",
      "\n",
      "See the caveats in the documentation: http://pandas.pydata.org/pandas-docs/stable/indexing.html#indexing-view-versus-copy\n",
      "  self.obj[key] = _infer_fill_value(value)\n",
      "/home/eduardo/anaconda3/lib/python3.6/site-packages/pandas/core/indexing.py:517: SettingWithCopyWarning: \n",
      "A value is trying to be set on a copy of a slice from a DataFrame.\n",
      "Try using .loc[row_indexer,col_indexer] = value instead\n",
      "\n",
      "See the caveats in the documentation: http://pandas.pydata.org/pandas-docs/stable/indexing.html#indexing-view-versus-copy\n",
      "  self.obj[item] = s\n"
     ]
    },
    {
     "name": "stdout",
     "output_type": "stream",
     "text": [
      "Cleaning data set...\n",
      "Getting list of returns...\n",
      "Running model ....\n",
      "Scaling...\n",
      "Balacing dataset...\n",
      "Fitting model...\n",
      "0.671232876712\n",
      "Initiating ....\n",
      "Getting X Y Variables....\n",
      "1467\n",
      "Setting up target variable...\n"
     ]
    },
    {
     "name": "stderr",
     "output_type": "stream",
     "text": [
      "/home/eduardo/anaconda3/lib/python3.6/site-packages/pandas/core/indexing.py:337: SettingWithCopyWarning: \n",
      "A value is trying to be set on a copy of a slice from a DataFrame.\n",
      "Try using .loc[row_indexer,col_indexer] = value instead\n",
      "\n",
      "See the caveats in the documentation: http://pandas.pydata.org/pandas-docs/stable/indexing.html#indexing-view-versus-copy\n",
      "  self.obj[key] = _infer_fill_value(value)\n",
      "/home/eduardo/anaconda3/lib/python3.6/site-packages/pandas/core/indexing.py:517: SettingWithCopyWarning: \n",
      "A value is trying to be set on a copy of a slice from a DataFrame.\n",
      "Try using .loc[row_indexer,col_indexer] = value instead\n",
      "\n",
      "See the caveats in the documentation: http://pandas.pydata.org/pandas-docs/stable/indexing.html#indexing-view-versus-copy\n",
      "  self.obj[item] = s\n"
     ]
    },
    {
     "name": "stdout",
     "output_type": "stream",
     "text": [
      "Cleaning data set...\n",
      "Getting list of returns...\n",
      "Running model ....\n",
      "Scaling...\n",
      "Balacing dataset...\n",
      "Fitting model...\n",
      "0.673076923077\n",
      "Initiating ....\n",
      "Getting X Y Variables....\n",
      "1467\n",
      "Setting up target variable...\n"
     ]
    },
    {
     "name": "stderr",
     "output_type": "stream",
     "text": [
      "/home/eduardo/anaconda3/lib/python3.6/site-packages/pandas/core/indexing.py:337: SettingWithCopyWarning: \n",
      "A value is trying to be set on a copy of a slice from a DataFrame.\n",
      "Try using .loc[row_indexer,col_indexer] = value instead\n",
      "\n",
      "See the caveats in the documentation: http://pandas.pydata.org/pandas-docs/stable/indexing.html#indexing-view-versus-copy\n",
      "  self.obj[key] = _infer_fill_value(value)\n",
      "/home/eduardo/anaconda3/lib/python3.6/site-packages/pandas/core/indexing.py:517: SettingWithCopyWarning: \n",
      "A value is trying to be set on a copy of a slice from a DataFrame.\n",
      "Try using .loc[row_indexer,col_indexer] = value instead\n",
      "\n",
      "See the caveats in the documentation: http://pandas.pydata.org/pandas-docs/stable/indexing.html#indexing-view-versus-copy\n",
      "  self.obj[item] = s\n"
     ]
    },
    {
     "name": "stdout",
     "output_type": "stream",
     "text": [
      "Cleaning data set...\n",
      "Getting list of returns...\n",
      "Running model ....\n",
      "Scaling...\n",
      "Balacing dataset...\n",
      "Fitting model...\n",
      "0.650485436893\n",
      "Initiating ....\n",
      "Getting X Y Variables....\n",
      "1467\n",
      "Setting up target variable...\n"
     ]
    },
    {
     "name": "stderr",
     "output_type": "stream",
     "text": [
      "/home/eduardo/anaconda3/lib/python3.6/site-packages/pandas/core/indexing.py:337: SettingWithCopyWarning: \n",
      "A value is trying to be set on a copy of a slice from a DataFrame.\n",
      "Try using .loc[row_indexer,col_indexer] = value instead\n",
      "\n",
      "See the caveats in the documentation: http://pandas.pydata.org/pandas-docs/stable/indexing.html#indexing-view-versus-copy\n",
      "  self.obj[key] = _infer_fill_value(value)\n",
      "/home/eduardo/anaconda3/lib/python3.6/site-packages/pandas/core/indexing.py:517: SettingWithCopyWarning: \n",
      "A value is trying to be set on a copy of a slice from a DataFrame.\n",
      "Try using .loc[row_indexer,col_indexer] = value instead\n",
      "\n",
      "See the caveats in the documentation: http://pandas.pydata.org/pandas-docs/stable/indexing.html#indexing-view-versus-copy\n",
      "  self.obj[item] = s\n"
     ]
    },
    {
     "name": "stdout",
     "output_type": "stream",
     "text": [
      "Cleaning data set...\n",
      "Getting list of returns...\n",
      "Running model ....\n",
      "Scaling...\n",
      "Balacing dataset...\n",
      "Fitting model...\n",
      "0.600896860987\n",
      "Initiating ....\n",
      "Getting X Y Variables....\n",
      "1467\n",
      "Setting up target variable...\n"
     ]
    },
    {
     "name": "stderr",
     "output_type": "stream",
     "text": [
      "/home/eduardo/anaconda3/lib/python3.6/site-packages/pandas/core/indexing.py:337: SettingWithCopyWarning: \n",
      "A value is trying to be set on a copy of a slice from a DataFrame.\n",
      "Try using .loc[row_indexer,col_indexer] = value instead\n",
      "\n",
      "See the caveats in the documentation: http://pandas.pydata.org/pandas-docs/stable/indexing.html#indexing-view-versus-copy\n",
      "  self.obj[key] = _infer_fill_value(value)\n",
      "/home/eduardo/anaconda3/lib/python3.6/site-packages/pandas/core/indexing.py:517: SettingWithCopyWarning: \n",
      "A value is trying to be set on a copy of a slice from a DataFrame.\n",
      "Try using .loc[row_indexer,col_indexer] = value instead\n",
      "\n",
      "See the caveats in the documentation: http://pandas.pydata.org/pandas-docs/stable/indexing.html#indexing-view-versus-copy\n",
      "  self.obj[item] = s\n"
     ]
    },
    {
     "name": "stdout",
     "output_type": "stream",
     "text": [
      "Cleaning data set...\n",
      "Getting list of returns...\n",
      "Running model ....\n",
      "Scaling...\n",
      "Balacing dataset...\n",
      "Fitting model...\n",
      "0.577142857143\n",
      "Initiating ....\n",
      "Getting X Y Variables....\n",
      "1467\n",
      "Setting up target variable...\n"
     ]
    },
    {
     "name": "stderr",
     "output_type": "stream",
     "text": [
      "/home/eduardo/anaconda3/lib/python3.6/site-packages/pandas/core/indexing.py:337: SettingWithCopyWarning: \n",
      "A value is trying to be set on a copy of a slice from a DataFrame.\n",
      "Try using .loc[row_indexer,col_indexer] = value instead\n",
      "\n",
      "See the caveats in the documentation: http://pandas.pydata.org/pandas-docs/stable/indexing.html#indexing-view-versus-copy\n",
      "  self.obj[key] = _infer_fill_value(value)\n",
      "/home/eduardo/anaconda3/lib/python3.6/site-packages/pandas/core/indexing.py:517: SettingWithCopyWarning: \n",
      "A value is trying to be set on a copy of a slice from a DataFrame.\n",
      "Try using .loc[row_indexer,col_indexer] = value instead\n",
      "\n",
      "See the caveats in the documentation: http://pandas.pydata.org/pandas-docs/stable/indexing.html#indexing-view-versus-copy\n",
      "  self.obj[item] = s\n"
     ]
    },
    {
     "name": "stdout",
     "output_type": "stream",
     "text": [
      "Cleaning data set...\n",
      "Getting list of returns...\n",
      "Running model ....\n",
      "Scaling...\n",
      "Balacing dataset...\n",
      "Fitting model...\n",
      "0.505882352941\n",
      "Initiating ....\n",
      "Getting X Y Variables....\n",
      "1467\n",
      "Setting up target variable...\n"
     ]
    },
    {
     "name": "stderr",
     "output_type": "stream",
     "text": [
      "/home/eduardo/anaconda3/lib/python3.6/site-packages/pandas/core/indexing.py:337: SettingWithCopyWarning: \n",
      "A value is trying to be set on a copy of a slice from a DataFrame.\n",
      "Try using .loc[row_indexer,col_indexer] = value instead\n",
      "\n",
      "See the caveats in the documentation: http://pandas.pydata.org/pandas-docs/stable/indexing.html#indexing-view-versus-copy\n",
      "  self.obj[key] = _infer_fill_value(value)\n",
      "/home/eduardo/anaconda3/lib/python3.6/site-packages/pandas/core/indexing.py:517: SettingWithCopyWarning: \n",
      "A value is trying to be set on a copy of a slice from a DataFrame.\n",
      "Try using .loc[row_indexer,col_indexer] = value instead\n",
      "\n",
      "See the caveats in the documentation: http://pandas.pydata.org/pandas-docs/stable/indexing.html#indexing-view-versus-copy\n",
      "  self.obj[item] = s\n"
     ]
    },
    {
     "name": "stdout",
     "output_type": "stream",
     "text": [
      "Cleaning data set...\n",
      "Getting list of returns...\n",
      "Running model ....\n",
      "Scaling...\n",
      "Balacing dataset...\n",
      "Fitting model...\n",
      "0.458823529412\n",
      "Initiating ....\n",
      "Getting X Y Variables....\n",
      "1467\n",
      "Setting up target variable...\n"
     ]
    },
    {
     "name": "stderr",
     "output_type": "stream",
     "text": [
      "/home/eduardo/anaconda3/lib/python3.6/site-packages/pandas/core/indexing.py:337: SettingWithCopyWarning: \n",
      "A value is trying to be set on a copy of a slice from a DataFrame.\n",
      "Try using .loc[row_indexer,col_indexer] = value instead\n",
      "\n",
      "See the caveats in the documentation: http://pandas.pydata.org/pandas-docs/stable/indexing.html#indexing-view-versus-copy\n",
      "  self.obj[key] = _infer_fill_value(value)\n",
      "/home/eduardo/anaconda3/lib/python3.6/site-packages/pandas/core/indexing.py:517: SettingWithCopyWarning: \n",
      "A value is trying to be set on a copy of a slice from a DataFrame.\n",
      "Try using .loc[row_indexer,col_indexer] = value instead\n",
      "\n",
      "See the caveats in the documentation: http://pandas.pydata.org/pandas-docs/stable/indexing.html#indexing-view-versus-copy\n",
      "  self.obj[item] = s\n"
     ]
    },
    {
     "name": "stdout",
     "output_type": "stream",
     "text": [
      "Cleaning data set...\n",
      "Getting list of returns...\n",
      "Running model ....\n",
      "Scaling...\n",
      "Balacing dataset...\n",
      "Fitting model...\n",
      "0.493055555556\n",
      "Initiating ....\n",
      "Getting X Y Variables....\n",
      "1467\n",
      "Setting up target variable...\n"
     ]
    },
    {
     "name": "stderr",
     "output_type": "stream",
     "text": [
      "/home/eduardo/anaconda3/lib/python3.6/site-packages/pandas/core/indexing.py:337: SettingWithCopyWarning: \n",
      "A value is trying to be set on a copy of a slice from a DataFrame.\n",
      "Try using .loc[row_indexer,col_indexer] = value instead\n",
      "\n",
      "See the caveats in the documentation: http://pandas.pydata.org/pandas-docs/stable/indexing.html#indexing-view-versus-copy\n",
      "  self.obj[key] = _infer_fill_value(value)\n",
      "/home/eduardo/anaconda3/lib/python3.6/site-packages/pandas/core/indexing.py:517: SettingWithCopyWarning: \n",
      "A value is trying to be set on a copy of a slice from a DataFrame.\n",
      "Try using .loc[row_indexer,col_indexer] = value instead\n",
      "\n",
      "See the caveats in the documentation: http://pandas.pydata.org/pandas-docs/stable/indexing.html#indexing-view-versus-copy\n",
      "  self.obj[item] = s\n"
     ]
    },
    {
     "name": "stdout",
     "output_type": "stream",
     "text": [
      "Cleaning data set...\n",
      "Getting list of returns...\n",
      "Running model ....\n",
      "Scaling...\n",
      "Balacing dataset...\n",
      "Fitting model...\n",
      "0.454545454545\n",
      "Initiating ....\n",
      "Getting X Y Variables....\n",
      "1467\n",
      "Setting up target variable...\n"
     ]
    },
    {
     "name": "stderr",
     "output_type": "stream",
     "text": [
      "/home/eduardo/anaconda3/lib/python3.6/site-packages/pandas/core/indexing.py:337: SettingWithCopyWarning: \n",
      "A value is trying to be set on a copy of a slice from a DataFrame.\n",
      "Try using .loc[row_indexer,col_indexer] = value instead\n",
      "\n",
      "See the caveats in the documentation: http://pandas.pydata.org/pandas-docs/stable/indexing.html#indexing-view-versus-copy\n",
      "  self.obj[key] = _infer_fill_value(value)\n",
      "/home/eduardo/anaconda3/lib/python3.6/site-packages/pandas/core/indexing.py:517: SettingWithCopyWarning: \n",
      "A value is trying to be set on a copy of a slice from a DataFrame.\n",
      "Try using .loc[row_indexer,col_indexer] = value instead\n",
      "\n",
      "See the caveats in the documentation: http://pandas.pydata.org/pandas-docs/stable/indexing.html#indexing-view-versus-copy\n",
      "  self.obj[item] = s\n"
     ]
    },
    {
     "name": "stdout",
     "output_type": "stream",
     "text": [
      "Cleaning data set...\n",
      "Getting list of returns...\n",
      "Running model ....\n",
      "Scaling...\n",
      "Balacing dataset...\n",
      "Fitting model...\n",
      "0.465408805031\n"
     ]
    }
   ],
   "source": [
    "threshold = 0.50\n",
    "risk_free = ((1 + 0.065) ** (1/252) - 1)\n",
    "test_size = -30\n",
    "\n",
    "\n",
    "models = {\n",
    "    'XGBoost': xgb.XGBClassifier(max_depth=8, learning_rate=0.2, n_estimators=400,\n",
    "                        objective= \"binary:logistic\", eval_metric=\"error\", gamma=0.,  #map\n",
    "                        max_delta_step=3, subsample=0.9, colsample_bytree=0.4,\n",
    "                        seed=0, )  \n",
    "}\n",
    "\n",
    "\n",
    "\n",
    "precisions = []\n",
    "for target_value in [0.005, 0.0075, 0.01, 0.0125, 0.015, 0.02, 0.0225, 0.025, 0.0275, 0.03, 0.0325]:\n",
    "    print('Initiating ....')\n",
    "    back_test = df.copy().sort_values('date')\n",
    "    \n",
    "    print('Getting X Y Variables....')\n",
    "    print(len(back_test))\n",
    "    X, y, flat_missed_list, flat_list = get_x_y(target_value, back_test.iloc[:test_size])\n",
    "    \n",
    "    print('Running model ....')\n",
    "    model = run_model(X, y, target_value, threshold, models['XGBoost'], scale=True, smote=True)\n",
    "    print(model['Precision'])\n",
    "    if model['Precision'] > 0.5 and np.percentile(flat_missed_list, 25) < 0:\n",
    "        precisions.append({\n",
    "            'target_value': target_value,\n",
    "            'precision': model['Precision'],\n",
    "            'model': model,\n",
    "            'stop_loss': np.percentile(flat_missed_list, 25)\n",
    "        })"
   ]
  },
  {
   "cell_type": "code",
   "execution_count": 8,
   "metadata": {
    "collapsed": true
   },
   "outputs": [],
   "source": [
    "df_models = pd.DataFrame.from_records(precisions)"
   ]
  },
  {
   "cell_type": "code",
   "execution_count": 9,
   "metadata": {},
   "outputs": [
    {
     "data": {
      "text/html": [
       "<div>\n",
       "<style>\n",
       "    .dataframe thead tr:only-child th {\n",
       "        text-align: right;\n",
       "    }\n",
       "\n",
       "    .dataframe thead th {\n",
       "        text-align: left;\n",
       "    }\n",
       "\n",
       "    .dataframe tbody tr th {\n",
       "        vertical-align: top;\n",
       "    }\n",
       "</style>\n",
       "<table border=\"1\" class=\"dataframe\">\n",
       "  <thead>\n",
       "    <tr style=\"text-align: right;\">\n",
       "      <th></th>\n",
       "      <th>model</th>\n",
       "      <th>precision</th>\n",
       "      <th>stop_loss</th>\n",
       "      <th>target_value</th>\n",
       "    </tr>\n",
       "  </thead>\n",
       "  <tbody>\n",
       "    <tr>\n",
       "      <th>0</th>\n",
       "      <td>{'Precision': 0.718309859155, 'Accuracy': 0.55...</td>\n",
       "      <td>0.718310</td>\n",
       "      <td>-0.064120</td>\n",
       "      <td>0.0050</td>\n",
       "    </tr>\n",
       "    <tr>\n",
       "      <th>1</th>\n",
       "      <td>{'Precision': 0.671232876712, 'Accuracy': 0.55...</td>\n",
       "      <td>0.671233</td>\n",
       "      <td>-0.060682</td>\n",
       "      <td>0.0075</td>\n",
       "    </tr>\n",
       "    <tr>\n",
       "      <th>2</th>\n",
       "      <td>{'Precision': 0.673076923077, 'Accuracy': 0.57...</td>\n",
       "      <td>0.673077</td>\n",
       "      <td>-0.059424</td>\n",
       "      <td>0.0100</td>\n",
       "    </tr>\n",
       "    <tr>\n",
       "      <th>3</th>\n",
       "      <td>{'Precision': 0.650485436893, 'Accuracy': 0.56...</td>\n",
       "      <td>0.650485</td>\n",
       "      <td>-0.057179</td>\n",
       "      <td>0.0125</td>\n",
       "    </tr>\n",
       "    <tr>\n",
       "      <th>4</th>\n",
       "      <td>{'Precision': 0.600896860987, 'Accuracy': 0.54...</td>\n",
       "      <td>0.600897</td>\n",
       "      <td>-0.055719</td>\n",
       "      <td>0.0150</td>\n",
       "    </tr>\n",
       "    <tr>\n",
       "      <th>5</th>\n",
       "      <td>{'Precision': 0.577142857143, 'Accuracy': 0.55...</td>\n",
       "      <td>0.577143</td>\n",
       "      <td>-0.052787</td>\n",
       "      <td>0.0200</td>\n",
       "    </tr>\n",
       "    <tr>\n",
       "      <th>6</th>\n",
       "      <td>{'Precision': 0.505882352941, 'Accuracy': 0.53...</td>\n",
       "      <td>0.505882</td>\n",
       "      <td>-0.051609</td>\n",
       "      <td>0.0225</td>\n",
       "    </tr>\n",
       "  </tbody>\n",
       "</table>\n",
       "</div>"
      ],
      "text/plain": [
       "                                               model  precision  stop_loss  \\\n",
       "0  {'Precision': 0.718309859155, 'Accuracy': 0.55...   0.718310  -0.064120   \n",
       "1  {'Precision': 0.671232876712, 'Accuracy': 0.55...   0.671233  -0.060682   \n",
       "2  {'Precision': 0.673076923077, 'Accuracy': 0.57...   0.673077  -0.059424   \n",
       "3  {'Precision': 0.650485436893, 'Accuracy': 0.56...   0.650485  -0.057179   \n",
       "4  {'Precision': 0.600896860987, 'Accuracy': 0.54...   0.600897  -0.055719   \n",
       "5  {'Precision': 0.577142857143, 'Accuracy': 0.55...   0.577143  -0.052787   \n",
       "6  {'Precision': 0.505882352941, 'Accuracy': 0.53...   0.505882  -0.051609   \n",
       "\n",
       "   target_value  \n",
       "0        0.0050  \n",
       "1        0.0075  \n",
       "2        0.0100  \n",
       "3        0.0125  \n",
       "4        0.0150  \n",
       "5        0.0200  \n",
       "6        0.0225  "
      ]
     },
     "execution_count": 9,
     "metadata": {},
     "output_type": "execute_result"
    }
   ],
   "source": [
    "df_models"
   ]
  },
  {
   "cell_type": "code",
   "execution_count": 10,
   "metadata": {},
   "outputs": [
    {
     "data": {
      "image/png": "[encoded data removed]",
      "text/plain": [
       "<matplotlib.figure.Figure at 0x7f1aed8ce860>"
      ]
     },
     "metadata": {},
     "output_type": "display_data"
    }
   ],
   "source": [
    "plt.plot(df_models['target_value'], df_models['precision'])\n",
    "plt.show()"
   ]
  },
  {
   "cell_type": "code",
   "execution_count": 11,
   "metadata": {
    "collapsed": true
   },
   "outputs": [],
   "source": [
    "if df_models.empty:\n",
    "    print('No Model worth fighting for... ')\n",
    "possible_models = df_models.sort_values('target_value', ascending=False)\n",
    "\n",
    "model = possible_models.iloc[0]\n",
    "target_value = model['model']['Target']\n",
    "stop_loss = model['stop_loss']\n",
    "model = model['model']"
   ]
  },
  {
   "cell_type": "code",
   "execution_count": 12,
   "metadata": {
    "collapsed": true
   },
   "outputs": [],
   "source": [
    "risk_free = ((1 + 0.065) ** (1/252) - 1)\n",
    "\n",
    "drop_columns = ['coin', 'date', 'period', \n",
    "                'high', 'low', 'open', 'close', 'volume', 'quote_volume',\n",
    "                'weightedAverage',\n",
    "                'BBUpper', 'BBLower', 'BBMiddle',\n",
    "                'EMA9', 'EMA12', 'EMA26', 'EMA50',\n",
    "                'SMA9', 'SMA12', 'SMA26', 'SMA50',\n",
    "                'target_log_return_1', 'target_log_return_2', 'target_log_return_3',\n",
    "                'target_log_return_4', 'target_log_return_5', 'target_log_return_6'\n",
    "               ]\n",
    "\n",
    "\n",
    "back_test = df.copy()\n",
    "mask = (\n",
    "       ((back_test['log_return'] >= target_value)\n",
    "        | (back_test['log_return_2'] >= target_value) \n",
    "        | (back_test['log_return_3'] >= target_value) \n",
    "        | (back_test['log_return_4'] >= target_value)\n",
    "           ))\n",
    "back_test.loc[mask, 'last_target'] = 1\n",
    "back_test.loc[~mask, 'last_target'] = 0\n",
    "for index, row in back_test.iloc[test_size:].iterrows():\n",
    "    signal = 0\n",
    "    current_date = row['date']\n",
    "    X = row.drop(drop_columns)\n",
    "    X = model['Scaler'].transform(X.ravel().reshape(1, -1))\n",
    "    predicted_proba = model['Model'].predict_proba(X)\n",
    "    if predicted_proba[0][1] >= threshold:\n",
    "        signal = 1\n",
    "    back_test.loc[back_test['date'] == row['date'], 'predicted_signal'] = signal"
   ]
  },
  {
   "cell_type": "code",
   "execution_count": 13,
   "metadata": {
    "collapsed": true
   },
   "outputs": [],
   "source": [
    "mask_profit = (\n",
    "       ((back_test['target_log_return_1'] >= target_value)\n",
    "        | (back_test['target_log_return_2'] >= target_value) \n",
    "        | (back_test['target_log_return_3'] >= target_value) \n",
    "        | (back_test['target_log_return_4'] >= target_value)\n",
    "        | (back_test['target_log_return_5'] >= target_value)\n",
    "        | (back_test['target_log_return_6'] >= target_value))\n",
    "           )\n",
    "\n",
    "mask_loss =  (\n",
    "       ((back_test['target_log_return_1'] <= stop_loss)\n",
    "        | (back_test['target_log_return_2'] <= stop_loss) \n",
    "        | (back_test['target_log_return_3'] <= stop_loss) \n",
    "        | (back_test['target_log_return_4'] <= stop_loss)\n",
    "        | (back_test['target_log_return_5'] <= stop_loss)\n",
    "        | (back_test['target_log_return_6'] <= stop_loss))\n",
    "           )\n",
    "\n",
    "\n",
    "back_test.loc[mask_profit & (~mask_loss), 'target_sign'] = 1\n",
    "back_test.loc[mask_loss, 'target_sign'] = 0"
   ]
  },
  {
   "cell_type": "code",
   "execution_count": 14,
   "metadata": {
    "collapsed": true
   },
   "outputs": [],
   "source": [
    "for index, row in back_test.iterrows():\n",
    "    hit = [row.target_log_return_1,\n",
    "             row.target_log_return_2,\n",
    "             row.target_log_return_3,\n",
    "            row.target_log_return_4,\n",
    "            row.target_log_return_5,\n",
    "            row.target_log_return_6]\n",
    "    hit = [j for j in hit if j <= stop_loss]\n",
    "    if hit:\n",
    "        back_test.loc[back_test.index == index, 'hit'] = max(hit)\n",
    "    else:\n",
    "        back_test.loc[back_test.index == index, 'hit'] = 0"
   ]
  },
  {
   "cell_type": "code",
   "execution_count": 15,
   "metadata": {},
   "outputs": [
    {
     "name": "stderr",
     "output_type": "stream",
     "text": [
      "/home/eduardo/anaconda3/lib/python3.6/site-packages/pandas/core/indexing.py:337: SettingWithCopyWarning: \n",
      "A value is trying to be set on a copy of a slice from a DataFrame.\n",
      "Try using .loc[row_indexer,col_indexer] = value instead\n",
      "\n",
      "See the caveats in the documentation: http://pandas.pydata.org/pandas-docs/stable/indexing.html#indexing-view-versus-copy\n",
      "  self.obj[key] = _infer_fill_value(value)\n",
      "/home/eduardo/anaconda3/lib/python3.6/site-packages/pandas/core/indexing.py:517: SettingWithCopyWarning: \n",
      "A value is trying to be set on a copy of a slice from a DataFrame.\n",
      "Try using .loc[row_indexer,col_indexer] = value instead\n",
      "\n",
      "See the caveats in the documentation: http://pandas.pydata.org/pandas-docs/stable/indexing.html#indexing-view-versus-copy\n",
      "  self.obj[item] = s\n"
     ]
    }
   ],
   "source": [
    "results = back_test.dropna()\n",
    "results.loc[(results['predicted_signal'] == 1) & (results['target_sign'] == 1), 'profit'] = target_value\n",
    "results.loc[(results['predicted_signal'] == 1) & (results['target_sign'] == 0), 'profit'] = results.loc[(results['predicted_signal'] == 1) & (results['target_sign'] == 0), 'hit']\n",
    "results.loc[(results['profit'].isnull()), 'profit'] = 0"
   ]
  },
  {
   "cell_type": "code",
   "execution_count": 16,
   "metadata": {},
   "outputs": [
    {
     "name": "stderr",
     "output_type": "stream",
     "text": [
      "/home/eduardo/anaconda3/lib/python3.6/site-packages/ipykernel_launcher.py:1: SettingWithCopyWarning: \n",
      "A value is trying to be set on a copy of a slice from a DataFrame.\n",
      "Try using .loc[row_indexer,col_indexer] = value instead\n",
      "\n",
      "See the caveats in the documentation: http://pandas.pydata.org/pandas-docs/stable/indexing.html#indexing-view-versus-copy\n",
      "  \"\"\"Entry point for launching an IPython kernel.\n"
     ]
    }
   ],
   "source": [
    "results['acc_return'] = results['profit'].cumsum().copy()"
   ]
  },
  {
   "cell_type": "code",
   "execution_count": 17,
   "metadata": {},
   "outputs": [
    {
     "name": "stdout",
     "output_type": "stream",
     "text": [
      "All data to model from:\n",
      "------------------\n",
      "Starting data: 2018-02-01 02:00:00\n",
      "------------------\n",
      "End data: 2018-10-03 09:00:00\n",
      "------------------\n",
      "Stop Loss: -0.051608985168\n",
      "------------------\n",
      "Target Value: 0.0225\n",
      "------------------\n",
      "Model Precision: 0.505882352941\n",
      "------------------\n",
      "Backtesting data :  4\n",
      "------------------\n",
      "Starting data: 2018-09-28 21:00:00\n",
      "------------------\n",
      "End data: 2018-10-03 01:00:00\n",
      "------------------\n",
      "Acc. Return Test: 0.045\n",
      "------------------\n",
      "Ratio Target/Loss: 0.435970595561\n"
     ]
    }
   ],
   "source": [
    "print('All data to model from:')\n",
    "print('------------------')\n",
    "print('Starting data: ' + datetime.fromtimestamp(date_initial).strftime('%Y-%m-%d %H:%M:%S'))\n",
    "print('------------------')\n",
    "print('End data: ' + datetime.fromtimestamp(date_end).strftime('%Y-%m-%d %H:%M:%S'))\n",
    "print('------------------')\n",
    "print('Stop Loss: ' + str(stop_loss))\n",
    "print('------------------')\n",
    "print('Target Value: ' + str(target_value))\n",
    "print('------------------')\n",
    "print('Model Precision: ' + str(model['Precision']))\n",
    "print('------------------')\n",
    "print('Backtesting data :  ' + str((datetime.fromtimestamp(results.iloc[-1].date) - datetime.fromtimestamp(results.iloc[0].date)).days ))\n",
    "print('------------------')\n",
    "print('Starting data: ' + datetime.fromtimestamp(results.iloc[0].date).strftime('%Y-%m-%d %H:%M:%S'))\n",
    "print('------------------')\n",
    "print('End data: ' + datetime.fromtimestamp(results.iloc[-1].date).strftime('%Y-%m-%d %H:%M:%S'))\n",
    "print('------------------')\n",
    "print('Acc. Return Test: ' + str(results['acc_return'].iloc[-1]))\n",
    "print('------------------')\n",
    "print('Ratio Target/Loss: ' + str(abs(target_value/stop_loss)))"
   ]
  },
  {
   "cell_type": "code",
   "execution_count": 18,
   "metadata": {},
   "outputs": [
    {
     "data": {
      "image/png": "[encoded data removed]",
      "text/plain": [
       "<matplotlib.figure.Figure at 0x7f1b04af83c8>"
      ]
     },
     "metadata": {},
     "output_type": "display_data"
    }
   ],
   "source": [
    "plt.plot(results.date.apply(lambda x: datetime.fromtimestamp(x)), results.acc_return)\n",
    "plt.xticks(rotation=75)\n",
    "plt.show()"
   ]
  },
  {
   "cell_type": "code",
   "execution_count": 19,
   "metadata": {},
   "outputs": [
    {
     "data": {
      "image/png": "[encoded data removed]",
      "text/plain": [
       "<matplotlib.figure.Figure at 0x7f1aed8d2898>"
      ]
     },
     "metadata": {},
     "output_type": "display_data"
    }
   ],
   "source": [
    "plt.hist(results['profit'], bins=30)\n",
    "plt.show()"
   ]
  },
  {
   "cell_type": "code",
   "execution_count": 20,
   "metadata": {},
   "outputs": [
    {
     "data": {
      "text/html": [
       "<div>\n",
       "<style>\n",
       "    .dataframe thead tr:only-child th {\n",
       "        text-align: right;\n",
       "    }\n",
       "\n",
       "    .dataframe thead th {\n",
       "        text-align: left;\n",
       "    }\n",
       "\n",
       "    .dataframe tbody tr th {\n",
       "        vertical-align: top;\n",
       "    }\n",
       "</style>\n",
       "<table border=\"1\" class=\"dataframe\">\n",
       "  <thead>\n",
       "    <tr style=\"text-align: right;\">\n",
       "      <th></th>\n",
       "      <th>predicted_signal</th>\n",
       "      <th>target_sign</th>\n",
       "      <th>profit</th>\n",
       "      <th>acc_return</th>\n",
       "    </tr>\n",
       "  </thead>\n",
       "  <tbody>\n",
       "    <tr>\n",
       "      <th>20042</th>\n",
       "      <td>0.0</td>\n",
       "      <td>1.0</td>\n",
       "      <td>0.0000</td>\n",
       "      <td>0.0000</td>\n",
       "    </tr>\n",
       "    <tr>\n",
       "      <th>20052</th>\n",
       "      <td>1.0</td>\n",
       "      <td>1.0</td>\n",
       "      <td>0.0225</td>\n",
       "      <td>0.0225</td>\n",
       "    </tr>\n",
       "    <tr>\n",
       "      <th>20104</th>\n",
       "      <td>1.0</td>\n",
       "      <td>1.0</td>\n",
       "      <td>0.0225</td>\n",
       "      <td>0.0450</td>\n",
       "    </tr>\n",
       "    <tr>\n",
       "      <th>20112</th>\n",
       "      <td>0.0</td>\n",
       "      <td>1.0</td>\n",
       "      <td>0.0000</td>\n",
       "      <td>0.0450</td>\n",
       "    </tr>\n",
       "    <tr>\n",
       "      <th>20208</th>\n",
       "      <td>0.0</td>\n",
       "      <td>0.0</td>\n",
       "      <td>0.0000</td>\n",
       "      <td>0.0450</td>\n",
       "    </tr>\n",
       "    <tr>\n",
       "      <th>20231</th>\n",
       "      <td>0.0</td>\n",
       "      <td>0.0</td>\n",
       "      <td>0.0000</td>\n",
       "      <td>0.0450</td>\n",
       "    </tr>\n",
       "    <tr>\n",
       "      <th>20238</th>\n",
       "      <td>0.0</td>\n",
       "      <td>0.0</td>\n",
       "      <td>0.0000</td>\n",
       "      <td>0.0450</td>\n",
       "    </tr>\n",
       "    <tr>\n",
       "      <th>20249</th>\n",
       "      <td>0.0</td>\n",
       "      <td>0.0</td>\n",
       "      <td>0.0000</td>\n",
       "      <td>0.0450</td>\n",
       "    </tr>\n",
       "    <tr>\n",
       "      <th>20258</th>\n",
       "      <td>0.0</td>\n",
       "      <td>0.0</td>\n",
       "      <td>0.0000</td>\n",
       "      <td>0.0450</td>\n",
       "    </tr>\n",
       "    <tr>\n",
       "      <th>20262</th>\n",
       "      <td>0.0</td>\n",
       "      <td>0.0</td>\n",
       "      <td>0.0000</td>\n",
       "      <td>0.0450</td>\n",
       "    </tr>\n",
       "    <tr>\n",
       "      <th>20289</th>\n",
       "      <td>0.0</td>\n",
       "      <td>1.0</td>\n",
       "      <td>0.0000</td>\n",
       "      <td>0.0450</td>\n",
       "    </tr>\n",
       "    <tr>\n",
       "      <th>20296</th>\n",
       "      <td>0.0</td>\n",
       "      <td>1.0</td>\n",
       "      <td>0.0000</td>\n",
       "      <td>0.0450</td>\n",
       "    </tr>\n",
       "  </tbody>\n",
       "</table>\n",
       "</div>"
      ],
      "text/plain": [
       "       predicted_signal  target_sign  profit  acc_return\n",
       "20042               0.0          1.0  0.0000      0.0000\n",
       "20052               1.0          1.0  0.0225      0.0225\n",
       "20104               1.0          1.0  0.0225      0.0450\n",
       "20112               0.0          1.0  0.0000      0.0450\n",
       "20208               0.0          0.0  0.0000      0.0450\n",
       "20231               0.0          0.0  0.0000      0.0450\n",
       "20238               0.0          0.0  0.0000      0.0450\n",
       "20249               0.0          0.0  0.0000      0.0450\n",
       "20258               0.0          0.0  0.0000      0.0450\n",
       "20262               0.0          0.0  0.0000      0.0450\n",
       "20289               0.0          1.0  0.0000      0.0450\n",
       "20296               0.0          1.0  0.0000      0.0450"
      ]
     },
     "execution_count": 20,
     "metadata": {},
     "output_type": "execute_result"
    }
   ],
   "source": [
    "results[['predicted_signal', 'target_sign', 'profit', 'acc_return']]"
   ]
  },
  {
   "cell_type": "code",
   "execution_count": 21,
   "metadata": {
    "collapsed": true
   },
   "outputs": [],
   "source": [
    "from sklearn.feature_selection import SelectFromModel\n",
    "\n",
    "selection = SelectFromModel(model['Model'], threshold=0.03, prefit=True) "
   ]
  },
  {
   "cell_type": "code",
   "execution_count": 22,
   "metadata": {},
   "outputs": [
    {
     "data": {
      "image/png": "[encoded data removed]",
      "text/plain": [
       "<matplotlib.figure.Figure at 0x7f1ae56eea20>"
      ]
     },
     "metadata": {},
     "output_type": "display_data"
    }
   ],
   "source": [
    "plt.bar(range(len(model['Model'].feature_importances_)), model['Model'].feature_importances_)\n",
    "plt.show()"
   ]
  },
  {
   "cell_type": "code",
   "execution_count": 23,
   "metadata": {},
   "outputs": [
    {
     "data": {
      "image/png": "[encoded data removed]",
      "text/plain": [
       "<matplotlib.figure.Figure at 0x7f1ae5726710>"
      ]
     },
     "metadata": {},
     "output_type": "display_data"
    }
   ],
   "source": [
    "plt.hist(y, bins=3)\n",
    "plt.show()"
   ]
  },
  {
   "cell_type": "code",
   "execution_count": 24,
   "metadata": {},
   "outputs": [
    {
     "name": "stdout",
     "output_type": "stream",
     "text": [
      "Setting up target variable...\n",
      "Cleaning data set...\n",
      "Getting list of returns...\n",
      "Fitting 2 folds for each of 100 candidates, totalling 200 fits\n"
     ]
    },
    {
     "name": "stderr",
     "output_type": "stream",
     "text": [
      "[Parallel(n_jobs=-1)]: Done  42 tasks      | elapsed:   10.2s\n",
      "[Parallel(n_jobs=-1)]: Done 192 tasks      | elapsed:   40.3s\n",
      "[Parallel(n_jobs=-1)]: Done 200 out of 200 | elapsed:   42.3s finished\n"
     ]
    }
   ],
   "source": [
    "from sklearn.model_selection import GridSearchCV\n",
    "from sklearn.model_selection import StratifiedKFold\n",
    "\n",
    "xgb_model = models['XGBoost']\n",
    "    \n",
    "back_test = df.copy().sort_values('date')\n",
    "mask = (\n",
    "       ((back_test['log_return'] >= target_value)\n",
    "        | (back_test['log_return_2'] >= target_value) \n",
    "        | (back_test['log_return_3'] >= target_value) \n",
    "        | (back_test['log_return_4'] >= target_value)\n",
    "           ))\n",
    "back_test.loc[mask, 'last_target'] = 1\n",
    "back_test.loc[~mask, 'last_target'] = 0\n",
    "X, y, flat_missed_list, flat_list = get_x_y(target_value, back_test.iloc[:])\n",
    "# X = selection.transform(X)\n",
    "y_sample = y\n",
    "X_sample = X\n",
    "scaler = MinMaxScaler().fit(X_sample)\n",
    "X_sample = scaler.transform(X_sample)\n",
    "# Split Train, Test\n",
    "X_train, X_test = X_sample[:math.floor(len(X_sample) * 0.75)], X_sample[math.ceil(len(X_sample) * 0.75):]\n",
    "y_train, y_test = y_sample.iloc[:math.floor(len(y_sample) * 0.75)], y_sample.iloc[math.ceil(len(y_sample) * 0.75):]\n",
    "\n",
    "# Rebalance Samples\n",
    "oversampler = SMOTE(random_state=42)\n",
    "X_train, y_train = oversampler.fit_sample(X_train, y_train.target_sign)\n",
    "\n",
    "n_estimators = [100, 200, 300, 400, 500]\n",
    "max_depth = [2, 4, 6, 8]\n",
    "max_delta_step = [1, 2, 3, 4, 5]\n",
    "param_grid = dict(max_depth=max_depth, n_estimators=n_estimators,max_delta_step=max_delta_step)\n",
    "kfold = StratifiedKFold(n_splits=2, shuffle=False, random_state=7)\n",
    "grid_search = GridSearchCV(xgb_model, param_grid, scoring=\"precision\", n_jobs=-1, cv=kfold, verbose=1)\n",
    "grid_result = grid_search.fit(X_train, y_train)"
   ]
  },
  {
   "cell_type": "code",
   "execution_count": 25,
   "metadata": {},
   "outputs": [
    {
     "name": "stdout",
     "output_type": "stream",
     "text": [
      "Best: 0.587397 using {'max_delta_step': 2, 'max_depth': 6, 'n_estimators': 500}\n"
     ]
    }
   ],
   "source": [
    "print(\"Best: %f using %s\" % (grid_result.best_score_, grid_result.best_params_))"
   ]
  },
  {
   "cell_type": "code",
   "execution_count": 26,
   "metadata": {
    "collapsed": true
   },
   "outputs": [],
   "source": [
    "selected_model = xgb.XGBClassifier(max_depth=grid_result.best_params_['max_depth'],\n",
    "                                 learning_rate=0.2, n_estimators=grid_result.best_params_['n_estimators'],\n",
    "                                 objective= \"binary:logistic\", eval_metric=\"error\", gamma=0.,  #map\n",
    "                                 max_delta_step=grid_result.best_params_['max_delta_step'], subsample=0.9,\n",
    "                                 colsample_bytree=0.4,\n",
    "                    seed=0, )\n",
    "\n",
    "selected_model.fit(X_train, y_train)\n",
    "\n",
    "predicted_proba = selected_model.predict_proba(X_test)\n",
    "predicted = (predicted_proba[:, 1] >= threshold).astype('int')\n",
    "precision = precision_score(y_test, predicted)\n",
    "train_acc = accuracy_score(y_test, predicted)"
   ]
  },
  {
   "cell_type": "code",
   "execution_count": 27,
   "metadata": {},
   "outputs": [
    {
     "name": "stdout",
     "output_type": "stream",
     "text": [
      "Best: 0.503401 precision, using target: 0.022500 and stop-loss: -0.051609 !!\n"
     ]
    }
   ],
   "source": [
    "print(\"Best: %f precision, using target: %f and stop-loss: %f !!\" % (precision, target_value, stop_loss))"
   ]
  },
  {
   "cell_type": "code",
   "execution_count": 28,
   "metadata": {},
   "outputs": [
    {
     "data": {
      "text/html": [
       "<div>\n",
       "<style>\n",
       "    .dataframe thead tr:only-child th {\n",
       "        text-align: right;\n",
       "    }\n",
       "\n",
       "    .dataframe thead th {\n",
       "        text-align: left;\n",
       "    }\n",
       "\n",
       "    .dataframe tbody tr th {\n",
       "        vertical-align: top;\n",
       "    }\n",
       "</style>\n",
       "<table border=\"1\" class=\"dataframe\">\n",
       "  <thead>\n",
       "    <tr style=\"text-align: right;\">\n",
       "      <th></th>\n",
       "      <th>model</th>\n",
       "      <th>precision</th>\n",
       "      <th>stop_loss</th>\n",
       "      <th>target_value</th>\n",
       "    </tr>\n",
       "  </thead>\n",
       "  <tbody>\n",
       "    <tr>\n",
       "      <th>0</th>\n",
       "      <td>{'Precision': 0.718309859155, 'Accuracy': 0.55...</td>\n",
       "      <td>0.718310</td>\n",
       "      <td>-0.064120</td>\n",
       "      <td>0.0050</td>\n",
       "    </tr>\n",
       "    <tr>\n",
       "      <th>1</th>\n",
       "      <td>{'Precision': 0.671232876712, 'Accuracy': 0.55...</td>\n",
       "      <td>0.671233</td>\n",
       "      <td>-0.060682</td>\n",
       "      <td>0.0075</td>\n",
       "    </tr>\n",
       "    <tr>\n",
       "      <th>2</th>\n",
       "      <td>{'Precision': 0.673076923077, 'Accuracy': 0.57...</td>\n",
       "      <td>0.673077</td>\n",
       "      <td>-0.059424</td>\n",
       "      <td>0.0100</td>\n",
       "    </tr>\n",
       "    <tr>\n",
       "      <th>3</th>\n",
       "      <td>{'Precision': 0.650485436893, 'Accuracy': 0.56...</td>\n",
       "      <td>0.650485</td>\n",
       "      <td>-0.057179</td>\n",
       "      <td>0.0125</td>\n",
       "    </tr>\n",
       "    <tr>\n",
       "      <th>4</th>\n",
       "      <td>{'Precision': 0.600896860987, 'Accuracy': 0.54...</td>\n",
       "      <td>0.600897</td>\n",
       "      <td>-0.055719</td>\n",
       "      <td>0.0150</td>\n",
       "    </tr>\n",
       "    <tr>\n",
       "      <th>5</th>\n",
       "      <td>{'Precision': 0.577142857143, 'Accuracy': 0.55...</td>\n",
       "      <td>0.577143</td>\n",
       "      <td>-0.052787</td>\n",
       "      <td>0.0200</td>\n",
       "    </tr>\n",
       "    <tr>\n",
       "      <th>6</th>\n",
       "      <td>{'Precision': 0.505882352941, 'Accuracy': 0.53...</td>\n",
       "      <td>0.505882</td>\n",
       "      <td>-0.051609</td>\n",
       "      <td>0.0225</td>\n",
       "    </tr>\n",
       "  </tbody>\n",
       "</table>\n",
       "</div>"
      ],
      "text/plain": [
       "                                               model  precision  stop_loss  \\\n",
       "0  {'Precision': 0.718309859155, 'Accuracy': 0.55...   0.718310  -0.064120   \n",
       "1  {'Precision': 0.671232876712, 'Accuracy': 0.55...   0.671233  -0.060682   \n",
       "2  {'Precision': 0.673076923077, 'Accuracy': 0.57...   0.673077  -0.059424   \n",
       "3  {'Precision': 0.650485436893, 'Accuracy': 0.56...   0.650485  -0.057179   \n",
       "4  {'Precision': 0.600896860987, 'Accuracy': 0.54...   0.600897  -0.055719   \n",
       "5  {'Precision': 0.577142857143, 'Accuracy': 0.55...   0.577143  -0.052787   \n",
       "6  {'Precision': 0.505882352941, 'Accuracy': 0.53...   0.505882  -0.051609   \n",
       "\n",
       "   target_value  \n",
       "0        0.0050  \n",
       "1        0.0075  \n",
       "2        0.0100  \n",
       "3        0.0125  \n",
       "4        0.0150  \n",
       "5        0.0200  \n",
       "6        0.0225  "
      ]
     },
     "execution_count": 28,
     "metadata": {},
     "output_type": "execute_result"
    }
   ],
   "source": [
    "df_models"
   ]
  },
  {
   "cell_type": "code",
   "execution_count": 29,
   "metadata": {
    "collapsed": true
   },
   "outputs": [],
   "source": [
    "model = {\n",
    "    'take_profit': target_value,\n",
    "    'stop_loss': stop_loss,\n",
    "    'Scaler': X_sample,\n",
    "    'Model': selected_model\n",
    "    \n",
    "}\n",
    "filename = '../' + coin + '_model.sav'\n",
    "pickle.dump(model, open(filename, 'wb'))"
   ]
  },
  {
   "cell_type": "code",
   "execution_count": null,
   "metadata": {
    "collapsed": true
   },
   "outputs": [],
   "source": []
  },
  {
   "cell_type": "code",
   "execution_count": null,
   "metadata": {
    "collapsed": true
   },
   "outputs": [],
   "source": []
  },
  {
   "cell_type": "code",
   "execution_count": null,
   "metadata": {
    "collapsed": true
   },
   "outputs": [],
   "source": []
  },
  {
   "cell_type": "code",
   "execution_count": null,
   "metadata": {
    "collapsed": true
   },
   "outputs": [],
   "source": []
  }
 ],
 "metadata": {
  "kernelspec": {
   "display_name": "Python 3",
   "language": "python",
   "name": "python3"
  },
  "language_info": {
   "codemirror_mode": {
    "name": "ipython",
    "version": 3
   },
   "file_extension": ".py",
   "mimetype": "text/x-python",
   "name": "python",
   "nbconvert_exporter": "python",
   "pygments_lexer": "ipython3",
   "version": "3.6.3"
  }
 },
 "nbformat": 4,
 "nbformat_minor": 2
}
