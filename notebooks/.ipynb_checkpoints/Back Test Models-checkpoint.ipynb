{
 "cells": [
  {
   "cell_type": "code",
   "execution_count": 24,
   "metadata": {
    "collapsed": true
   },
   "outputs": [],
   "source": [
    "from datetime import datetime, timedelta\n",
    "import math\n",
    "\n",
    "import matplotlib.pyplot as plt\n",
    "import numpy as np\n",
    "import pandas as pd\n",
    "import xgboost as xgb\n",
    "from imblearn.over_sampling import SMOTE\n",
    "from sklearn.metrics import precision_score, accuracy_score, f1_score, recall_score\n",
    "from sklearn.preprocessing import MinMaxScaler\n",
    "\n",
    "pd.set_option('display.max_columns', 500)"
   ]
  },
  {
   "cell_type": "markdown",
   "metadata": {},
   "source": [
    "### Separate features and target variables\n",
    "    - additionaly we define the probability of a non-good target hit stop loss and a good target to hit stop loss are calulated"
   ]
  },
  {
   "cell_type": "code",
   "execution_count": 25,
   "metadata": {
    "collapsed": true
   },
   "outputs": [],
   "source": [
    "def get_x_y(target_value, features_df):\n",
    "    targets = ['target_log_return_1', 'target_log_return_2', 'target_log_return_3',\n",
    "                'target_log_return_4', 'target_log_return_5', 'target_log_return_6',]\n",
    "\n",
    "    mask = (\n",
    "       ((features_df['target_log_return_1'] >= target_value)\n",
    "        | (features_df['target_log_return_2'] >= target_value) \n",
    "        | (features_df['target_log_return_3'] >= target_value) \n",
    "        | (features_df['target_log_return_4'] >= target_value)\n",
    "        | (features_df['target_log_return_5'] >= target_value)\n",
    "        | (features_df['target_log_return_6'] >= target_value))\n",
    "           )\n",
    "    print('Setting up target variable...')\n",
    "    features_df.loc[mask, 'target_sign'] = 1\n",
    "    features_df.loc[~mask, 'target_sign'] = 0\n",
    "    \n",
    "    drop_columns = ['coin', 'date', 'period', \n",
    "                'high', 'low', 'open', 'close', 'quote_volume',\n",
    "                'weightedAverage', 'TREND_COIN', \n",
    "                'BBUpper', 'BBLower', 'BBMiddle',\n",
    "                'EMA9', 'EMA12', 'EMA26', 'EMA50',\n",
    "                'SMA9', 'SMA12', 'SMA26', 'SMA50',\n",
    "                'mean_return', 'variance', 'stdev',\n",
    "                'SMA12_trend',\n",
    "                'target_log_return_1', 'target_log_return_2', 'target_log_return_3',\n",
    "                'target_log_return_4', 'target_log_return_5', 'target_log_return_6'\n",
    "               ]\n",
    "\n",
    "    # Preparing dataframe\n",
    "    print('Cleaning data set...')\n",
    "    mask = (\n",
    "       ((features_df['log_return'] >= target_value)\n",
    "        | (features_df['log_return_2'] >= target_value) \n",
    "        | (features_df['log_return_3'] >= target_value) \n",
    "        | (features_df['log_return_4'] >= target_value)\n",
    "           ))\n",
    "    \n",
    "    features_df.loc[(mask), 'last_target'] = 1\n",
    "    features_df.loc[(~mask), 'last_target'] = 0\n",
    "    \n",
    "    clean_df = features_df.drop(drop_columns, axis=1).copy()\n",
    "    # Defining Features (X) and Target Variable (y)\n",
    "    print('Getting list of returns...')\n",
    "    \n",
    "    returns = []\n",
    "    for t in targets:\n",
    "        returns.append(features_df.loc[features_df['target_sign'] == 0, t].values)\n",
    "\n",
    "    flat_missed_list = [item for sublist in returns for item in sublist if not math.isnan(item)]\n",
    "\n",
    "    returns = []\n",
    "    for t in targets:\n",
    "        returns.append(features_df.loc[features_df['target_sign'] == 1, t].values)\n",
    "\n",
    "    flat_list = [item for sublist in returns for item in sublist if not math.isnan(item)]\n",
    "    \n",
    "    \n",
    "    X = clean_df.drop(['target_sign'], axis =1).copy()\n",
    "    y = clean_df[['target_sign']].copy()\n",
    "    \n",
    "    return X, y, flat_missed_list, flat_list\n",
    "    \n",
    "    "
   ]
  },
  {
   "cell_type": "markdown",
   "metadata": {},
   "source": [
    "### Running model"
   ]
  },
  {
   "cell_type": "code",
   "execution_count": 26,
   "metadata": {
    "collapsed": true
   },
   "outputs": [],
   "source": [
    "def run_model(X_sample, y_sample, target_value, threshold,  model, scale=True, smote=True):\n",
    "    \n",
    "        \n",
    "    if scale:\n",
    "        print('Scaling...')\n",
    "        scaler = MinMaxScaler().fit(X_sample)\n",
    "        X_sample = scaler.transform(X_sample)\n",
    "    # Split Train, Test\n",
    "    X_train, X_test = X_sample[:math.floor(len(X_sample) * 0.75)].copy(), X_sample[math.ceil(len(X_sample) * 0.75):].copy()\n",
    "    y_train, y_test = y_sample.iloc[:math.floor(len(y_sample) * 0.75)].copy(), y_sample.iloc[math.ceil(len(y_sample) * 0.75):].copy()\n",
    "\n",
    "    if smote:\n",
    "        print('Balacing dataset...')\n",
    "        # Rebalance Samples\n",
    "        oversampler = SMOTE(random_state=42, ratio='auto')\n",
    "        X_train, y_train = oversampler.fit_sample(X_train, y_train.target_sign)\n",
    "        \n",
    "    # (Re) define Models\n",
    "    print('Fitting model...')\n",
    "    n_estimators = [100, 200, 300, 400, 500]\n",
    "    max_depth = [2, 4, 6, 8]\n",
    "    max_delta_step = [1, 2, 3, 4, 5]\n",
    "    param_grid = dict(max_depth=max_depth, n_estimators=n_estimators,max_delta_step=max_delta_step)\n",
    "    kfold = StratifiedKFold(n_splits=2, shuffle=False, random_state=7)\n",
    "    grid_search = GridSearchCV(model, param_grid, scoring=\"precision\", n_jobs=-1, cv=kfold, verbose=1)\n",
    "    grid_result = grid_search.fit(X_train, y_train)\n",
    "\n",
    "#     model.fit(X_train, y_train)\n",
    "    predicted_proba = grid_result.predict_proba(X_test)\n",
    "    predicted = (predicted_proba[:, 1] >= threshold).astype('int')\n",
    "    precision = precision_score(y_test, predicted)\n",
    "    f1 = f1_score(y_test, predicted)\n",
    "    recall = recall_score(y_test, predicted)\n",
    "    train_acc = accuracy_score(y_test, predicted)\n",
    "    return {\n",
    "        'Precision': precision,\n",
    "        'F1_score': f1,\n",
    "        'Recall': recall,\n",
    "        'Accuracy': train_acc,\n",
    "        'Trades': np.sum(predicted),\n",
    "        'Real Profits': np.sum(y_test)[0],\n",
    "        'Target': target_value,\n",
    "        'Scaler': scaler,\n",
    "        'Model': grid_result\n",
    "    }"
   ]
  },
  {
   "cell_type": "markdown",
   "metadata": {},
   "source": [
    "### For a given stop loss-take profit value, we define de Expected Return of the model:\n",
    "    - Sum of the given values:\n",
    "        - Precision of the model is right * Probability of not hitting stop loss mark * Take Profit\n",
    "        - Precision of the model is right * Probability of hitting stop loss mark * Stop Loss\n",
    "        - Precision of the model is wrong * Probability of not hitting stop loss mark * Mean Return of Sample\n",
    "        - Precision of the model is wrong * Probability of hitting stop loss mark * Stop Loss"
   ]
  },
  {
   "cell_type": "code",
   "execution_count": 27,
   "metadata": {
    "collapsed": true
   },
   "outputs": [],
   "source": [
    "import pickle\n",
    "# ['USDT_BTC', 'USDT_ETH', 'USDT_LTC', 'USDT_XRP', 'USDT_ETC', 'USDT_DASH',\n",
    "#                 'USDT_XMR',  'USDT_STR',]\n",
    "\n",
    "# Done: \n",
    "coin = 'USDT_XRP'\n",
    "df = pickle.load(open('../' + coin + 'back_test_sample.sav', 'rb'))\n",
    "df = df.loc[df.date >= datetime(2015,2,1,0,0).timestamp()].sort_values(['date'], ascending=True)\n",
    "last_row = 0\n",
    "for index, row in df.iterrows():\n",
    "    ok = True\n",
    "    if last_row == 0:\n",
    "        last_row = row['date']\n",
    "        continue\n",
    "    if row['date'] - last_row  != 14400:\n",
    "        print('Not consistent')\n",
    "        print(row.date)\n",
    "        print(last_row)\n",
    "    last_row = row['date']\n",
    "date_initial = df.date.iloc[0]\n",
    "date_end = df.date.iloc[-1]"
   ]
  },
  {
   "cell_type": "markdown",
   "metadata": {},
   "source": [
    "### For a given Size of Sample to use in model each step we do the following:\n",
    "     - Run the model (if enough sample)\n",
    "     - Select best parameters (Stop Loss and Take Profit)\n",
    "     - Predict (if Model is good enough)\n",
    "    "
   ]
  },
  {
   "cell_type": "code",
   "execution_count": 28,
   "metadata": {},
   "outputs": [
    {
     "data": {
      "text/plain": [
       "Index(['coin', 'date', 'period', 'high', 'low', 'close', 'open', 'volume',\n",
       "       'quote_volume', 'weightedAverage', 'ADX', 'ATR', 'BBLower', 'BBMiddle',\n",
       "       'BBUpper', 'EMA12', 'EMA26', 'EMA50', 'EMA9', 'HISTOGRAM', 'MACD',\n",
       "       'MOMENTUM', 'OBV', 'RSI14', 'SIGNAL', 'SMA12', 'SMA26', 'SMA50', 'SMA9',\n",
       "       'TREND_COIN', 'WILLR', 'slope', 'slope_short', 'BBand_height',\n",
       "       'BBand_lower_height', 'BBand_upper_height', 'EMA_height12',\n",
       "       'EMA_height26', 'SMA_height12', 'SMA_height26', 'close_open',\n",
       "       'close_low', 'close_high', 'log_trend', 'SMA12_trend',\n",
       "       'SMA_trend_height12', 'rate_slope', 'high_low', 'ema_height',\n",
       "       'log_return', 'log_return_2', 'log_return_3', 'log_return_4',\n",
       "       'mean_return', 'variance', 'stdev', 'target_log_return_1',\n",
       "       'target_log_return_2', 'target_log_return_3', 'target_log_return_4',\n",
       "       'target_log_return_5', 'target_log_return_6'],\n",
       "      dtype='object')"
      ]
     },
     "execution_count": 28,
     "metadata": {},
     "output_type": "execute_result"
    }
   ],
   "source": [
    "df.columns"
   ]
  },
  {
   "cell_type": "code",
   "execution_count": 29,
   "metadata": {},
   "outputs": [],
   "source": [
    "df = df.reset_index().drop('index',axis=1).copy()"
   ]
  },
  {
   "cell_type": "code",
   "execution_count": 30,
   "metadata": {},
   "outputs": [],
   "source": [
    "base = 25\n",
    "for index, row in df.iterrows():\n",
    "    window = df.loc[index-base:index]\n",
    "    if window.empty:\n",
    "        continue\n",
    "    df.loc[df.index==index, 'vol'] = np.std(window.log_return_4)"
   ]
  },
  {
   "cell_type": "code",
   "execution_count": 31,
   "metadata": {},
   "outputs": [
    {
     "data": {
      "text/plain": [
       "2505"
      ]
     },
     "execution_count": 31,
     "metadata": {},
     "output_type": "execute_result"
    }
   ],
   "source": [
    "len(df)"
   ]
  },
  {
   "cell_type": "code",
   "execution_count": 32,
   "metadata": {},
   "outputs": [
    {
     "data": {
      "text/html": [
       "<div>\n",
       "<style scoped>\n",
       "    .dataframe tbody tr th:only-of-type {\n",
       "        vertical-align: middle;\n",
       "    }\n",
       "\n",
       "    .dataframe tbody tr th {\n",
       "        vertical-align: top;\n",
       "    }\n",
       "\n",
       "    .dataframe thead th {\n",
       "        text-align: right;\n",
       "    }\n",
       "</style>\n",
       "<table border=\"1\" class=\"dataframe\">\n",
       "  <thead>\n",
       "    <tr style=\"text-align: right;\">\n",
       "      <th></th>\n",
       "      <th>coin</th>\n",
       "      <th>date</th>\n",
       "      <th>period</th>\n",
       "      <th>high</th>\n",
       "      <th>low</th>\n",
       "      <th>close</th>\n",
       "      <th>open</th>\n",
       "      <th>volume</th>\n",
       "      <th>quote_volume</th>\n",
       "      <th>weightedAverage</th>\n",
       "      <th>ADX</th>\n",
       "      <th>ATR</th>\n",
       "      <th>BBLower</th>\n",
       "      <th>BBMiddle</th>\n",
       "      <th>BBUpper</th>\n",
       "      <th>EMA12</th>\n",
       "      <th>EMA26</th>\n",
       "      <th>EMA50</th>\n",
       "      <th>EMA9</th>\n",
       "      <th>HISTOGRAM</th>\n",
       "      <th>MACD</th>\n",
       "      <th>MOMENTUM</th>\n",
       "      <th>OBV</th>\n",
       "      <th>RSI14</th>\n",
       "      <th>SIGNAL</th>\n",
       "      <th>SMA12</th>\n",
       "      <th>SMA26</th>\n",
       "      <th>SMA50</th>\n",
       "      <th>SMA9</th>\n",
       "      <th>TREND_COIN</th>\n",
       "      <th>WILLR</th>\n",
       "      <th>slope</th>\n",
       "      <th>slope_short</th>\n",
       "      <th>BBand_height</th>\n",
       "      <th>BBand_lower_height</th>\n",
       "      <th>BBand_upper_height</th>\n",
       "      <th>EMA_height12</th>\n",
       "      <th>EMA_height26</th>\n",
       "      <th>SMA_height12</th>\n",
       "      <th>SMA_height26</th>\n",
       "      <th>close_open</th>\n",
       "      <th>close_low</th>\n",
       "      <th>close_high</th>\n",
       "      <th>log_trend</th>\n",
       "      <th>SMA12_trend</th>\n",
       "      <th>SMA_trend_height12</th>\n",
       "      <th>rate_slope</th>\n",
       "      <th>high_low</th>\n",
       "      <th>ema_height</th>\n",
       "      <th>log_return</th>\n",
       "      <th>log_return_2</th>\n",
       "      <th>log_return_3</th>\n",
       "      <th>log_return_4</th>\n",
       "      <th>mean_return</th>\n",
       "      <th>variance</th>\n",
       "      <th>stdev</th>\n",
       "      <th>target_log_return_1</th>\n",
       "      <th>target_log_return_2</th>\n",
       "      <th>target_log_return_3</th>\n",
       "      <th>target_log_return_4</th>\n",
       "      <th>target_log_return_5</th>\n",
       "      <th>target_log_return_6</th>\n",
       "      <th>vol</th>\n",
       "    </tr>\n",
       "  </thead>\n",
       "  <tbody>\n",
       "  </tbody>\n",
       "</table>\n",
       "</div>"
      ],
      "text/plain": [
       "Empty DataFrame\n",
       "Columns: [coin, date, period, high, low, close, open, volume, quote_volume, weightedAverage, ADX, ATR, BBLower, BBMiddle, BBUpper, EMA12, EMA26, EMA50, EMA9, HISTOGRAM, MACD, MOMENTUM, OBV, RSI14, SIGNAL, SMA12, SMA26, SMA50, SMA9, TREND_COIN, WILLR, slope, slope_short, BBand_height, BBand_lower_height, BBand_upper_height, EMA_height12, EMA_height26, SMA_height12, SMA_height26, close_open, close_low, close_high, log_trend, SMA12_trend, SMA_trend_height12, rate_slope, high_low, ema_height, log_return, log_return_2, log_return_3, log_return_4, mean_return, variance, stdev, target_log_return_1, target_log_return_2, target_log_return_3, target_log_return_4, target_log_return_5, target_log_return_6, vol]\n",
       "Index: []"
      ]
     },
     "execution_count": 32,
     "metadata": {},
     "output_type": "execute_result"
    }
   ],
   "source": [
    "df[df.isin([np.nan, np.inf, -np.inf]).any(1)]"
   ]
  },
  {
   "cell_type": "code",
   "execution_count": 33,
   "metadata": {},
   "outputs": [
    {
     "data": {
      "text/plain": [
       "1152"
      ]
     },
     "execution_count": 33,
     "metadata": {},
     "output_type": "execute_result"
    }
   ],
   "source": [
    "df = df[df['slope_short'] > 0].copy()\n",
    "len(df)"
   ]
  },
  {
   "cell_type": "code",
   "execution_count": 34,
   "metadata": {
    "scrolled": true
   },
   "outputs": [
    {
     "name": "stdout",
     "output_type": "stream",
     "text": [
      "Initiating ....\n",
      "Getting X Y Variables....\n",
      "1152\n",
      "Setting up target variable...\n"
     ]
    },
    {
     "name": "stderr",
     "output_type": "stream",
     "text": [
      "/Users/macbookpro/anaconda2/envs/cryptocurrency-analysis/lib/python3.6/site-packages/pandas/core/indexing.py:362: SettingWithCopyWarning: \n",
      "A value is trying to be set on a copy of a slice from a DataFrame.\n",
      "Try using .loc[row_indexer,col_indexer] = value instead\n",
      "\n",
      "See the caveats in the documentation: http://pandas.pydata.org/pandas-docs/stable/indexing.html#indexing-view-versus-copy\n",
      "  self.obj[key] = _infer_fill_value(value)\n",
      "/Users/macbookpro/anaconda2/envs/cryptocurrency-analysis/lib/python3.6/site-packages/pandas/core/indexing.py:543: SettingWithCopyWarning: \n",
      "A value is trying to be set on a copy of a slice from a DataFrame.\n",
      "Try using .loc[row_indexer,col_indexer] = value instead\n",
      "\n",
      "See the caveats in the documentation: http://pandas.pydata.org/pandas-docs/stable/indexing.html#indexing-view-versus-copy\n",
      "  self.obj[item] = s\n"
     ]
    },
    {
     "name": "stdout",
     "output_type": "stream",
     "text": [
      "Cleaning data set...\n",
      "Getting list of returns...\n",
      "Running model ....\n",
      "Scaling...\n",
      "Balacing dataset...\n",
      "Fitting model...\n"
     ]
    },
    {
     "ename": "NameError",
     "evalue": "name 'StratifiedKFold' is not defined",
     "output_type": "error",
     "traceback": [
      "\u001b[0;31m---------------------------------------------------------------------------\u001b[0m",
      "\u001b[0;31mNameError\u001b[0m                                 Traceback (most recent call last)",
      "\u001b[0;32m<ipython-input-34-7712634ef9a4>\u001b[0m in \u001b[0;36m<module>\u001b[0;34m()\u001b[0m\n\u001b[1;32m     24\u001b[0m \u001b[0;34m\u001b[0m\u001b[0m\n\u001b[1;32m     25\u001b[0m     \u001b[0mprint\u001b[0m\u001b[0;34m(\u001b[0m\u001b[0;34m'Running model ....'\u001b[0m\u001b[0;34m)\u001b[0m\u001b[0;34m\u001b[0m\u001b[0m\n\u001b[0;32m---> 26\u001b[0;31m     \u001b[0mmodel\u001b[0m \u001b[0;34m=\u001b[0m \u001b[0mrun_model\u001b[0m\u001b[0;34m(\u001b[0m\u001b[0mX\u001b[0m\u001b[0;34m,\u001b[0m \u001b[0my\u001b[0m\u001b[0;34m,\u001b[0m \u001b[0mtarget_value\u001b[0m\u001b[0;34m,\u001b[0m \u001b[0mthreshold\u001b[0m\u001b[0;34m,\u001b[0m \u001b[0mmodels\u001b[0m\u001b[0;34m[\u001b[0m\u001b[0;34m'XGBoost'\u001b[0m\u001b[0;34m]\u001b[0m\u001b[0;34m,\u001b[0m \u001b[0mscale\u001b[0m\u001b[0;34m=\u001b[0m\u001b[0;32mTrue\u001b[0m\u001b[0;34m,\u001b[0m \u001b[0msmote\u001b[0m\u001b[0;34m=\u001b[0m\u001b[0;32mTrue\u001b[0m\u001b[0;34m)\u001b[0m\u001b[0;34m\u001b[0m\u001b[0m\n\u001b[0m\u001b[1;32m     27\u001b[0m     \u001b[0mprint\u001b[0m\u001b[0;34m(\u001b[0m\u001b[0mmodel\u001b[0m\u001b[0;34m[\u001b[0m\u001b[0;34m'Precision'\u001b[0m\u001b[0;34m]\u001b[0m\u001b[0;34m)\u001b[0m\u001b[0;34m\u001b[0m\u001b[0m\n\u001b[1;32m     28\u001b[0m     \u001b[0;32mif\u001b[0m \u001b[0mnp\u001b[0m\u001b[0;34m.\u001b[0m\u001b[0mpercentile\u001b[0m\u001b[0;34m(\u001b[0m\u001b[0mflat_missed_list\u001b[0m\u001b[0;34m,\u001b[0m \u001b[0;36m60\u001b[0m\u001b[0;34m)\u001b[0m \u001b[0;34m<\u001b[0m \u001b[0;36m0\u001b[0m\u001b[0;34m:\u001b[0m\u001b[0;34m\u001b[0m\u001b[0m\n",
      "\u001b[0;32m<ipython-input-26-fa76490b4193>\u001b[0m in \u001b[0;36mrun_model\u001b[0;34m(X_sample, y_sample, target_value, threshold, model, scale, smote)\u001b[0m\n\u001b[1;32m     22\u001b[0m     \u001b[0mmax_delta_step\u001b[0m \u001b[0;34m=\u001b[0m \u001b[0;34m[\u001b[0m\u001b[0;36m1\u001b[0m\u001b[0;34m,\u001b[0m \u001b[0;36m2\u001b[0m\u001b[0;34m,\u001b[0m \u001b[0;36m3\u001b[0m\u001b[0;34m,\u001b[0m \u001b[0;36m4\u001b[0m\u001b[0;34m,\u001b[0m \u001b[0;36m5\u001b[0m\u001b[0;34m]\u001b[0m\u001b[0;34m\u001b[0m\u001b[0m\n\u001b[1;32m     23\u001b[0m     \u001b[0mparam_grid\u001b[0m \u001b[0;34m=\u001b[0m \u001b[0mdict\u001b[0m\u001b[0;34m(\u001b[0m\u001b[0mmax_depth\u001b[0m\u001b[0;34m=\u001b[0m\u001b[0mmax_depth\u001b[0m\u001b[0;34m,\u001b[0m \u001b[0mn_estimators\u001b[0m\u001b[0;34m=\u001b[0m\u001b[0mn_estimators\u001b[0m\u001b[0;34m,\u001b[0m\u001b[0mmax_delta_step\u001b[0m\u001b[0;34m=\u001b[0m\u001b[0mmax_delta_step\u001b[0m\u001b[0;34m)\u001b[0m\u001b[0;34m\u001b[0m\u001b[0m\n\u001b[0;32m---> 24\u001b[0;31m     \u001b[0mkfold\u001b[0m \u001b[0;34m=\u001b[0m \u001b[0mStratifiedKFold\u001b[0m\u001b[0;34m(\u001b[0m\u001b[0mn_splits\u001b[0m\u001b[0;34m=\u001b[0m\u001b[0;36m2\u001b[0m\u001b[0;34m,\u001b[0m \u001b[0mshuffle\u001b[0m\u001b[0;34m=\u001b[0m\u001b[0;32mFalse\u001b[0m\u001b[0;34m,\u001b[0m \u001b[0mrandom_state\u001b[0m\u001b[0;34m=\u001b[0m\u001b[0;36m7\u001b[0m\u001b[0;34m)\u001b[0m\u001b[0;34m\u001b[0m\u001b[0m\n\u001b[0m\u001b[1;32m     25\u001b[0m     \u001b[0mgrid_search\u001b[0m \u001b[0;34m=\u001b[0m \u001b[0mGridSearchCV\u001b[0m\u001b[0;34m(\u001b[0m\u001b[0mmodel\u001b[0m\u001b[0;34m,\u001b[0m \u001b[0mparam_grid\u001b[0m\u001b[0;34m,\u001b[0m \u001b[0mscoring\u001b[0m\u001b[0;34m=\u001b[0m\u001b[0;34m\"precision\"\u001b[0m\u001b[0;34m,\u001b[0m \u001b[0mn_jobs\u001b[0m\u001b[0;34m=\u001b[0m\u001b[0;34m-\u001b[0m\u001b[0;36m1\u001b[0m\u001b[0;34m,\u001b[0m \u001b[0mcv\u001b[0m\u001b[0;34m=\u001b[0m\u001b[0mkfold\u001b[0m\u001b[0;34m,\u001b[0m \u001b[0mverbose\u001b[0m\u001b[0;34m=\u001b[0m\u001b[0;36m1\u001b[0m\u001b[0;34m)\u001b[0m\u001b[0;34m\u001b[0m\u001b[0m\n\u001b[1;32m     26\u001b[0m     \u001b[0mgrid_result\u001b[0m \u001b[0;34m=\u001b[0m \u001b[0mgrid_search\u001b[0m\u001b[0;34m.\u001b[0m\u001b[0mfit\u001b[0m\u001b[0;34m(\u001b[0m\u001b[0mX_train\u001b[0m\u001b[0;34m,\u001b[0m \u001b[0my_train\u001b[0m\u001b[0;34m)\u001b[0m\u001b[0;34m\u001b[0m\u001b[0m\n",
      "\u001b[0;31mNameError\u001b[0m: name 'StratifiedKFold' is not defined"
     ]
    }
   ],
   "source": [
    "threshold = 0.50\n",
    "risk_free = ((1 + 0.065) ** (1/252) - 1)\n",
    "test_size = -30\n",
    "\n",
    "\n",
    "models = {\n",
    "    'XGBoost': xgb.XGBClassifier(max_depth=8, learning_rate=0.2, n_estimators=400,\n",
    "                        objective= \"binary:logistic\", eval_metric=\"error\", gamma=0.,  #map\n",
    "                        max_delta_step=3, subsample=0.9, colsample_bytree=0.4,\n",
    "                        seed=0, )  \n",
    "}\n",
    "\n",
    "\n",
    "\n",
    "precisions = []\n",
    "for target_value in [0.005, 0.0075, 0.01, 0.0125, 0.015, 0.02,\n",
    "                     0.0225, 0.025, 0.0275, 0.03, 0.0325, 0.035, 0.0375, 0.04]:\n",
    "    print('Initiating ....')\n",
    "    back_test = df.copy().sort_values('date')\n",
    "    \n",
    "    print('Getting X Y Variables....')\n",
    "    print(len(back_test))\n",
    "    X, y, flat_missed_list, flat_list = get_x_y(target_value, back_test.iloc[:test_size])\n",
    "    \n",
    "    print('Running model ....')\n",
    "    model = run_model(X, y, target_value, threshold, models['XGBoost'], scale=True, smote=True)\n",
    "    print(model['Precision'])\n",
    "    if np.percentile(flat_missed_list, 60) < 0:\n",
    "        precisions.append({\n",
    "            'target_value': target_value,\n",
    "            'precision': model['Precision'],\n",
    "            'f1_score': model['F1_score'],\n",
    "            'recall': model['Recall'],\n",
    "            'model': model,\n",
    "            'stop_loss': np.percentile(flat_missed_list, 60)\n",
    "        })"
   ]
  },
  {
   "cell_type": "code",
   "execution_count": null,
   "metadata": {},
   "outputs": [],
   "source": [
    "df_models = pd.DataFrame.from_records(precisions)\n",
    "df_models['ratio'] = abs(df_models['target_value']/df_models['stop_loss'])\n",
    "df_models"
   ]
  },
  {
   "cell_type": "code",
   "execution_count": null,
   "metadata": {},
   "outputs": [],
   "source": [
    "plt.plot(df_models['target_value'], df_models['precision'])\n",
    "plt.show()"
   ]
  },
  {
   "cell_type": "code",
   "execution_count": null,
   "metadata": {
    "collapsed": true
   },
   "outputs": [],
   "source": [
    "if df_models.empty:\n",
    "    print('No Model worth fighting for... ')\n",
    "possible_models = df_models.loc[df_models['ratio'] >= 0.50].sort_values('f1_score', ascending=False)\n",
    "model = possible_models.iloc[0]\n",
    "target_value = model['model']['Target']\n",
    "stop_loss = model['stop_loss']\n",
    "model = model['model']"
   ]
  },
  {
   "cell_type": "code",
   "execution_count": null,
   "metadata": {},
   "outputs": [],
   "source": [
    "print('Precision {} \\nTarget value {} \\nStop Loss {}'.format(model['Precision'], target_value, stop_loss))"
   ]
  },
  {
   "cell_type": "code",
   "execution_count": null,
   "metadata": {},
   "outputs": [],
   "source": [
    "risk_free = ((1 + 0.065) ** (1/252) - 1)\n",
    "\n",
    "drop_columns = ['coin', 'date', 'period', \n",
    "                'high', 'low', 'open', 'close', 'quote_volume',\n",
    "                'weightedAverage', 'TREND_COIN', \n",
    "                'BBUpper', 'BBLower', 'BBMiddle',\n",
    "                'EMA9', 'EMA12', 'EMA26', 'EMA50',\n",
    "                'SMA9', 'SMA12', 'SMA26', 'SMA50',\n",
    "                'mean_return', 'variance', 'stdev',\n",
    "                'SMA12_trend',\n",
    "                'target_log_return_1', 'target_log_return_2', 'target_log_return_3',\n",
    "                'target_log_return_4', 'target_log_return_5', 'target_log_return_6'\n",
    "               ]\n",
    "\n",
    "\n",
    "\n",
    "back_test = df.copy()\n",
    "mask = (\n",
    "       ((back_test['log_return'] >= target_value)\n",
    "        | (back_test['log_return_2'] >= target_value) \n",
    "        | (back_test['log_return_3'] >= target_value) \n",
    "        | (back_test['log_return_4'] >= target_value)\n",
    "           ))\n",
    "back_test.loc[mask, 'last_target'] = 1\n",
    "back_test.loc[~mask, 'last_target'] = 0\n",
    "for index, row in back_test.iloc[test_size:].iterrows():\n",
    "    signal = 0\n",
    "    current_date = row['date']\n",
    "    if row['slope_short'] < 0:\n",
    "        continue\n",
    "    X = row.drop(drop_columns)\n",
    "    X = model['Scaler'].transform(X.ravel().reshape(1, -1))\n",
    "    predicted_proba = model['Model'].predict_proba(X)\n",
    "    if predicted_proba[0][1] >= threshold:\n",
    "        signal = 1\n",
    "    back_test.loc[back_test['date'] == row['date'], 'predicted_signal'] = signal"
   ]
  },
  {
   "cell_type": "code",
   "execution_count": null,
   "metadata": {
    "collapsed": true
   },
   "outputs": [],
   "source": [
    "mask_profit = (\n",
    "       ((back_test['target_log_return_1'] >= target_value)\n",
    "        | (back_test['target_log_return_2'] >= target_value) \n",
    "        | (back_test['target_log_return_3'] >= target_value) \n",
    "        | (back_test['target_log_return_4'] >= target_value)\n",
    "        | (back_test['target_log_return_5'] >= target_value)\n",
    "        | (back_test['target_log_return_6'] >= target_value))\n",
    "           )\n",
    "\n",
    "mask_loss =  (\n",
    "       ((back_test['target_log_return_1'] <= stop_loss)\n",
    "        | (back_test['target_log_return_2'] <= stop_loss) \n",
    "        | (back_test['target_log_return_3'] <= stop_loss) \n",
    "        | (back_test['target_log_return_4'] <= stop_loss)\n",
    "        | (back_test['target_log_return_5'] <= stop_loss)\n",
    "        | (back_test['target_log_return_6'] <= stop_loss))\n",
    "           )\n",
    "\n",
    "\n",
    "back_test.loc[mask_profit & (~mask_loss), 'target_sign'] = 1\n",
    "back_test.loc[mask_loss, 'target_sign'] = 0\n",
    "back_test['target_sign'].fillna(0, inplace=True)"
   ]
  },
  {
   "cell_type": "code",
   "execution_count": null,
   "metadata": {
    "collapsed": true
   },
   "outputs": [],
   "source": [
    "for index, row in back_test.iterrows():\n",
    "    hit = [row.target_log_return_1,\n",
    "             row.target_log_return_2,\n",
    "             row.target_log_return_3,\n",
    "            row.target_log_return_4,\n",
    "            row.target_log_return_5,\n",
    "            row.target_log_return_6]\n",
    "    hit = [j for j in hit if j <= stop_loss]\n",
    "    if hit:\n",
    "        back_test.loc[back_test.index == index, 'hit'] = max(hit)\n",
    "    else:\n",
    "        back_test.loc[back_test.index == index, 'hit'] = row.target_log_return_6"
   ]
  },
  {
   "cell_type": "code",
   "execution_count": null,
   "metadata": {},
   "outputs": [],
   "source": [
    "results = back_test.dropna()\n",
    "results.loc[(results['predicted_signal'] == 1) & (results['target_sign'] == 1), 'profit'] = target_value\n",
    "results.loc[(results['predicted_signal'] == 1) & (results['target_sign'] == 0), 'profit'] = results.loc[(results['predicted_signal'] == 1) & (results['target_sign'] == 0), 'hit']\n",
    "results.loc[(results['profit'].isnull()), 'profit'] = 0"
   ]
  },
  {
   "cell_type": "code",
   "execution_count": null,
   "metadata": {},
   "outputs": [],
   "source": [
    "results['acc_return'] = results['profit'].cumsum().copy()"
   ]
  },
  {
   "cell_type": "code",
   "execution_count": null,
   "metadata": {},
   "outputs": [],
   "source": [
    "print('All data to model from:')\n",
    "print('------------------')\n",
    "print('Starting data: ' + datetime.fromtimestamp(date_initial).strftime('%Y-%m-%d %H:%M:%S'))\n",
    "print('------------------')\n",
    "print('End data: ' + datetime.fromtimestamp(date_end).strftime('%Y-%m-%d %H:%M:%S'))\n",
    "print('------------------')\n",
    "print('Stop Loss: ' + str(stop_loss))\n",
    "print('------------------')\n",
    "print('Target Value: ' + str(target_value))\n",
    "print('------------------')\n",
    "print('Model Precision: ' + str(model['Precision']))\n",
    "print('------------------')\n",
    "print('Backtesting data :  ' + str((datetime.fromtimestamp(results.iloc[-1].date) - datetime.fromtimestamp(results.iloc[0].date)).days ))\n",
    "print('------------------')\n",
    "print('Starting data: ' + datetime.fromtimestamp(results.iloc[0].date).strftime('%Y-%m-%d %H:%M:%S'))\n",
    "print('------------------')\n",
    "print('End data: ' + datetime.fromtimestamp(results.iloc[-1].date).strftime('%Y-%m-%d %H:%M:%S'))\n",
    "print('------------------')\n",
    "print('Acc. Return Test: ' + str(results['acc_return'].iloc[-1]))\n",
    "print('------------------')\n",
    "print('Ratio Target/Loss: ' + str(abs(target_value/stop_loss)))"
   ]
  },
  {
   "cell_type": "code",
   "execution_count": null,
   "metadata": {},
   "outputs": [],
   "source": [
    "plt.plot(results.date.apply(lambda x: datetime.fromtimestamp(x)), results.acc_return)\n",
    "plt.xticks(rotation=75)\n",
    "plt.show()"
   ]
  },
  {
   "cell_type": "code",
   "execution_count": 23,
   "metadata": {},
   "outputs": [
    {
     "data": {
      "image/png": "[encoded data removed]",
      "text/plain": [
       "<matplotlib.figure.Figure at 0x114160400>"
      ]
     },
     "metadata": {},
     "output_type": "display_data"
    }
   ],
   "source": [
    "plt.hist(results['profit'], bins=30)\n",
    "plt.show()"
   ]
  },
  {
   "cell_type": "code",
   "execution_count": null,
   "metadata": {},
   "outputs": [],
   "source": [
    "results[['predicted_signal', 'target_sign', 'profit', 'acc_return',\n",
    "         'target_log_return_1', 'target_log_return_2',\n",
    "         'target_log_return_3', 'target_log_return_4', 'target_log_return_5',\n",
    "         'target_log_return_6', ]]"
   ]
  },
  {
   "cell_type": "code",
   "execution_count": null,
   "metadata": {},
   "outputs": [],
   "source": [
    "feat_importances = pd.Series(model['Model'].feature_importances_, index=back_test.drop(drop_columns,axis=1).drop(['predicted_signal', 'target_sign', 'hit'],axis=1).columns)\n",
    "feat_importances.nlargest(30).plot(kind='barh')\n",
    "plt.show()"
   ]
  },
  {
   "cell_type": "code",
   "execution_count": null,
   "metadata": {},
   "outputs": [],
   "source": [
    "from sklearn.model_selection import GridSearchCV\n",
    "from sklearn.model_selection import StratifiedKFold\n",
    "\n",
    "xgb_model = models['XGBoost']\n",
    "    \n",
    "back_test = df.copy().sort_values('date')\n",
    "mask = (\n",
    "       ((back_test['log_return'] >= target_value)\n",
    "        | (back_test['log_return_2'] >= target_value) \n",
    "        | (back_test['log_return_3'] >= target_value) \n",
    "        | (back_test['log_return_4'] >= target_value)\n",
    "           ))\n",
    "back_test.loc[mask, 'last_target'] = 1\n",
    "back_test.loc[~mask, 'last_target'] = 0\n",
    "\n",
    "X, y, flat_missed_list, flat_list = get_x_y(target_value, back_test)\n",
    "y_sample = y\n",
    "X_sample = X\n",
    "scaler = MinMaxScaler().fit(X_sample)\n",
    "X_sample = scaler.transform(X_sample)\n",
    "# Split Train, Test\n",
    "X_train, X_test = X_sample[:math.floor(len(X_sample) * 0.75)], X_sample[math.ceil(len(X_sample) * 0.75):]\n",
    "y_train, y_test = y_sample.iloc[:math.floor(len(y_sample) * 0.75)], y_sample.iloc[math.ceil(len(y_sample) * 0.75):]\n",
    "\n",
    "# Rebalance Samples\n",
    "oversampler = SMOTE(random_state=42)\n",
    "X_train, y_train = oversampler.fit_sample(X_train, y_train.target_sign)\n",
    "\n",
    "n_estimators = [100, 200, 300, 400, 500]\n",
    "max_depth = [2, 4, 6, 8]\n",
    "max_delta_step = [1, 2, 3, 4, 5]\n",
    "param_grid = dict(max_depth=max_depth, n_estimators=n_estimators,max_delta_step=max_delta_step)\n",
    "kfold = StratifiedKFold(n_splits=2, shuffle=False, random_state=7)\n",
    "grid_search = GridSearchCV(xgb_model, param_grid, scoring=\"precision\", n_jobs=-1, cv=kfold, verbose=1)\n",
    "grid_result = grid_search.fit(X_train, y_train)"
   ]
  },
  {
   "cell_type": "code",
   "execution_count": null,
   "metadata": {},
   "outputs": [],
   "source": [
    "print(\"Best: %f using %s\" % (grid_result.best_score_, grid_result.best_params_))"
   ]
  },
  {
   "cell_type": "code",
   "execution_count": null,
   "metadata": {
    "collapsed": true
   },
   "outputs": [],
   "source": [
    "selected_model = xgb.XGBClassifier(max_depth=grid_result.best_params_['max_depth'],\n",
    "                                 learning_rate=0.2, n_estimators=grid_result.best_params_['n_estimators'],\n",
    "                                 objective= \"binary:logistic\", eval_metric=\"error\", gamma=0.,  #map\n",
    "                                 max_delta_step=grid_result.best_params_['max_delta_step'], subsample=0.9,\n",
    "                                 colsample_bytree=0.4,\n",
    "                    seed=0, )\n",
    "\n",
    "selected_model.fit(X_train, y_train)\n",
    "\n",
    "predicted_proba = selected_model.predict_proba(X_test)\n",
    "predicted = (predicted_proba[:, 1] >= threshold).astype('int')\n",
    "precision = precision_score(y_test, predicted)\n",
    "train_acc = accuracy_score(y_test, predicted)"
   ]
  },
  {
   "cell_type": "code",
   "execution_count": null,
   "metadata": {},
   "outputs": [],
   "source": [
    "print(\"Best: %f precision, using target: %f and stop-loss: %f !!\" % (precision, target_value, stop_loss))"
   ]
  },
  {
   "cell_type": "code",
   "execution_count": null,
   "metadata": {},
   "outputs": [],
   "source": [
    "df_models"
   ]
  },
  {
   "cell_type": "code",
   "execution_count": null,
   "metadata": {
    "collapsed": true
   },
   "outputs": [],
   "source": [
    "# model = {\n",
    "#     'take_profit': target_value,\n",
    "#     'stop_loss': stop_loss,\n",
    "#     'Scaler': scaler,\n",
    "#     'Model': selected_model\n",
    "    \n",
    "# }\n",
    "# filename = '../' + coin + '_model.sav'\n",
    "# pickle.dump(model, open(filename, 'wb'))"
   ]
  },
  {
   "cell_type": "code",
   "execution_count": null,
   "metadata": {
    "collapsed": true
   },
   "outputs": [],
   "source": []
  },
  {
   "cell_type": "code",
   "execution_count": null,
   "metadata": {
    "collapsed": true
   },
   "outputs": [],
   "source": []
  },
  {
   "cell_type": "code",
   "execution_count": null,
   "metadata": {
    "collapsed": true
   },
   "outputs": [],
   "source": []
  }
 ],
 "metadata": {
  "kernelspec": {
   "display_name": "Python [conda env:cryptocurrency-analysis]",
   "language": "python",
   "name": "conda-env-cryptocurrency-analysis-py"
  },
  "language_info": {
   "codemirror_mode": {
    "name": "ipython",
    "version": 3
   },
   "file_extension": ".py",
   "mimetype": "text/x-python",
   "name": "python",
   "nbconvert_exporter": "python",
   "pygments_lexer": "ipython3",
   "version": "3.6.3"
  }
 },
 "nbformat": 4,
 "nbformat_minor": 2
}
