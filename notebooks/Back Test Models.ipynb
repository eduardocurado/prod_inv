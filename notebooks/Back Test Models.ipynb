{
 "cells": [
  {
   "cell_type": "code",
   "execution_count": null,
   "metadata": {
    "collapsed": true
   },
   "outputs": [],
   "source": [
    "import pandas as pd \n",
    "from sqlalchemy import create_engine\n",
    "import matplotlib.pyplot as plt  \n",
    "import numpy as np\n",
    "from scipy import stats\n",
    "import math\n",
    "from sklearn.naive_bayes import GaussianNB\n",
    "from sklearn.neighbors import KNeighborsClassifier\n",
    "from sklearn.ensemble import RandomForestClassifier\n",
    "from sklearn.ensemble import ExtraTreesClassifier\n",
    "from sklearn.tree import DecisionTreeClassifier\n",
    "from sklearn.svm import SVC\n",
    "from sklearn.linear_model import SGDClassifier\n",
    "import datetime\n",
    "from sklearn.ensemble import GradientBoostingClassifier\n",
    "from sklearn.metrics import confusion_matrix, classification_report\n",
    "from sklearn.metrics import roc_curve, auc\n",
    "from imblearn.over_sampling import SMOTE\n",
    "from sklearn.model_selection import cross_val_score, KFold\n",
    "from sklearn.model_selection import GridSearchCV\n",
    "from sklearn.model_selection import train_test_split\n",
    "from sklearn.metrics import precision_score\n",
    "from scipy.stats import norm\n",
    "import time\n",
    "from sklearn.metrics import accuracy_score\n",
    "from sklearn.preprocessing import StandardScaler\n",
    "from sklearn.preprocessing import MinMaxScaler\n",
    "from sqlalchemy import create_engine\n",
    "import xgboost as xgb\n",
    "\n",
    "\n",
    "pd.set_option('display.max_columns', 500)"
   ]
  },
  {
   "cell_type": "markdown",
   "metadata": {},
   "source": [
    "### Retrieve sample data"
   ]
  },
  {
   "cell_type": "code",
   "execution_count": null,
   "metadata": {
    "collapsed": true
   },
   "outputs": [],
   "source": [
    "import pickle\n",
    "df = pickle.load(open('../back_test_sample.sav', 'rb'))\n",
    "df = df.loc[df.date >= datetime.datetime(2018,1,1,0,0).timestamp()].sort_values(['date'], ascending=True)\n",
    "last_row = 0\n",
    "for index, row in df.dropna().iterrows():\n",
    "    ok = True\n",
    "    if last_row == 0:\n",
    "        last_row = row['date']\n",
    "        continue\n",
    "    if row['date'] - last_row  != 14400:\n",
    "        print('Not consistent')\n",
    "        print(row.date)\n",
    "        print(last_row)\n",
    "    #df.loc[df.index==index, 'dif'] = row['date'] - last_row \n",
    "    last_row = row['date']\n",
    "#df[['date', 'dif']]"
   ]
  },
  {
   "cell_type": "code",
   "execution_count": null,
   "metadata": {},
   "outputs": [],
   "source": [
    "plt.hist(df.target_log_return_6, bins=45)\n",
    "plt.hist(df.target_log_return_5, bins=45)\n",
    "plt.hist(df.target_log_return_4, bins=45)\n",
    "plt.hist(df.target_log_return_3, bins=45)\n",
    "plt.hist(df.target_log_return_2, bins=45)\n",
    "plt.hist(df.target_log_return_1, bins=45)\n",
    "plt.show()"
   ]
  },
  {
   "cell_type": "markdown",
   "metadata": {},
   "source": [
    "### Separate features and target variables\n",
    "    - additionaly we define the probability of a non-good target hit stop loss and a good target to hit stop loss are calulated"
   ]
  },
  {
   "cell_type": "code",
   "execution_count": null,
   "metadata": {
    "collapsed": true
   },
   "outputs": [],
   "source": [
    "def get_x_y(target_value, features_df):\n",
    "    targets = ['target_log_return_1', 'target_log_return_2', 'target_log_return_3',\n",
    "                'target_log_return_4', 'target_log_return_5', 'target_log_return_6',]\n",
    "    \n",
    "    mask = (\n",
    "       ((features_df['target_log_return_1'] >= target_value)\n",
    "        | (features_df['target_log_return_2'] >= target_value) \n",
    "        | (features_df['target_log_return_3'] >= target_value) \n",
    "        | (features_df['target_log_return_4'] >= target_value)\n",
    "        | (features_df['target_log_return_5'] >= target_value)\n",
    "        | (features_df['target_log_return_6'] >= target_value))\n",
    "           )\n",
    "    features_df.loc[mask, 'target_sign'] = 1\n",
    "    features_df.loc[~mask, 'target_sign'] = 0\n",
    "    \n",
    "    drop_columns = ['coin', 'date', 'period', \n",
    "                'high', 'low', 'open', 'close', 'volume', 'quote_volume',\n",
    "                'weightedAverage',\n",
    "                'BBUpper', 'BBLower', 'BBMiddle',\n",
    "                'EMA9', 'EMA12', 'EMA26', 'EMA50',\n",
    "                'SMA9', 'SMA12', 'SMA26', 'SMA50',\n",
    "                'target_log_return_1', 'target_log_return_2', 'target_log_return_3',\n",
    "                'target_log_return_4', 'target_log_return_5', 'target_log_return_6'\n",
    "               ]\n",
    "\n",
    "    # Preparing dataframe\n",
    "    clean_df = features_df.drop(drop_columns, axis=1).copy()\n",
    "    # Defining Features (X) and Target Variable (y)\n",
    "    \n",
    "    returns = []\n",
    "    for t in targets:\n",
    "        returns.append(features_df.loc[features_df['target_sign'] == 0][t].values)\n",
    "\n",
    "    flat_missed_list = [item for sublist in returns for item in sublist if not math.isnan(item)]\n",
    "\n",
    "    returns = []\n",
    "    for t in targets:\n",
    "        returns.append(features_df.loc[features_df['target_sign'] == 1][t].values)\n",
    "\n",
    "    flat_list = [item for sublist in returns for item in sublist if not math.isnan(item)]\n",
    "    \n",
    "    \n",
    "    X = clean_df.drop(['target_sign'], axis =1)\n",
    "    y = clean_df[['target_sign']]\n",
    "    \n",
    "    return X, y, flat_missed_list, flat_list\n",
    "    \n",
    "    "
   ]
  },
  {
   "cell_type": "markdown",
   "metadata": {},
   "source": [
    "### Running model"
   ]
  },
  {
   "cell_type": "code",
   "execution_count": null,
   "metadata": {
    "collapsed": true
   },
   "outputs": [],
   "source": [
    "def run_model(X_sample, y_sample, target_value, threshold,  model, scale=True, smote=True):\n",
    "    \n",
    "    if scale:\n",
    "        scaler = MinMaxScaler().fit(X_sample)\n",
    "        X_sample = scaler.transform(X_sample)\n",
    "    # Split Train, Test\n",
    "    X_train, X_test = X_sample[:math.floor(len(X_sample) * 0.75)], X_sample[math.ceil(len(X_sample) * 0.75):]\n",
    "    y_train, y_test = y_sample.iloc[:math.floor(len(y_sample) * 0.75)], y_sample.iloc[math.ceil(len(y_sample) * 0.75):]\n",
    "\n",
    "    if smote:\n",
    "        # Rebalance Samples\n",
    "        oversampler = SMOTE(random_state=42)\n",
    "        X_train, y_train = oversampler.fit_sample(X_train, y_train.target_sign)\n",
    "        \n",
    "    # (Re) define Models\n",
    "    model.fit(X_train, y_train)\n",
    "    predicted_proba = model.predict_proba(X_test)\n",
    "    predicted = (predicted_proba[:, 1] >= threshold).astype('int')\n",
    "    precision = precision_score(y_test, predicted)\n",
    "    train_acc = accuracy_score(y_test, predicted)\n",
    "    return {\n",
    "        'Precision': precision,\n",
    "        'Accuracy': train_acc,\n",
    "        'Trades': np.sum(predicted),\n",
    "        'Real Profits': np.sum(y_test)[0],\n",
    "        'Target': target_value,\n",
    "        'Scaler': scaler,\n",
    "        'Model': model\n",
    "    }"
   ]
  },
  {
   "cell_type": "markdown",
   "metadata": {},
   "source": [
    "### For a given stop loss-take profit value, we define de Expected Return of the model:\n",
    "    - Sum of the given values:\n",
    "        - Precision of the model is right * Probability of not hitting stop loss mark * Take Profit\n",
    "        - Precision of the model is right * Probability of hitting stop loss mark * Stop Loss\n",
    "        - Precision of the model is wrong * Probability of not hitting stop loss mark * Mean Return of Sample\n",
    "        - Precision of the model is wrong * Probability of hitting stop loss mark * Stop Loss"
   ]
  },
  {
   "cell_type": "code",
   "execution_count": null,
   "metadata": {
    "collapsed": true
   },
   "outputs": [],
   "source": [
    "def estimate_best_stop_loss(flat_missed_list, flat_list, TP, P):\n",
    "    risk_free = ((1 + 0.065) ** (1/252) - 1)\n",
    "    simulations = []\n",
    "    ps = 0.05\n",
    "    while ps < 0.60:\n",
    "        SL = np.percentile(flat_missed_list, ps*100)\n",
    "        if SL < - 4 * TP or SL > -0.01 :\n",
    "            ps += 0.05\n",
    "            continue\n",
    "        P_stop_loss_right = len([f for f in flat_list if f <= SL])/len(flat_list)\n",
    "        Mean_return_wrong = np.percentile(flat_missed_list, 10)\n",
    "        ER = P * (1 - P_stop_loss_right) * TP + P * P_stop_loss_right * SL + (1 - P) * (1 - ps) * Mean_return_wrong  + (1 - P) * ps * SL\n",
    "        simulations.append({\n",
    "            'ER': ER,\n",
    "            'Probability Stop Loss Miss': ps,\n",
    "            'Probability Stop Loss Right': P_stop_loss_right,\n",
    "            'Stop_Loss': SL,\n",
    "            'Multiple': ER/risk_free,\n",
    "            'Precision': P,\n",
    "            'Take_profit': TP\n",
    "        })\n",
    "        ps += 0.05\n",
    "    return sorted(simulations, key = lambda i: i['ER'], reverse=True)[0]\n",
    "    "
   ]
  },
  {
   "cell_type": "markdown",
   "metadata": {},
   "source": [
    "### For a given Size of Sample to use in model each step we do the following:\n",
    "     - Run the model (if enough sample)\n",
    "     - Select best parameters (Stop Loss and Take Profit)\n",
    "     - Predict (if Model is good enough)\n",
    "    "
   ]
  },
  {
   "cell_type": "code",
   "execution_count": 7,
   "metadata": {
    "scrolled": true
   },
   "outputs": [],
   "source": [
    "training_window = 75 # days\n",
    "sample_model = training_window * (86400/14400)\n",
    "\n",
    "target_values = [0.01, 0.0125, 0.015, 0.0175, 0.02]\n",
    "threshold = 0.75\n",
    "risk_free = ((1 + 0.065) ** (1/252) - 1)\n",
    "\n",
    "models = {\n",
    "    'Random Forest': RandomForestClassifier(random_state=42),\n",
    "    'Extra Tree': ExtraTreesClassifier(random_state=42),\n",
    "    'Decision Tree': DecisionTreeClassifier(random_state=42),\n",
    "    'Gradient Boost': GradientBoostingClassifier(random_state=42),\n",
    "    'XGBoost': xgb.XGBClassifier(max_depth=8, learning_rate=0.1, n_estimators=300,\n",
    "                        objective= \"binary:logistic\", eval_metric=\"error\", gamma=0.,  #map\n",
    "                        max_delta_step=5, subsample=0.8, colsample_bytree=0.4,\n",
    "                        seed=0, )  \n",
    "}\n",
    "\n",
    "drop_columns = ['coin', 'date', 'period', \n",
    "                'high', 'low', 'open', 'close', 'volume', 'quote_volume',\n",
    "                'weightedAverage',\n",
    "                'BBUpper', 'BBLower', 'BBMiddle',\n",
    "                'EMA9', 'EMA12', 'EMA26', 'EMA50',\n",
    "                'SMA9', 'SMA12', 'SMA26', 'SMA50',\n",
    "                'target_log_return_1', 'target_log_return_2', 'target_log_return_3',\n",
    "                'target_log_return_4', 'target_log_return_5', 'target_log_return_6'\n",
    "               ]\n",
    "\n",
    "\n",
    "back_test = df.copy()\n",
    "for index, row in back_test.iterrows():\n",
    "    signal = 0\n",
    "    current_date = row['date']\n",
    "    base_date = current_date - training_window * 6 * 14400\n",
    "    model_sample = back_test.loc[(back_test.date < current_date)].copy()\n",
    "    if len(model_sample) < sample_model:\n",
    "        continue\n",
    "    \n",
    "    best_model = {'ER': risk_free, 'Model': None}\n",
    "    for target_value in target_values:\n",
    "        X, y, flat_missed_list, flat_list = get_x_y(target_value, model_sample)\n",
    "        model = run_model(X, y, target_value, threshold, models['XGBoost'])\n",
    "        df.loc[df.date == current_date, 'Model_Precision'] = model['Precision']\n",
    "        if model['Precision'] < 0.5:\n",
    "            continue\n",
    "        best_parameters_model = estimate_best_stop_loss(flat_missed_list, flat_list, target_value, model['Precision'])\n",
    "        if best_parameters_model['ER'] > best_model['ER']:\n",
    "            best_model = {\n",
    "                'Model': model,\n",
    "                'ER': best_parameters_model['ER'],\n",
    "                'Best_parameters': best_parameters_model\n",
    "            }\n",
    "        \n",
    "    if best_model['Model'] and best_model['ER'] > risk_free: \n",
    "        X = row.drop(drop_columns)\n",
    "        X = best_model['Model']['Scaler'].transform(X.ravel().reshape(1, -1))\n",
    "        predicted_proba = best_model['Model']['Model'].predict_proba(X)\n",
    "        if predicted_proba[0][1] > threshold:\n",
    "            signal = 1\n",
    "        df.loc[df.date == current_date, 'Model_ER'] = best_model['Best_parameters']['ER']\n",
    "        df.loc[df.date == current_date, 'Model_TP'] = best_model['Best_parameters']['Take_profit']\n",
    "        df.loc[df.date == current_date, 'Model_SL'] = best_model['Best_parameters']['Stop_Loss']\n",
    "        df.loc[df.date == current_date, 'Signal'] = signal\n",
    "        df.loc[df.date == current_date, 'Precision'] = best_model['Model']['Precision']"
   ]
  },
  {
   "cell_type": "code",
   "execution_count": 8,
   "metadata": {
    "collapsed": true
   },
   "outputs": [],
   "source": [
    "has_balance = True\n",
    "book = pd.DataFrame(columns=['date', 'coin', 'value'])\n",
    "orders = pd.DataFrame(columns=['date', 'coin', 'quote', 'volume', \n",
    "                               'take_profit', 'stop_loss', 'status', 'exit', 'exit_quote', 'date_exit'])\n",
    "book.loc[len(book)] = [df.iloc[0].date,'USDT', 100]\n",
    "book.loc[len(book)] = [df.iloc[0].date,'BTC', 0]\n",
    "\n",
    "\n",
    "for index, row in df.iterrows():\n",
    "    balance_usdt = book.loc[book['coin'] == 'USDT'].value.sum()\n",
    "    balance_btc = book.loc[book['coin'] == 'BTC'].value.sum()\n",
    "    open_transactions = orders.loc[(orders['status'] == 'open')]\n",
    "    \n",
    "    for it, rt in open_transactions.iterrows():\n",
    "        if row['close'] <= rt['stop_loss']: # SELL\n",
    "            book.loc[len(book)] = [row.date,'USDT', rt['volume'] * row['close']]\n",
    "            book.loc[len(book)] = [row.date,'BTC', -rt['volume']]\n",
    "            orders.loc[orders.index==it, 'status'] = 'close'\n",
    "            orders.loc[orders.index==it, 'exit'] = np.log(row['close']/rt['quote'])\n",
    "            orders.loc[orders.index==it, 'exit_quote'] = row['close']\n",
    "            orders.loc[orders.index==it, 'date_exit'] = row['date']\n",
    "            \n",
    "        elif row['close'] >= rt['take_profit']: # SELL\n",
    "            book.loc[len(book)] = [row.date,'USDT', rt['volume'] * row['close']]\n",
    "            book.loc[len(book)] = [row.date,'BTC', -rt['volume']]\n",
    "            orders.loc[orders.index==it, 'status'] = 'close'\n",
    "            orders.loc[orders.index==it, 'exit'] = np.log(row['close']/rt['quote'])\n",
    "            orders.loc[orders.index==it, 'exit_quote'] = row['close']\n",
    "            orders.loc[orders.index==it, 'date_exit'] = row['date']\n",
    "            \n",
    "    \n",
    "    if row['Signal'] == 1:\n",
    "        balance_usdt = book.loc[book['coin'] == 'USDT'].value.sum()\n",
    "        if balance_usdt > 0: # CAN BUY\n",
    "            size_coin = (balance_usdt/row['close'])\n",
    "            orders.loc[len(orders)] = [row['date'], 'BTC', row['close'], size_coin,\n",
    "                                       row['Model_TP'], row['Model_SL'], 'open', 0, np.nan, np.nan]\n",
    "            book.loc[len(book)] = [row.date,'USDT', -balance_usdt]\n",
    "            book.loc[len(book)] = [row.date,'BTC', size_coin]\n",
    "    \n",
    "            \n",
    "        "
   ]
  },
  {
   "cell_type": "code",
   "execution_count": 9,
   "metadata": {},
   "outputs": [
    {
     "data": {
      "text/html": [
       "<div>\n",
       "<style scoped>\n",
       "    .dataframe tbody tr th:only-of-type {\n",
       "        vertical-align: middle;\n",
       "    }\n",
       "\n",
       "    .dataframe tbody tr th {\n",
       "        vertical-align: top;\n",
       "    }\n",
       "\n",
       "    .dataframe thead th {\n",
       "        text-align: right;\n",
       "    }\n",
       "</style>\n",
       "<table border=\"1\" class=\"dataframe\">\n",
       "  <thead>\n",
       "    <tr style=\"text-align: right;\">\n",
       "      <th></th>\n",
       "      <th>value</th>\n",
       "    </tr>\n",
       "    <tr>\n",
       "      <th>coin</th>\n",
       "      <th></th>\n",
       "    </tr>\n",
       "  </thead>\n",
       "  <tbody>\n",
       "    <tr>\n",
       "      <th>BTC</th>\n",
       "      <td>0.000000</td>\n",
       "    </tr>\n",
       "    <tr>\n",
       "      <th>USDT</th>\n",
       "      <td>98.470556</td>\n",
       "    </tr>\n",
       "  </tbody>\n",
       "</table>\n",
       "</div>"
      ],
      "text/plain": [
       "          value\n",
       "coin           \n",
       "BTC    0.000000\n",
       "USDT  98.470556"
      ]
     },
     "execution_count": 9,
     "metadata": {},
     "output_type": "execute_result"
    }
   ],
   "source": [
    "book.groupby(['coin']).sum()[['value']]"
   ]
  },
  {
   "cell_type": "code",
   "execution_count": 10,
   "metadata": {},
   "outputs": [
    {
     "data": {
      "text/html": [
       "<div>\n",
       "<style scoped>\n",
       "    .dataframe tbody tr th:only-of-type {\n",
       "        vertical-align: middle;\n",
       "    }\n",
       "\n",
       "    .dataframe tbody tr th {\n",
       "        vertical-align: top;\n",
       "    }\n",
       "\n",
       "    .dataframe thead th {\n",
       "        text-align: right;\n",
       "    }\n",
       "</style>\n",
       "<table border=\"1\" class=\"dataframe\">\n",
       "  <thead>\n",
       "    <tr style=\"text-align: right;\">\n",
       "      <th></th>\n",
       "      <th>date</th>\n",
       "      <th>coin</th>\n",
       "      <th>quote</th>\n",
       "      <th>volume</th>\n",
       "      <th>take_profit</th>\n",
       "      <th>stop_loss</th>\n",
       "      <th>status</th>\n",
       "      <th>exit</th>\n",
       "      <th>exit_quote</th>\n",
       "      <th>date_exit</th>\n",
       "      <th>time_hold</th>\n",
       "    </tr>\n",
       "  </thead>\n",
       "  <tbody>\n",
       "    <tr>\n",
       "      <th>0</th>\n",
       "      <td>2018-05-23 12:00:00</td>\n",
       "      <td>BTC</td>\n",
       "      <td>7708.0</td>\n",
       "      <td>0.012974</td>\n",
       "      <td>0.0125</td>\n",
       "      <td>-0.035905</td>\n",
       "      <td>close</td>\n",
       "      <td>-0.0154126</td>\n",
       "      <td>7590.110447</td>\n",
       "      <td>2018-05-23 16:00:00</td>\n",
       "      <td>04:00:00</td>\n",
       "    </tr>\n",
       "  </tbody>\n",
       "</table>\n",
       "</div>"
      ],
      "text/plain": [
       "                 date coin   quote    volume  take_profit  stop_loss status  \\\n",
       "0 2018-05-23 12:00:00  BTC  7708.0  0.012974       0.0125  -0.035905  close   \n",
       "\n",
       "        exit   exit_quote           date_exit time_hold  \n",
       "0 -0.0154126  7590.110447 2018-05-23 16:00:00  04:00:00  "
      ]
     },
     "execution_count": 10,
     "metadata": {},
     "output_type": "execute_result"
    }
   ],
   "source": [
    "orders['date'] = pd.to_datetime(orders['date'],unit='s')\n",
    "orders['date_exit'] = pd.to_datetime(orders['date_exit'],unit='s')\n",
    "orders['time_hold'] = orders['date_exit'] - orders['date']\n",
    "orders"
   ]
  },
  {
   "cell_type": "code",
   "execution_count": 11,
   "metadata": {},
   "outputs": [
    {
     "data": {
      "text/plain": [
       "0.0"
      ]
     },
     "execution_count": 11,
     "metadata": {},
     "output_type": "execute_result"
    }
   ],
   "source": [
    "len(orders.loc[orders['exit'] > 0])/len(orders)"
   ]
  },
  {
   "cell_type": "code",
   "execution_count": 12,
   "metadata": {},
   "outputs": [],
   "source": [
    "book['date'] = pd.to_datetime(book['date'],unit='s')"
   ]
  },
  {
   "cell_type": "code",
   "execution_count": 13,
   "metadata": {},
   "outputs": [
    {
     "data": {
      "image/png": "[encoded data removed]",
      "text/plain": [
       "<matplotlib.figure.Figure at 0x109babbe0>"
      ]
     },
     "metadata": {},
     "output_type": "display_data"
    }
   ],
   "source": [
    "coin_book = book.loc[(book['coin'] == 'USDT') & (book['value'] >= 0)]\n",
    "plt.plot(coin_book['date'], coin_book['value'])\n",
    "plt.show()"
   ]
  },
  {
   "cell_type": "code",
   "execution_count": 14,
   "metadata": {
    "collapsed": true
   },
   "outputs": [],
   "source": [
    "dif = ((datetime.datetime.fromtimestamp(df.iloc[-1].date) - datetime.datetime(2018,3,1)).days)"
   ]
  },
  {
   "cell_type": "code",
   "execution_count": 15,
   "metadata": {
    "collapsed": true
   },
   "outputs": [],
   "source": [
    "risk_free = ((1 + 0.065) ** (1/252) - 1)"
   ]
  },
  {
   "cell_type": "code",
   "execution_count": 16,
   "metadata": {},
   "outputs": [
    {
     "data": {
      "text/plain": [
       "0.00024993122427763304"
      ]
     },
     "execution_count": 16,
     "metadata": {},
     "output_type": "execute_result"
    }
   ],
   "source": [
    "risk_free"
   ]
  },
  {
   "cell_type": "code",
   "execution_count": null,
   "metadata": {
    "collapsed": true
   },
   "outputs": [],
   "source": [
    "return_dif =  (book.loc[book['coin'] == 'USDT'].groupby(['coin']).sum()[['value']].values[0][0]/100 - 1)"
   ]
  },
  {
   "cell_type": "code",
   "execution_count": null,
   "metadata": {},
   "outputs": [],
   "source": [
    "((1 + return_dif) ** (365/dif) - 1)"
   ]
  },
  {
   "cell_type": "code",
   "execution_count": null,
   "metadata": {},
   "outputs": [],
   "source": [
    "0.065"
   ]
  },
  {
   "cell_type": "code",
   "execution_count": null,
   "metadata": {},
   "outputs": [],
   "source": [
    "plt.plot(df.date, df.Model_Precision)\n",
    "plt.show()"
   ]
  },
  {
   "cell_type": "code",
   "execution_count": null,
   "metadata": {},
   "outputs": [],
   "source": [
    "training_window = 75 # days\n",
    "sample_model = training_window * (86400/14400)\n",
    "target_value = 0.015\n",
    "threshold = 0.75\n",
    "risk_free = ((1 + 0.065) ** (1/252) - 1)\n",
    "\n",
    "models = {\n",
    "    'Random Forest': RandomForestClassifier(random_state=42),\n",
    "    'Extra Tree': ExtraTreesClassifier(random_state=42),\n",
    "    'Decision Tree': DecisionTreeClassifier(random_state=42),\n",
    "    'Gradient Boost': GradientBoostingClassifier(random_state=42),\n",
    "    'XGBoost': xgb.XGBClassifier(max_depth=8, learning_rate=0.1, n_estimators=300,\n",
    "                        objective= \"binary:logistic\", eval_metric=\"error\", gamma=0.,  #map\n",
    "                        max_delta_step=5, subsample=0.8, colsample_bytree=0.4,\n",
    "                        seed=0, )  \n",
    "}\n",
    "\n",
    "\n",
    "back_test = df.copy().sort_values('date')\n",
    "best_model = {'ER': risk_free, 'Model': None}\n",
    "X, y, flat_missed_list, flat_list = get_x_y(target_value, back_test.iloc[:])\n",
    "model = run_model(X, y, target_value, threshold, models['XGBoost'], scale=True, smote=True)\n",
    "print(len(back_test))\n",
    "model"
   ]
  },
  {
   "cell_type": "code",
   "execution_count": null,
   "metadata": {},
   "outputs": [],
   "source": [
    "np.sum(y.target_sign)/len(y)"
   ]
  },
  {
   "cell_type": "code",
   "execution_count": null,
   "metadata": {
    "collapsed": true
   },
   "outputs": [],
   "source": []
  }
 ],
 "metadata": {
  "kernelspec": {
   "display_name": "Python [conda env:cryptocurrency-analysis]",
   "language": "python",
   "name": "conda-env-cryptocurrency-analysis-py"
  },
  "language_info": {
   "codemirror_mode": {
    "name": "ipython",
    "version": 3
   },
   "file_extension": ".py",
   "mimetype": "text/x-python",
   "name": "python",
   "nbconvert_exporter": "python",
   "pygments_lexer": "ipython3",
   "version": "3.6.3"
  }
 },
 "nbformat": 4,
 "nbformat_minor": 2
}
