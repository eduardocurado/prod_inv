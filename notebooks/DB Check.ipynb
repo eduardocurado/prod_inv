{
 "cells": [
  {
   "cell_type": "code",
   "execution_count": 1,
   "metadata": {},
   "outputs": [
    {
     "data": {
      "text/html": [
       "<script>requirejs.config({paths: { 'plotly': ['https://cdn.plot.ly/plotly-latest.min']},});if(!window.Plotly) {{require(['plotly'],function(plotly) {window.Plotly=plotly;});}}</script>"
      ],
      "text/vnd.plotly.v1+html": [
       "<script>requirejs.config({paths: { 'plotly': ['https://cdn.plot.ly/plotly-latest.min']},});if(!window.Plotly) {{require(['plotly'],function(plotly) {window.Plotly=plotly;});}}</script>"
      ]
     },
     "metadata": {},
     "output_type": "display_data"
    }
   ],
   "source": [
    "import math\n",
    "import matplotlib.pyplot as plt\n",
    "from datetime import datetime, timedelta\n",
    "\n",
    "\n",
    "import numpy as np\n",
    "import pandas as pd\n",
    "import pickle\n",
    "from scipy import stats\n",
    "from sqlalchemy import create_engine\n",
    "import plotly.offline as py # graphing library\n",
    "py.init_notebook_mode(connected=True) # plot your graphs offline inside a Jupyter Notebook \n",
    "import plotly.graph_objs as go # web-service for hosting graphs\n",
    "pd.set_option('float_format', '{:f}'.format)\n",
    "fig_size = plt.rcParams[\"figure.figsize\"]\n",
    "fig_size[0] = 12\n",
    "fig_size[1] = 8\n",
    "plt.rcParams[\"figure.figsize\"] = fig_size\n",
    "\n",
    "\n",
    "engine = create_engine('postgresql+psycopg2://postgres@localhost/market')"
   ]
  },
  {
   "cell_type": "code",
   "execution_count": 2,
   "metadata": {},
   "outputs": [],
   "source": [
    "df_ticker24 = pd.read_sql_query('select * from \"ticker\" where period = 86400 order by date',con=engine).drop('id', axis=1)\n",
    "df_ticker4 = pd.read_sql_query('select * from \"ticker\" where period =14400 order by date',con=engine).drop('id', axis=1)\n",
    "df_google = pd.read_sql_query('select * from \"google_trends\" order by date',con=engine).drop('id', axis=1)"
   ]
  },
  {
   "cell_type": "code",
   "execution_count": 7,
   "metadata": {
    "collapsed": true
   },
   "outputs": [],
   "source": [
    "df = df_google.copy()"
   ]
  },
  {
   "cell_type": "code",
   "execution_count": 9,
   "metadata": {},
   "outputs": [
    {
     "name": "stdout",
     "output_type": "stream",
     "text": [
      "Not consistent\n",
      "1536937200\n",
      "1537221600\n",
      "crypto\n",
      "Not consistent\n",
      "1536937200\n",
      "1537221600\n",
      "BTC\n",
      "Not consistent\n",
      "1536937200\n",
      "1537221600\n",
      "LTC\n",
      "Not consistent\n",
      "1536937200\n",
      "1537221600\n",
      "XRP\n",
      "Not consistent\n",
      "1536937200\n",
      "1537221600\n",
      "ETC\n",
      "Not consistent\n",
      "1536937200\n",
      "1537221600\n",
      "DASH\n",
      "Not consistent\n",
      "1536937200\n",
      "1537221600\n",
      "XMR\n",
      "Not consistent\n",
      "1536937200\n",
      "1537221600\n",
      "ETH\n",
      "Not consistent\n",
      "1536937200\n",
      "1537221600\n",
      "STR\n",
      "Not consistent\n",
      "1536937200\n",
      "1537221600\n",
      "EOS\n"
     ]
    }
   ],
   "source": [
    "for c in df.coin.unique():\n",
    "    last_row = 0\n",
    "    df_ticker24_coin = df.loc[df['coin'] == c].sort_values('date')\n",
    "    for index, row in df_ticker24_coin.dropna().iterrows():\n",
    "        ok = True\n",
    "        if last_row == 0:\n",
    "            last_row = row['date']\n",
    "            continue\n",
    "        if row['date'] - last_row  != 3600:\n",
    "            print('Not consistent')\n",
    "            print(last_row)\n",
    "            print(row.date)\n",
    "            print(c)\n",
    "        #df.loc[df.index==index, 'dif'] = row['date'] - last_row \n",
    "        last_row = row['date']"
   ]
  },
  {
   "cell_type": "code",
   "execution_count": 5,
   "metadata": {
    "collapsed": true
   },
   "outputs": [],
   "source": [
    "df_ticker24['date'] = df_ticker24.date.apply(lambda x: datetime.strftime(datetime.fromtimestamp(x), '%Y-%m-%d %H:%M:%S'))"
   ]
  },
  {
   "cell_type": "code",
   "execution_count": null,
   "metadata": {},
   "outputs": [],
   "source": [
    "df_ticker24.head()"
   ]
  },
  {
   "cell_type": "code",
   "execution_count": null,
   "metadata": {},
   "outputs": [],
   "source": [
    "# plotAsset plots assetCode1 from date1 to date2\n",
    "def plotAsset(assetCode1,date1,date2):\n",
    "    asset_df = df_ticker24[(df_ticker24['coin'] == assetCode1) \n",
    "                      & (df_ticker24['date'] > date1) \n",
    "                      & (df_ticker24['date'] < date2)]\n",
    "    # Create a trace\n",
    "    trace1 = go.Scatter(\n",
    "        x = asset_df['date'].values,\n",
    "        y = asset_df['close'].values)\n",
    "\n",
    "    layout = dict(title = \"Closing prices of {}\".format(assetCode1),\n",
    "                  xaxis = dict(title = 'Month'),\n",
    "                  yaxis = dict(title = 'Price (USD)'),)\n",
    "    \n",
    "    data = [trace1]\n",
    "\n",
    "    assetCode1 = 'USDT_ETH'\n",
    "    asset_df = df_ticker24[(df_ticker24['coin'] == assetCode1) \n",
    "                      & (df_ticker24['date'] > date1) \n",
    "                      & (df_ticker24['date'] < date2)]\n",
    "    # Create a trace\n",
    "    trace1 = go.Scatter(\n",
    "        x = asset_df['date'].values,\n",
    "        y = asset_df['close'].values)\n",
    "\n",
    "    layout = dict(title = \"Closing prices of {}\".format(assetCode1),\n",
    "                  xaxis = dict(title = 'Month'),\n",
    "                  yaxis = dict(title = 'Price (USD)'),)\n",
    "    \n",
    "    data1 = [trace1]\n",
    "    py.iplot(dict(data=data, layout=layout), filename='basic-line')\n",
    "    py.iplot(dict(data=data1, layout=layout), filename='basic-line')"
   ]
  },
  {
   "cell_type": "code",
   "execution_count": null,
   "metadata": {},
   "outputs": [],
   "source": [
    "plotAsset('USDT_BTC','2018-01-01','2018-06-01')"
   ]
  },
  {
   "cell_type": "code",
   "execution_count": null,
   "metadata": {
    "collapsed": true
   },
   "outputs": [],
   "source": []
  }
 ],
 "metadata": {
  "kernelspec": {
   "display_name": "Python [conda env:cryptocurrency-analysis]",
   "language": "python",
   "name": "conda-env-cryptocurrency-analysis-py"
  },
  "language_info": {
   "codemirror_mode": {
    "name": "ipython",
    "version": 3
   },
   "file_extension": ".py",
   "mimetype": "text/x-python",
   "name": "python",
   "nbconvert_exporter": "python",
   "pygments_lexer": "ipython3",
   "version": "3.6.3"
  }
 },
 "nbformat": 4,
 "nbformat_minor": 2
}
