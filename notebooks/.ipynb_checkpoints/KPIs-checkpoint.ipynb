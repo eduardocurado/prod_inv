{
 "cells": [
  {
   "cell_type": "code",
   "execution_count": 1,
   "metadata": {},
   "outputs": [],
   "source": [
    "import math\n",
    "import matplotlib.pyplot as plt\n",
    "from datetime import datetime, timedelta\n",
    "\n",
    "\n",
    "import numpy as np\n",
    "import pandas as pd\n",
    "import pickle\n",
    "from scipy import stats\n",
    "from sqlalchemy import create_engine\n",
    "pd.set_option('float_format', '{:f}'.format)\n",
    "fig_size = plt.rcParams[\"figure.figsize\"]\n",
    "fig_size[0] = 12\n",
    "fig_size[1] = 8\n",
    "plt.rcParams[\"figure.figsize\"] = fig_size\n",
    "\n",
    "\n",
    "engine = create_engine('postgresql+psycopg2://postgres@localhost/market')"
   ]
  },
  {
   "cell_type": "code",
   "execution_count": 2,
   "metadata": {},
   "outputs": [],
   "source": [
    "df_balance = pd.read_sql_query('select * from \"balance\" order by date',con=engine).drop('id', axis=1)\n",
    "df_order_book = pd.read_sql_query('select * from \"order_book\" where status !=\\'denied\\' order by date' ,con=engine).drop('id', axis=1)\n",
    "df_ticker = pd.read_sql_query('select * from \"ticker\" where period=14400 order by date',con=engine).drop('id', axis=1)\n",
    "initial_portfolio = df_balance.iloc[0].value"
   ]
  },
  {
   "cell_type": "code",
   "execution_count": 3,
   "metadata": {},
   "outputs": [
    {
     "data": {
      "text/html": [
       "<div>\n",
       "<style scoped>\n",
       "    .dataframe tbody tr th:only-of-type {\n",
       "        vertical-align: middle;\n",
       "    }\n",
       "\n",
       "    .dataframe tbody tr th {\n",
       "        vertical-align: top;\n",
       "    }\n",
       "\n",
       "    .dataframe thead th {\n",
       "        text-align: right;\n",
       "    }\n",
       "</style>\n",
       "<table border=\"1\" class=\"dataframe\">\n",
       "  <thead>\n",
       "    <tr style=\"text-align: right;\">\n",
       "      <th></th>\n",
       "      <th>coin</th>\n",
       "      <th>current_value</th>\n",
       "    </tr>\n",
       "  </thead>\n",
       "  <tbody>\n",
       "    <tr>\n",
       "      <th>0</th>\n",
       "      <td>USDT_XMR</td>\n",
       "      <td>116.029430</td>\n",
       "    </tr>\n",
       "    <tr>\n",
       "      <th>1</th>\n",
       "      <td>USDT_STR</td>\n",
       "      <td>0.250283</td>\n",
       "    </tr>\n",
       "    <tr>\n",
       "      <th>3</th>\n",
       "      <td>USDT_XRP</td>\n",
       "      <td>0.523046</td>\n",
       "    </tr>\n",
       "    <tr>\n",
       "      <th>5</th>\n",
       "      <td>USDT_ETC</td>\n",
       "      <td>11.057258</td>\n",
       "    </tr>\n",
       "    <tr>\n",
       "      <th>7</th>\n",
       "      <td>USDT_DASH</td>\n",
       "      <td>185.603499</td>\n",
       "    </tr>\n",
       "    <tr>\n",
       "      <th>8</th>\n",
       "      <td>USDT_EOS</td>\n",
       "      <td>5.601151</td>\n",
       "    </tr>\n",
       "    <tr>\n",
       "      <th>2</th>\n",
       "      <td>USDT_LTC</td>\n",
       "      <td>62.499948</td>\n",
       "    </tr>\n",
       "    <tr>\n",
       "      <th>4</th>\n",
       "      <td>USDT_ETH</td>\n",
       "      <td>217.580000</td>\n",
       "    </tr>\n",
       "    <tr>\n",
       "      <th>6</th>\n",
       "      <td>USDT_BTC</td>\n",
       "      <td>6497.963013</td>\n",
       "    </tr>\n",
       "  </tbody>\n",
       "</table>\n",
       "</div>"
      ],
      "text/plain": [
       "        coin  current_value\n",
       "0   USDT_XMR     116.029430\n",
       "1   USDT_STR       0.250283\n",
       "3   USDT_XRP       0.523046\n",
       "5   USDT_ETC      11.057258\n",
       "7  USDT_DASH     185.603499\n",
       "8   USDT_EOS       5.601151\n",
       "2   USDT_LTC      62.499948\n",
       "4   USDT_ETH     217.580000\n",
       "6   USDT_BTC    6497.963013"
      ]
     },
     "execution_count": 3,
     "metadata": {},
     "output_type": "execute_result"
    }
   ],
   "source": [
    "current_values = []\n",
    "for t in df_ticker.coin.unique():\n",
    "    current_values.append({\n",
    "        'coin': t,\n",
    "        'date': df_ticker.loc[df_ticker['coin'] == t].sort_values('date').iloc[-1].date,\n",
    "        'current_value': df_ticker.loc[df_ticker['coin'] == t].sort_values('date').iloc[-1].close\n",
    "    })\n",
    "current_values = pd.DataFrame.from_records(current_values).copy().sort_values('date')\n",
    "current_values['date'] = current_values['date'].apply(lambda x: datetime.strftime(datetime.fromtimestamp(x), '%Y-%m-%d %H:%M:%S'))\n",
    "current_values[['coin', 'current_value']]"
   ]
  },
  {
   "cell_type": "code",
   "execution_count": 4,
   "metadata": {
    "collapsed": true
   },
   "outputs": [],
   "source": [
    "now = datetime.now()\n",
    "last_day = now - timedelta(hours=24)"
   ]
  },
  {
   "cell_type": "code",
   "execution_count": 5,
   "metadata": {
    "collapsed": true
   },
   "outputs": [],
   "source": [
    "last_24_balance = df_balance.loc[df_balance['date'] <= last_day.timestamp()]\n",
    "last_24_usdt_holdings = last_24_balance.loc[(last_24_balance['coin'] == 'USDT')].value.sum()\n",
    "last_24_holdings = current_values.drop(['date'], axis=1).merge(last_24_balance.groupby('coin').sum().reset_index()[['coin', 'value']], on=['coin'])\n",
    "last_24_holdings.loc[len(last_24_holdings)] = ['USDT', 1, last_24_usdt_holdings]\n",
    "last_24_holdings['value_usdt'] = last_24_holdings['current_value'] * last_24_holdings['value']"
   ]
  },
  {
   "cell_type": "code",
   "execution_count": 6,
   "metadata": {
    "collapsed": true
   },
   "outputs": [],
   "source": [
    "last_24_total_holdings = last_24_holdings['value_usdt'].sum()\n",
    "last_24_holdings['per_port'] = last_24_holdings['value_usdt'].apply(lambda x: x/last_24_total_holdings)"
   ]
  },
  {
   "cell_type": "code",
   "execution_count": 7,
   "metadata": {},
   "outputs": [
    {
     "name": "stdout",
     "output_type": "stream",
     "text": [
      "------------------\n",
      "All time KPIs\n",
      "------------------\n"
     ]
    }
   ],
   "source": [
    "print('------------------')\n",
    "print('All time KPIs')\n",
    "print('------------------')"
   ]
  },
  {
   "cell_type": "code",
   "execution_count": 8,
   "metadata": {},
   "outputs": [
    {
     "data": {
      "text/html": [
       "<div>\n",
       "<style scoped>\n",
       "    .dataframe tbody tr th:only-of-type {\n",
       "        vertical-align: middle;\n",
       "    }\n",
       "\n",
       "    .dataframe tbody tr th {\n",
       "        vertical-align: top;\n",
       "    }\n",
       "\n",
       "    .dataframe thead th {\n",
       "        text-align: right;\n",
       "    }\n",
       "</style>\n",
       "<table border=\"1\" class=\"dataframe\">\n",
       "  <thead>\n",
       "    <tr style=\"text-align: right;\">\n",
       "      <th></th>\n",
       "      <th>coin</th>\n",
       "      <th>current_value</th>\n",
       "      <th>value</th>\n",
       "      <th>value_usdt</th>\n",
       "    </tr>\n",
       "  </thead>\n",
       "  <tbody>\n",
       "    <tr>\n",
       "      <th>0</th>\n",
       "      <td>USDT_STR</td>\n",
       "      <td>0.250283</td>\n",
       "      <td>0.000000</td>\n",
       "      <td>0.000000</td>\n",
       "    </tr>\n",
       "    <tr>\n",
       "      <th>1</th>\n",
       "      <td>USDT_XRP</td>\n",
       "      <td>0.523046</td>\n",
       "      <td>0.000000</td>\n",
       "      <td>0.000000</td>\n",
       "    </tr>\n",
       "    <tr>\n",
       "      <th>2</th>\n",
       "      <td>USDT_DASH</td>\n",
       "      <td>185.603499</td>\n",
       "      <td>0.000000</td>\n",
       "      <td>0.000000</td>\n",
       "    </tr>\n",
       "    <tr>\n",
       "      <th>3</th>\n",
       "      <td>USDT_ETH</td>\n",
       "      <td>217.580000</td>\n",
       "      <td>0.115194</td>\n",
       "      <td>25.063893</td>\n",
       "    </tr>\n",
       "    <tr>\n",
       "      <th>4</th>\n",
       "      <td>USDT</td>\n",
       "      <td>1.000000</td>\n",
       "      <td>72.301765</td>\n",
       "      <td>72.301765</td>\n",
       "    </tr>\n",
       "  </tbody>\n",
       "</table>\n",
       "</div>"
      ],
      "text/plain": [
       "        coin  current_value     value  value_usdt\n",
       "0   USDT_STR       0.250283  0.000000    0.000000\n",
       "1   USDT_XRP       0.523046  0.000000    0.000000\n",
       "2  USDT_DASH     185.603499  0.000000    0.000000\n",
       "3   USDT_ETH     217.580000  0.115194   25.063893\n",
       "4       USDT       1.000000 72.301765   72.301765"
      ]
     },
     "execution_count": 8,
     "metadata": {},
     "output_type": "execute_result"
    }
   ],
   "source": [
    "holdings = current_values.drop(['date'], axis=1).merge(df_balance.groupby(['coin']).sum().reset_index()[['coin', 'value']], on=['coin'])\n",
    "usdt_holdings = df_balance.loc[(df_balance['coin'] == 'USDT')].value.sum()\n",
    "holdings.loc[len(holdings)] = ['USDT', 1, usdt_holdings]\n",
    "holdings['value_usdt'] = holdings['current_value'] * holdings['value']\n",
    "holdings"
   ]
  },
  {
   "cell_type": "code",
   "execution_count": 11,
   "metadata": {},
   "outputs": [],
   "source": [
    "total_holdings = holdings['value_usdt'].sum()\n",
    "holdings['per_port'] = holdings['value_usdt'].apply(lambda x: x/total_holdings)\n",
    "last_24_change = np.log(total_holdings/last_24_total_holdings)\n",
    "change = np.log(total_holdings/initial_portfolio)\n",
    "holdings = holdings.loc[holdings['per_port'] > 0].copy()"
   ]
  },
  {
   "cell_type": "code",
   "execution_count": 12,
   "metadata": {},
   "outputs": [
    {
     "name": "stdout",
     "output_type": "stream",
     "text": [
      "Total Portfolio Value: $ 97.37\n"
     ]
    },
    {
     "data": {
      "image/png": "[encoded data removed]",
      "text/plain": [
       "<matplotlib.figure.Figure at 0x106cd85c0>"
      ]
     },
     "metadata": {},
     "output_type": "display_data"
    }
   ],
   "source": [
    "print('Total Portfolio Value: $ ' + str(round(total_holdings, 2)))\n",
    "labels = holdings.coin\n",
    "sizes = holdings.per_port\n",
    "fig1, ax1 = plt.subplots()\n",
    "ax1.pie(sizes, labels=labels, autopct='%1.2f%%',\n",
    "        shadow=True, startangle=90)\n",
    "ax1.axis('equal')  # Equal aspect ratio ensures that pie is drawn as a circle.\n",
    "\n",
    "plt.show()"
   ]
  },
  {
   "cell_type": "code",
   "execution_count": 13,
   "metadata": {},
   "outputs": [],
   "source": [
    "df_ticker['date'] = df_ticker.date.apply(lambda x: datetime.strftime(datetime.fromtimestamp(x), '%Y-%m-%d %H:%M:%S'))"
   ]
  },
  {
   "cell_type": "code",
   "execution_count": 14,
   "metadata": {},
   "outputs": [],
   "source": [
    "date1 = '2018-09-25'\n",
    "date2 = '2018-10-01'\n",
    "mydates = pd.date_range(date1, date2, freq='4H').tolist()\n",
    "mydates = [m.strftime('%Y-%m-%d %H:%M:%s') for m in mydates]\n",
    "df_balance = pd.read_sql_query('select * from \"balance\" order by date',con=engine).drop('id', axis=1)\n",
    "df_balance['date'] = df_balance.date.apply(lambda x: datetime.strftime(datetime.fromtimestamp(x), '%Y-%m-%d %H:%M:%S'))\n",
    "df_balance.loc[df_balance['date'] >= '2018-09-26']\n",
    "\n",
    "portfolios = pd.DataFrame(columns=['date', 'value'])\n",
    "for d in mydates[:]:\n",
    "    if d > datetime.now().strftime('%Y-%m-%d %H:%M:%s'):\n",
    "        break\n",
    "    current_values = []\n",
    "    df = df_ticker.loc[df_ticker['date'] <= d].copy()\n",
    "    if df.empty:\n",
    "        continue\n",
    "    \n",
    "    for t in df_ticker.coin.unique():\n",
    "        current_values.append({\n",
    "            'coin': t,\n",
    "            'date': df.loc[df['coin'] == t].sort_values('date').iloc[-1].date,\n",
    "            'current_value': df.loc[df['coin'] == t].sort_values('date').iloc[-1].close\n",
    "        })\n",
    "    current_values = pd.DataFrame.from_records(current_values).copy().sort_values('date')\n",
    "    \n",
    "    holdings = current_values.drop(['date'], axis=1).merge(df_balance.loc[(df_balance['date'] <= d)].groupby(['coin']).sum().reset_index()[['coin', 'value']], on=['coin'])\n",
    "    usdt_holdings = df_balance.loc[(df_balance['coin'] == 'USDT') & (df_balance['date'] <= d)].value.sum()\n",
    "    holdings.loc[len(holdings)] = ['USDT', 1, usdt_holdings]\n",
    "    holdings['value_usdt'] = holdings['current_value'] * holdings['value']    \n",
    "    total_holdings = holdings['value_usdt'].sum()\n",
    "    portfolios.loc[len(portfolios)] = [d, total_holdings]\n",
    "portfolios['date'] = portfolios['date'].apply(lambda x: x[:17])"
   ]
  },
  {
   "cell_type": "code",
   "execution_count": 15,
   "metadata": {},
   "outputs": [
    {
     "name": "stdout",
     "output_type": "stream",
     "text": [
      "Total Portfolio % Change (24 h): -0.52 %\n",
      "Total Portfolio % Change : -2.67 %\n"
     ]
    },
    {
     "data": {
      "image/png": "[encoded data removed]",
      "text/plain": [
       "<matplotlib.figure.Figure at 0x10bbdbf60>"
      ]
     },
     "metadata": {},
     "output_type": "display_data"
    }
   ],
   "source": [
    "plt.plot(portfolios.date, portfolios.value, marker='o',)\n",
    "plt.ylim([90, 105])\n",
    "plt.xticks(rotation=75)\n",
    "print('Total Portfolio % Change (24 h): ' + str(round(last_24_change * 100, 2)) + ' %')\n",
    "print('Total Portfolio % Change : ' + str(round(change * 100, 2)) + ' %')\n",
    "plt.show()"
   ]
  },
  {
   "cell_type": "code",
   "execution_count": 16,
   "metadata": {},
   "outputs": [
    {
     "name": "stdout",
     "output_type": "stream",
     "text": [
      "USDT BALANCE: \n",
      "$ 72.3\n"
     ]
    }
   ],
   "source": [
    "usdt_balance = holdings.loc[holdings['coin'] == 'USDT', 'value_usdt'].iloc[0]\n",
    "print('USDT BALANCE: \\n$ ' + str(round(usdt_balance,2)))"
   ]
  },
  {
   "cell_type": "code",
   "execution_count": 17,
   "metadata": {},
   "outputs": [],
   "source": [
    "df_order_book = pd.read_sql_query('select * from \"order_book\" order by date',con=engine).drop('id', axis=1)\n",
    "df_order_book['date'] = df_order_book['date'].apply(lambda x: datetime.strftime(datetime.fromtimestamp(x), '%Y-%m-%d %H:%M:%S'))\n",
    "df_order_book['date_exit'] = df_order_book['date_exit'].apply(lambda x: x if np.isnan(x)  else datetime.strftime(datetime.fromtimestamp(x), '%Y-%m-%d %H:%M:%S'))\n",
    "df_order_book['profit'] = df_order_book['exit'] * (df_order_book['volume'] * df_order_book['quote'])"
   ]
  },
  {
   "cell_type": "code",
   "execution_count": 18,
   "metadata": {},
   "outputs": [
    {
     "name": "stdout",
     "output_type": "stream",
     "text": [
      "Mean return: -0.016153685060917213\n"
     ]
    },
    {
     "data": {
      "text/html": [
       "<div>\n",
       "<style scoped>\n",
       "    .dataframe tbody tr th:only-of-type {\n",
       "        vertical-align: middle;\n",
       "    }\n",
       "\n",
       "    .dataframe tbody tr th {\n",
       "        vertical-align: top;\n",
       "    }\n",
       "\n",
       "    .dataframe thead th {\n",
       "        text-align: right;\n",
       "    }\n",
       "</style>\n",
       "<table border=\"1\" class=\"dataframe\">\n",
       "  <thead>\n",
       "    <tr style=\"text-align: right;\">\n",
       "      <th></th>\n",
       "      <th>coin</th>\n",
       "      <th>date</th>\n",
       "      <th>quote</th>\n",
       "      <th>volume</th>\n",
       "      <th>stop_loss</th>\n",
       "      <th>take_profit</th>\n",
       "      <th>status</th>\n",
       "      <th>exit</th>\n",
       "      <th>exit_quote</th>\n",
       "      <th>date_exit</th>\n",
       "      <th>profit</th>\n",
       "    </tr>\n",
       "  </thead>\n",
       "  <tbody>\n",
       "    <tr>\n",
       "      <th>0</th>\n",
       "      <td>USDT_STR</td>\n",
       "      <td>2018-09-25 17:00:00</td>\n",
       "      <td>0.253167</td>\n",
       "      <td>98.749141</td>\n",
       "      <td>-0.009583</td>\n",
       "      <td>0.010000</td>\n",
       "      <td>close</td>\n",
       "      <td>-0.014390</td>\n",
       "      <td>0.249550</td>\n",
       "      <td>2018-09-26 17:00:00</td>\n",
       "      <td>-0.359755</td>\n",
       "    </tr>\n",
       "    <tr>\n",
       "      <th>1</th>\n",
       "      <td>USDT_ETH</td>\n",
       "      <td>2018-09-25 17:00:00</td>\n",
       "      <td>219.320000</td>\n",
       "      <td>0.113989</td>\n",
       "      <td>-0.003490</td>\n",
       "      <td>0.010000</td>\n",
       "      <td>close</td>\n",
       "      <td>-0.023664</td>\n",
       "      <td>214.190862</td>\n",
       "      <td>2018-09-26 21:00:00</td>\n",
       "      <td>-0.591609</td>\n",
       "    </tr>\n",
       "    <tr>\n",
       "      <th>2</th>\n",
       "      <td>USDT_ETH</td>\n",
       "      <td>2018-09-25 21:00:00</td>\n",
       "      <td>209.329680</td>\n",
       "      <td>0.119429</td>\n",
       "      <td>-0.003490</td>\n",
       "      <td>0.010000</td>\n",
       "      <td>close</td>\n",
       "      <td>0.039608</td>\n",
       "      <td>217.787150</td>\n",
       "      <td>2018-09-27 01:00:00</td>\n",
       "      <td>0.990195</td>\n",
       "    </tr>\n",
       "    <tr>\n",
       "      <th>3</th>\n",
       "      <td>USDT_ETH</td>\n",
       "      <td>2018-09-26 01:00:00</td>\n",
       "      <td>214.447587</td>\n",
       "      <td>0.116658</td>\n",
       "      <td>-0.003490</td>\n",
       "      <td>0.010000</td>\n",
       "      <td>close</td>\n",
       "      <td>-0.005835</td>\n",
       "      <td>213.200000</td>\n",
       "      <td>2018-09-27 05:00:00</td>\n",
       "      <td>-0.145966</td>\n",
       "    </tr>\n",
       "    <tr>\n",
       "      <th>4</th>\n",
       "      <td>USDT_DASH</td>\n",
       "      <td>2018-09-26 05:00:00</td>\n",
       "      <td>187.600000</td>\n",
       "      <td>0.133262</td>\n",
       "      <td>-0.009432</td>\n",
       "      <td>0.010000</td>\n",
       "      <td>close</td>\n",
       "      <td>-0.010699</td>\n",
       "      <td>185.603499</td>\n",
       "      <td>2018-09-27 09:00:00</td>\n",
       "      <td>-0.267484</td>\n",
       "    </tr>\n",
       "    <tr>\n",
       "      <th>5</th>\n",
       "      <td>USDT_XRP</td>\n",
       "      <td>2018-09-26 05:00:00</td>\n",
       "      <td>0.571835</td>\n",
       "      <td>43.718906</td>\n",
       "      <td>-0.004944</td>\n",
       "      <td>0.010000</td>\n",
       "      <td>close</td>\n",
       "      <td>-0.089182</td>\n",
       "      <td>0.523046</td>\n",
       "      <td>2018-09-27 09:00:00</td>\n",
       "      <td>-2.229541</td>\n",
       "    </tr>\n",
       "    <tr>\n",
       "      <th>6</th>\n",
       "      <td>USDT_XRP</td>\n",
       "      <td>2018-09-26 09:00:00</td>\n",
       "      <td>0.527729</td>\n",
       "      <td>47.372833</td>\n",
       "      <td>-0.004944</td>\n",
       "      <td>0.010000</td>\n",
       "      <td>close</td>\n",
       "      <td>-0.008913</td>\n",
       "      <td>0.523046</td>\n",
       "      <td>2018-09-27 09:00:00</td>\n",
       "      <td>-0.222834</td>\n",
       "    </tr>\n",
       "    <tr>\n",
       "      <th>7</th>\n",
       "      <td>USDT_ETH</td>\n",
       "      <td>2018-09-26 13:00:00</td>\n",
       "      <td>217.025340</td>\n",
       "      <td>0.115194</td>\n",
       "      <td>-0.003490</td>\n",
       "      <td>0.010000</td>\n",
       "      <td>open</td>\n",
       "      <td>nan</td>\n",
       "      <td>nan</td>\n",
       "      <td>NaN</td>\n",
       "      <td>nan</td>\n",
       "    </tr>\n",
       "  </tbody>\n",
       "</table>\n",
       "</div>"
      ],
      "text/plain": [
       "        coin                 date      quote    volume  stop_loss  \\\n",
       "0   USDT_STR  2018-09-25 17:00:00   0.253167 98.749141  -0.009583   \n",
       "1   USDT_ETH  2018-09-25 17:00:00 219.320000  0.113989  -0.003490   \n",
       "2   USDT_ETH  2018-09-25 21:00:00 209.329680  0.119429  -0.003490   \n",
       "3   USDT_ETH  2018-09-26 01:00:00 214.447587  0.116658  -0.003490   \n",
       "4  USDT_DASH  2018-09-26 05:00:00 187.600000  0.133262  -0.009432   \n",
       "5   USDT_XRP  2018-09-26 05:00:00   0.571835 43.718906  -0.004944   \n",
       "6   USDT_XRP  2018-09-26 09:00:00   0.527729 47.372833  -0.004944   \n",
       "7   USDT_ETH  2018-09-26 13:00:00 217.025340  0.115194  -0.003490   \n",
       "\n",
       "   take_profit status      exit  exit_quote            date_exit    profit  \n",
       "0     0.010000  close -0.014390    0.249550  2018-09-26 17:00:00 -0.359755  \n",
       "1     0.010000  close -0.023664  214.190862  2018-09-26 21:00:00 -0.591609  \n",
       "2     0.010000  close  0.039608  217.787150  2018-09-27 01:00:00  0.990195  \n",
       "3     0.010000  close -0.005835  213.200000  2018-09-27 05:00:00 -0.145966  \n",
       "4     0.010000  close -0.010699  185.603499  2018-09-27 09:00:00 -0.267484  \n",
       "5     0.010000  close -0.089182    0.523046  2018-09-27 09:00:00 -2.229541  \n",
       "6     0.010000  close -0.008913    0.523046  2018-09-27 09:00:00 -0.222834  \n",
       "7     0.010000   open       nan         nan                  NaN       nan  "
      ]
     },
     "execution_count": 18,
     "metadata": {},
     "output_type": "execute_result"
    }
   ],
   "source": [
    "print('Mean return: ' + str(df_order_book.exit.mean()))\n",
    "df_order_book.sort_values('date')"
   ]
  },
  {
   "cell_type": "code",
   "execution_count": 19,
   "metadata": {},
   "outputs": [
    {
     "name": "stdout",
     "output_type": "stream",
     "text": [
      "Number of total trades: 7\n",
      "-----------------------------------\n",
      "Number of Take-profits: 1\n",
      "-----------------------------------\n",
      "Number of Stop-loss: 6\n",
      "-----------------------------------\n",
      "Number of Open Trades: 1\n",
      "-----------------------------------\n"
     ]
    }
   ],
   "source": [
    "total_trades = len(df_order_book.loc[~df_order_book['exit'].isnull()])\n",
    "print('Number of total trades: ' + str(total_trades))\n",
    "print('-----------------------------------')\n",
    "total_tp = len(df_order_book.loc[df_order_book['exit'] > 0])\n",
    "print('Number of Take-profits: ' + str(total_tp))\n",
    "print('-----------------------------------')\n",
    "total_sl = len(df_order_book.loc[df_order_book['exit'] < 0])\n",
    "print('Number of Stop-loss: ' + str(total_sl))\n",
    "print('-----------------------------------')\n",
    "total_open = len(df_order_book.loc[df_order_book['exit'].isnull()])\n",
    "print('Number of Open Trades: ' + str(total_open))\n",
    "print('-----------------------------------')"
   ]
  },
  {
   "cell_type": "code",
   "execution_count": null,
   "metadata": {
    "collapsed": true
   },
   "outputs": [],
   "source": []
  },
  {
   "cell_type": "code",
   "execution_count": null,
   "metadata": {
    "collapsed": true
   },
   "outputs": [],
   "source": []
  },
  {
   "cell_type": "code",
   "execution_count": null,
   "metadata": {
    "collapsed": true
   },
   "outputs": [],
   "source": []
  }
 ],
 "metadata": {
  "kernelspec": {
   "display_name": "Python [conda env:cryptocurrency-analysis]",
   "language": "python",
   "name": "conda-env-cryptocurrency-analysis-py"
  },
  "language_info": {
   "codemirror_mode": {
    "name": "ipython",
    "version": 3
   },
   "file_extension": ".py",
   "mimetype": "text/x-python",
   "name": "python",
   "nbconvert_exporter": "python",
   "pygments_lexer": "ipython3",
   "version": "3.6.3"
  }
 },
 "nbformat": 4,
 "nbformat_minor": 2
}
